{
  "nbformat": 4,
  "nbformat_minor": 0,
  "metadata": {
    "colab": {
      "name": "ชื่อคน.ipynb",
      "provenance": [],
      "authorship_tag": "ABX9TyPaiCCt3IbkeegNBb/Tclz+",
      "include_colab_link": true
    },
    "kernelspec": {
      "name": "python3",
      "display_name": "Python 3"
    }
  },
  "cells": [
    {
      "cell_type": "markdown",
      "metadata": {
        "id": "view-in-github",
        "colab_type": "text"
      },
      "source": [
        "<a href=\"https://colab.research.google.com/github/krmonline/PII/blob/main/%E0%B8%8A%E0%B8%B7%E0%B9%88%E0%B8%AD%E0%B8%84%E0%B8%99.ipynb\" target=\"_parent\"><img src=\"https://colab.research.google.com/assets/colab-badge.svg\" alt=\"Open In Colab\"/></a>"
      ]
    },
    {
      "cell_type": "code",
      "metadata": {
        "colab": {
          "base_uri": "https://localhost:8080/"
        },
        "id": "QzTaorpmCgv4",
        "outputId": "657b8670-37b3-42a0-c4ae-8cfb04b422ec"
      },
      "source": [
        "!pip install pythainlp"
      ],
      "execution_count": null,
      "outputs": [
        {
          "output_type": "stream",
          "text": [
            "Collecting pythainlp\n",
            "\u001b[?25l  Downloading https://files.pythonhosted.org/packages/c1/09/1215cb6f6ef0cfc9dbb427a961fda8a47c111955f782f659ca2d38c79adc/pythainlp-2.2.6-py3-none-any.whl (10.6MB)\n",
            "\u001b[K     |████████████████████████████████| 10.6MB 10.9MB/s \n",
            "\u001b[?25hCollecting tinydb>=3.0\n",
            "  Downloading https://files.pythonhosted.org/packages/af/cd/1ce3d93818cdeda0446b8033d21e5f32daeb3a866bbafd878a9a62058a9c/tinydb-4.4.0-py3-none-any.whl\n",
            "Collecting python-crfsuite>=0.9.6\n",
            "\u001b[?25l  Downloading https://files.pythonhosted.org/packages/95/99/869dde6dbf3e0d07a013c8eebfb0a3d30776334e0097f8432b631a9a3a19/python_crfsuite-0.9.7-cp36-cp36m-manylinux1_x86_64.whl (743kB)\n",
            "\u001b[K     |████████████████████████████████| 747kB 42.1MB/s \n",
            "\u001b[?25hRequirement already satisfied: requests>=2.22.0 in /usr/local/lib/python3.6/dist-packages (from pythainlp) (2.23.0)\n",
            "Requirement already satisfied: certifi>=2017.4.17 in /usr/local/lib/python3.6/dist-packages (from requests>=2.22.0->pythainlp) (2020.12.5)\n",
            "Requirement already satisfied: chardet<4,>=3.0.2 in /usr/local/lib/python3.6/dist-packages (from requests>=2.22.0->pythainlp) (3.0.4)\n",
            "Requirement already satisfied: urllib3!=1.25.0,!=1.25.1,<1.26,>=1.21.1 in /usr/local/lib/python3.6/dist-packages (from requests>=2.22.0->pythainlp) (1.24.3)\n",
            "Requirement already satisfied: idna<3,>=2.5 in /usr/local/lib/python3.6/dist-packages (from requests>=2.22.0->pythainlp) (2.10)\n",
            "Installing collected packages: tinydb, python-crfsuite, pythainlp\n",
            "Successfully installed pythainlp-2.2.6 python-crfsuite-0.9.7 tinydb-4.4.0\n",
            "Collecting emoji\n",
            "\u001b[?25l  Downloading https://files.pythonhosted.org/packages/24/fa/b3368f41b95a286f8d300e323449ab4e86b85334c2e0b477e94422b8ed0f/emoji-1.2.0-py3-none-any.whl (131kB)\n",
            "\u001b[K     |████████████████████████████████| 133kB 10.9MB/s \n",
            "\u001b[?25hInstalling collected packages: emoji\n",
            "Successfully installed emoji-1.2.0\n",
            "Collecting deepcut\n",
            "\u001b[?25l  Downloading https://files.pythonhosted.org/packages/ef/f3/ecda1d7dc51da0689b2df3d002541d0d04ac4db02c5d148eca48c8e3d219/deepcut-0.7.0.0-py3-none-any.whl (2.0MB)\n",
            "\u001b[K     |████████████████████████████████| 2.0MB 11.9MB/s \n",
            "\u001b[?25hRequirement already satisfied: pandas in /usr/local/lib/python3.6/dist-packages (from deepcut) (1.1.5)\n",
            "Requirement already satisfied: scikit-learn in /usr/local/lib/python3.6/dist-packages (from deepcut) (0.22.2.post1)\n",
            "Requirement already satisfied: numpy in /usr/local/lib/python3.6/dist-packages (from deepcut) (1.19.5)\n",
            "Requirement already satisfied: tensorflow>=2.0.0 in /usr/local/lib/python3.6/dist-packages (from deepcut) (2.4.1)\n",
            "Requirement already satisfied: scipy in /usr/local/lib/python3.6/dist-packages (from deepcut) (1.4.1)\n",
            "Requirement already satisfied: h5py in /usr/local/lib/python3.6/dist-packages (from deepcut) (2.10.0)\n",
            "Requirement already satisfied: python-dateutil>=2.7.3 in /usr/local/lib/python3.6/dist-packages (from pandas->deepcut) (2.8.1)\n",
            "Requirement already satisfied: pytz>=2017.2 in /usr/local/lib/python3.6/dist-packages (from pandas->deepcut) (2018.9)\n",
            "Requirement already satisfied: joblib>=0.11 in /usr/local/lib/python3.6/dist-packages (from scikit-learn->deepcut) (1.0.0)\n",
            "Requirement already satisfied: typing-extensions~=3.7.4 in /usr/local/lib/python3.6/dist-packages (from tensorflow>=2.0.0->deepcut) (3.7.4.3)\n",
            "Requirement already satisfied: flatbuffers~=1.12.0 in /usr/local/lib/python3.6/dist-packages (from tensorflow>=2.0.0->deepcut) (1.12)\n",
            "Requirement already satisfied: astunparse~=1.6.3 in /usr/local/lib/python3.6/dist-packages (from tensorflow>=2.0.0->deepcut) (1.6.3)\n",
            "Requirement already satisfied: six~=1.15.0 in /usr/local/lib/python3.6/dist-packages (from tensorflow>=2.0.0->deepcut) (1.15.0)\n",
            "Requirement already satisfied: tensorboard~=2.4 in /usr/local/lib/python3.6/dist-packages (from tensorflow>=2.0.0->deepcut) (2.4.1)\n",
            "Requirement already satisfied: protobuf>=3.9.2 in /usr/local/lib/python3.6/dist-packages (from tensorflow>=2.0.0->deepcut) (3.12.4)\n",
            "Requirement already satisfied: google-pasta~=0.2 in /usr/local/lib/python3.6/dist-packages (from tensorflow>=2.0.0->deepcut) (0.2.0)\n",
            "Requirement already satisfied: tensorflow-estimator<2.5.0,>=2.4.0 in /usr/local/lib/python3.6/dist-packages (from tensorflow>=2.0.0->deepcut) (2.4.0)\n",
            "Requirement already satisfied: gast==0.3.3 in /usr/local/lib/python3.6/dist-packages (from tensorflow>=2.0.0->deepcut) (0.3.3)\n",
            "Requirement already satisfied: wrapt~=1.12.1 in /usr/local/lib/python3.6/dist-packages (from tensorflow>=2.0.0->deepcut) (1.12.1)\n",
            "Requirement already satisfied: keras-preprocessing~=1.1.2 in /usr/local/lib/python3.6/dist-packages (from tensorflow>=2.0.0->deepcut) (1.1.2)\n",
            "Requirement already satisfied: wheel~=0.35 in /usr/local/lib/python3.6/dist-packages (from tensorflow>=2.0.0->deepcut) (0.36.2)\n",
            "Requirement already satisfied: absl-py~=0.10 in /usr/local/lib/python3.6/dist-packages (from tensorflow>=2.0.0->deepcut) (0.10.0)\n",
            "Requirement already satisfied: grpcio~=1.32.0 in /usr/local/lib/python3.6/dist-packages (from tensorflow>=2.0.0->deepcut) (1.32.0)\n",
            "Requirement already satisfied: termcolor~=1.1.0 in /usr/local/lib/python3.6/dist-packages (from tensorflow>=2.0.0->deepcut) (1.1.0)\n",
            "Requirement already satisfied: opt-einsum~=3.3.0 in /usr/local/lib/python3.6/dist-packages (from tensorflow>=2.0.0->deepcut) (3.3.0)\n",
            "Requirement already satisfied: tensorboard-plugin-wit>=1.6.0 in /usr/local/lib/python3.6/dist-packages (from tensorboard~=2.4->tensorflow>=2.0.0->deepcut) (1.8.0)\n",
            "Requirement already satisfied: setuptools>=41.0.0 in /usr/local/lib/python3.6/dist-packages (from tensorboard~=2.4->tensorflow>=2.0.0->deepcut) (53.0.0)\n",
            "Requirement already satisfied: google-auth<2,>=1.6.3 in /usr/local/lib/python3.6/dist-packages (from tensorboard~=2.4->tensorflow>=2.0.0->deepcut) (1.25.0)\n",
            "Requirement already satisfied: google-auth-oauthlib<0.5,>=0.4.1 in /usr/local/lib/python3.6/dist-packages (from tensorboard~=2.4->tensorflow>=2.0.0->deepcut) (0.4.2)\n",
            "Requirement already satisfied: markdown>=2.6.8 in /usr/local/lib/python3.6/dist-packages (from tensorboard~=2.4->tensorflow>=2.0.0->deepcut) (3.3.3)\n",
            "Requirement already satisfied: werkzeug>=0.11.15 in /usr/local/lib/python3.6/dist-packages (from tensorboard~=2.4->tensorflow>=2.0.0->deepcut) (1.0.1)\n",
            "Requirement already satisfied: requests<3,>=2.21.0 in /usr/local/lib/python3.6/dist-packages (from tensorboard~=2.4->tensorflow>=2.0.0->deepcut) (2.23.0)\n",
            "Requirement already satisfied: rsa<5,>=3.1.4; python_version >= \"3.6\" in /usr/local/lib/python3.6/dist-packages (from google-auth<2,>=1.6.3->tensorboard~=2.4->tensorflow>=2.0.0->deepcut) (4.7)\n",
            "Requirement already satisfied: cachetools<5.0,>=2.0.0 in /usr/local/lib/python3.6/dist-packages (from google-auth<2,>=1.6.3->tensorboard~=2.4->tensorflow>=2.0.0->deepcut) (4.2.1)\n",
            "Requirement already satisfied: pyasn1-modules>=0.2.1 in /usr/local/lib/python3.6/dist-packages (from google-auth<2,>=1.6.3->tensorboard~=2.4->tensorflow>=2.0.0->deepcut) (0.2.8)\n",
            "Requirement already satisfied: requests-oauthlib>=0.7.0 in /usr/local/lib/python3.6/dist-packages (from google-auth-oauthlib<0.5,>=0.4.1->tensorboard~=2.4->tensorflow>=2.0.0->deepcut) (1.3.0)\n",
            "Requirement already satisfied: importlib-metadata; python_version < \"3.8\" in /usr/local/lib/python3.6/dist-packages (from markdown>=2.6.8->tensorboard~=2.4->tensorflow>=2.0.0->deepcut) (3.4.0)\n",
            "Requirement already satisfied: idna<3,>=2.5 in /usr/local/lib/python3.6/dist-packages (from requests<3,>=2.21.0->tensorboard~=2.4->tensorflow>=2.0.0->deepcut) (2.10)\n",
            "Requirement already satisfied: certifi>=2017.4.17 in /usr/local/lib/python3.6/dist-packages (from requests<3,>=2.21.0->tensorboard~=2.4->tensorflow>=2.0.0->deepcut) (2020.12.5)\n",
            "Requirement already satisfied: chardet<4,>=3.0.2 in /usr/local/lib/python3.6/dist-packages (from requests<3,>=2.21.0->tensorboard~=2.4->tensorflow>=2.0.0->deepcut) (3.0.4)\n",
            "Requirement already satisfied: urllib3!=1.25.0,!=1.25.1,<1.26,>=1.21.1 in /usr/local/lib/python3.6/dist-packages (from requests<3,>=2.21.0->tensorboard~=2.4->tensorflow>=2.0.0->deepcut) (1.24.3)\n",
            "Requirement already satisfied: pyasn1>=0.1.3 in /usr/local/lib/python3.6/dist-packages (from rsa<5,>=3.1.4; python_version >= \"3.6\"->google-auth<2,>=1.6.3->tensorboard~=2.4->tensorflow>=2.0.0->deepcut) (0.4.8)\n",
            "Requirement already satisfied: oauthlib>=3.0.0 in /usr/local/lib/python3.6/dist-packages (from requests-oauthlib>=0.7.0->google-auth-oauthlib<0.5,>=0.4.1->tensorboard~=2.4->tensorflow>=2.0.0->deepcut) (3.1.0)\n",
            "Requirement already satisfied: zipp>=0.5 in /usr/local/lib/python3.6/dist-packages (from importlib-metadata; python_version < \"3.8\"->markdown>=2.6.8->tensorboard~=2.4->tensorflow>=2.0.0->deepcut) (3.4.0)\n",
            "Installing collected packages: deepcut\n",
            "Successfully installed deepcut-0.7.0.0\n"
          ],
          "name": "stdout"
        }
      ]
    },
    {
      "cell_type": "code",
      "metadata": {
        "id": "utq0waE4vGG6"
      },
      "source": [
        "from bs4 import BeautifulSoup\n",
        "import requests\n",
        "import pickle\n",
        "import pandas as pd\n",
        "import tensorflow as tf\n",
        "import matplotlib.pyplot as plt"
      ],
      "execution_count": null,
      "outputs": []
    },
    {
      "cell_type": "markdown",
      "metadata": {
        "id": "u6gGukVsCrA-"
      },
      "source": [
        "#เตรียมชื่อ"
      ]
    },
    {
      "cell_type": "code",
      "metadata": {
        "colab": {
          "base_uri": "https://localhost:8080/"
        },
        "id": "HlO4VW61vrIQ",
        "outputId": "13088446-c3b9-487d-c039-e9150fcd1571"
      },
      "source": [
        "arr_name =  []\n",
        "n = 0\n",
        "for j in range(11):\n",
        "  print(\"\")\n",
        "  url = \"https://www.myhora.com/%E0%B8%94%E0%B8%B9%E0%B8%94%E0%B8%A7%E0%B8%87-%E0%B8%95%E0%B8%B1%E0%B9%89%E0%B8%87%E0%B8%8A%E0%B8%B7%E0%B9%88%E0%B8%AD-%E0%B9%80%E0%B8%9B%E0%B8%A5%E0%B8%B5%E0%B9%88%E0%B8%A2%E0%B8%99%E0%B8%8A%E0%B8%B7%E0%B9%88%E0%B8%AD.aspx?d=5&g=1&b=0&l=%E0%B8%9C%E0%B8%B2%E0%B8%AD%E0%B8%B4%E0%B8%99%E0%B8%97%E0%B8%A3%E0%B9%8C&p=\"+str(j)\n",
        "  r = requests.get(url)\n",
        "  content = BeautifulSoup(r.text).find_all('div',class_='nx_name')\n",
        "  for i in content:\n",
        "    n = n +1\n",
        "    print(n,end=\" \")\n",
        "    name = BeautifulSoup(i.text).find('p').text.strip()\n",
        "    arr_name.append(name)"
      ],
      "execution_count": null,
      "outputs": [
        {
          "output_type": "stream",
          "text": [
            "\n",
            "1 2 3 4 5 6 7 8 9 10 11 12 13 14 15 16 17 18 19 20 21 22 23 24 25 26 27 28 29 30 31 32 33 34 35 36 37 38 39 40 41 42 43 44 45 46 47 48 49 50 \n",
            "51 52 53 54 55 56 57 58 59 60 61 62 63 64 65 66 67 68 69 70 71 72 73 74 75 76 77 78 79 80 81 82 83 84 85 86 87 88 89 90 91 92 93 94 95 96 97 98 99 100 101 102 103 104 105 106 107 108 109 110 111 112 113 114 115 116 117 118 119 120 \n",
            "121 122 123 124 125 126 127 128 129 130 131 132 133 134 135 136 137 138 139 140 141 142 143 144 145 146 147 148 149 150 151 152 153 154 155 156 157 158 159 160 161 162 163 164 165 166 167 168 169 170 \n",
            "171 172 173 174 175 176 177 178 179 180 181 182 183 184 185 186 187 188 189 190 191 192 193 194 195 196 197 198 199 200 201 202 203 204 205 206 207 208 209 210 211 212 213 214 215 216 217 218 219 220 \n",
            "221 222 223 224 225 226 227 228 229 230 231 232 233 234 235 236 237 238 239 240 241 242 243 244 245 246 247 248 249 250 251 252 253 254 255 256 257 258 259 260 261 262 263 264 265 266 267 268 269 270 \n",
            "271 272 273 274 275 276 277 278 279 280 281 282 283 284 285 286 287 288 289 290 291 292 293 294 295 296 297 298 299 300 301 302 303 304 305 306 307 308 309 310 311 312 313 314 315 316 317 318 319 320 \n",
            "321 322 323 324 325 326 327 328 329 330 331 332 333 334 335 336 337 338 339 340 341 342 343 344 345 346 347 348 349 350 351 352 353 354 355 356 357 358 359 360 361 362 363 364 365 366 367 368 369 370 \n",
            "371 372 373 374 375 376 377 378 379 380 381 382 383 384 385 386 387 388 389 390 391 392 393 394 395 396 397 398 399 400 401 402 403 404 405 406 407 408 409 410 411 412 413 414 415 416 417 418 419 420 \n",
            "421 422 423 424 425 426 427 428 429 430 431 432 433 434 435 436 437 438 439 440 441 442 443 444 445 446 447 448 449 450 451 452 453 454 455 456 457 458 459 460 461 462 463 464 465 466 467 468 469 470 \n",
            "471 472 473 474 475 476 477 478 479 480 481 482 483 484 485 486 487 488 489 490 491 492 493 494 495 496 497 498 499 500 501 502 503 504 505 506 507 508 509 510 511 512 513 514 515 516 517 518 519 520 \n",
            "521 522 523 524 525 526 527 528 529 530 531 532 533 534 535 536 537 538 539 540 541 542 543 544 545 546 547 548 549 550 551 552 553 554 555 556 557 558 559 560 561 562 563 564 565 566 567 568 569 570 "
          ],
          "name": "stdout"
        }
      ]
    },
    {
      "cell_type": "code",
      "metadata": {
        "colab": {
          "base_uri": "https://localhost:8080/",
          "height": 204
        },
        "id": "us1rmx2TyCwY",
        "outputId": "98eb1599-4f48-4c3c-ace2-5489c5d26f08"
      },
      "source": [
        "df_name = pd.DataFrame(arr_name,columns=['name'])\n",
        "#df_name.to_csv(\"name.csv\",index=False)\n",
        "df_name.head()"
      ],
      "execution_count": null,
      "outputs": [
        {
          "output_type": "execute_result",
          "data": {
            "text/html": [
              "<div>\n",
              "<style scoped>\n",
              "    .dataframe tbody tr th:only-of-type {\n",
              "        vertical-align: middle;\n",
              "    }\n",
              "\n",
              "    .dataframe tbody tr th {\n",
              "        vertical-align: top;\n",
              "    }\n",
              "\n",
              "    .dataframe thead th {\n",
              "        text-align: right;\n",
              "    }\n",
              "</style>\n",
              "<table border=\"1\" class=\"dataframe\">\n",
              "  <thead>\n",
              "    <tr style=\"text-align: right;\">\n",
              "      <th></th>\n",
              "      <th>name</th>\n",
              "    </tr>\n",
              "  </thead>\n",
              "  <tbody>\n",
              "    <tr>\n",
              "      <th>0</th>\n",
              "      <td>กมลภู</td>\n",
              "    </tr>\n",
              "    <tr>\n",
              "      <th>1</th>\n",
              "      <td>กรกวรรษ</td>\n",
              "    </tr>\n",
              "    <tr>\n",
              "      <th>2</th>\n",
              "      <td>กรณ์</td>\n",
              "    </tr>\n",
              "    <tr>\n",
              "      <th>3</th>\n",
              "      <td>กฤศ</td>\n",
              "    </tr>\n",
              "    <tr>\n",
              "      <th>4</th>\n",
              "      <td>กฤษิกร</td>\n",
              "    </tr>\n",
              "  </tbody>\n",
              "</table>\n",
              "</div>"
            ],
            "text/plain": [
              "      name\n",
              "0    กมลภู\n",
              "1  กรกวรรษ\n",
              "2     กรณ์\n",
              "3      กฤศ\n",
              "4   กฤษิกร"
            ]
          },
          "metadata": {
            "tags": []
          },
          "execution_count": 41
        }
      ]
    },
    {
      "cell_type": "code",
      "metadata": {
        "id": "rXZkHj6VwFnG"
      },
      "source": [
        "CHARS = [\n",
        "  '\\n', ' ', '!', '\"', '#', '$', '%', '&', \"'\", '(', ')', '*', '+',\n",
        "  ',', '-', '.', '/', '0', '1', '2', '3', '4', '5', '6', '7', '8',\n",
        "  '9', ':', ';', '<', '=', '>', '?', '@', 'A', 'B', 'C', 'D', 'E',\n",
        "  'F', 'G', 'H', 'I', 'J', 'K', 'L', 'M', 'N', 'O', 'P', 'Q', 'R',\n",
        "  'S', 'T', 'U', 'V', 'W', 'X', 'Y', 'Z', '[', '\\\\', ']', '^', '_',\n",
        "  'a', 'b', 'c', 'd', 'e', 'f', 'g', 'h', 'i', 'j', 'k', 'l', 'm',\n",
        "  'n', 'o', 'other', 'p', 'q', 'r', 's', 't', 'u', 'v', 'w', 'x', 'y',\n",
        "  'z', '}', '~', 'ก', 'ข', 'ฃ', 'ค', 'ฅ', 'ฆ', 'ง', 'จ', 'ฉ', 'ช',\n",
        "  'ซ', 'ฌ', 'ญ', 'ฎ', 'ฏ', 'ฐ', 'ฑ', 'ฒ', 'ณ', 'ด', 'ต', 'ถ', 'ท',\n",
        "  'ธ', 'น', 'บ', 'ป', 'ผ', 'ฝ', 'พ', 'ฟ', 'ภ', 'ม', 'ย', 'ร', 'ฤ',\n",
        "  'ล', 'ว', 'ศ', 'ษ', 'ส', 'ห', 'ฬ', 'อ', 'ฮ', 'ฯ', 'ะ', 'ั', 'า',\n",
        "  'ำ', 'ิ', 'ี', 'ึ', 'ื', 'ุ', 'ู', 'ฺ', 'เ', 'แ', 'โ', 'ใ', 'ไ',\n",
        "  'ๅ', 'ๆ', '็', '่', '้', '๊', '๋', '์', 'ํ', '๐', '๑', '๒', '๓',\n",
        "  '๔', '๕', '๖', '๗', '๘', '๙', '‘', '’', '\\ufeff'\n",
        "]\n",
        "CHARS_MAP = {v: k for k, v in enumerate(CHARS)}\n",
        "def name2arr(x):\n",
        "  result = \"\"\n",
        "  for i in x:\n",
        "    if i not in CHARS_MAP:\n",
        "      i = '\\ufeff' #OutOfVocab\n",
        "    if result == \"\":\n",
        "      result = str(CHARS_MAP[i])\n",
        "    else:\n",
        "      result = result + \",\" + str(CHARS_MAP[i])\n",
        "  return result"
      ],
      "execution_count": null,
      "outputs": []
    },
    {
      "cell_type": "code",
      "metadata": {
        "id": "7ZvwCOO85NHO"
      },
      "source": [
        "df_name[\"arr_num\"] = df_name.name.apply(name2arr)"
      ],
      "execution_count": null,
      "outputs": []
    },
    {
      "cell_type": "code",
      "metadata": {
        "id": "Y-YiCTgwEh8Z"
      },
      "source": [
        "df_name['label'] = 1"
      ],
      "execution_count": null,
      "outputs": []
    },
    {
      "cell_type": "code",
      "metadata": {
        "colab": {
          "base_uri": "https://localhost:8080/",
          "height": 419
        },
        "id": "lLMcErxlqNJf",
        "outputId": "62ed0820-38eb-4b66-aaa4-6b8b54e59b74"
      },
      "source": [
        "df"
      ],
      "execution_count": null,
      "outputs": [
        {
          "output_type": "execute_result",
          "data": {
            "text/html": [
              "<div>\n",
              "<style scoped>\n",
              "    .dataframe tbody tr th:only-of-type {\n",
              "        vertical-align: middle;\n",
              "    }\n",
              "\n",
              "    .dataframe tbody tr th {\n",
              "        vertical-align: top;\n",
              "    }\n",
              "\n",
              "    .dataframe thead th {\n",
              "        text-align: right;\n",
              "    }\n",
              "</style>\n",
              "<table border=\"1\" class=\"dataframe\">\n",
              "  <thead>\n",
              "    <tr style=\"text-align: right;\">\n",
              "      <th></th>\n",
              "      <th>name</th>\n",
              "      <th>arr_num</th>\n",
              "      <th>label</th>\n",
              "    </tr>\n",
              "  </thead>\n",
              "  <tbody>\n",
              "    <tr>\n",
              "      <th>0</th>\n",
              "      <td>กมลภู</td>\n",
              "      <td>94,126,130,125,149</td>\n",
              "      <td>1</td>\n",
              "    </tr>\n",
              "    <tr>\n",
              "      <th>1</th>\n",
              "      <td>กรกวรรษ</td>\n",
              "      <td>94,128,94,131,128,128,133</td>\n",
              "      <td>1</td>\n",
              "    </tr>\n",
              "    <tr>\n",
              "      <th>2</th>\n",
              "      <td>กรณ์</td>\n",
              "      <td>94,128,112,163</td>\n",
              "      <td>1</td>\n",
              "    </tr>\n",
              "    <tr>\n",
              "      <th>3</th>\n",
              "      <td>กฤศ</td>\n",
              "      <td>94,129,132</td>\n",
              "      <td>1</td>\n",
              "    </tr>\n",
              "    <tr>\n",
              "      <th>4</th>\n",
              "      <td>กฤษิกร</td>\n",
              "      <td>94,129,133,144,94,128</td>\n",
              "      <td>1</td>\n",
              "    </tr>\n",
              "    <tr>\n",
              "      <th>...</th>\n",
              "      <td>...</td>\n",
              "      <td>...</td>\n",
              "      <td>...</td>\n",
              "    </tr>\n",
              "    <tr>\n",
              "      <th>565</th>\n",
              "      <td>ฌัลล์</td>\n",
              "      <td>105,141,130,130,163</td>\n",
              "      <td>1</td>\n",
              "    </tr>\n",
              "    <tr>\n",
              "      <th>566</th>\n",
              "      <td>กมลษัณฑ์</td>\n",
              "      <td>94,126,130,133,141,112,110,163</td>\n",
              "      <td>1</td>\n",
              "    </tr>\n",
              "    <tr>\n",
              "      <th>567</th>\n",
              "      <td>กฤษณพงศ์</td>\n",
              "      <td>94,129,133,112,123,100,132,163</td>\n",
              "      <td>1</td>\n",
              "    </tr>\n",
              "    <tr>\n",
              "      <th>568</th>\n",
              "      <td>เกรียงไกร</td>\n",
              "      <td>151,94,128,145,127,100,155,94,128</td>\n",
              "      <td>1</td>\n",
              "    </tr>\n",
              "    <tr>\n",
              "      <th>569</th>\n",
              "      <td>เกรียงวุฒิ</td>\n",
              "      <td>151,94,128,145,127,100,131,148,111,144</td>\n",
              "      <td>1</td>\n",
              "    </tr>\n",
              "  </tbody>\n",
              "</table>\n",
              "<p>570 rows × 3 columns</p>\n",
              "</div>"
            ],
            "text/plain": [
              "           name                                 arr_num  label\n",
              "0         กมลภู                      94,126,130,125,149      1\n",
              "1       กรกวรรษ               94,128,94,131,128,128,133      1\n",
              "2          กรณ์                          94,128,112,163      1\n",
              "3           กฤศ                              94,129,132      1\n",
              "4        กฤษิกร                   94,129,133,144,94,128      1\n",
              "..          ...                                     ...    ...\n",
              "565       ฌัลล์                     105,141,130,130,163      1\n",
              "566    กมลษัณฑ์          94,126,130,133,141,112,110,163      1\n",
              "567    กฤษณพงศ์          94,129,133,112,123,100,132,163      1\n",
              "568   เกรียงไกร       151,94,128,145,127,100,155,94,128      1\n",
              "569  เกรียงวุฒิ  151,94,128,145,127,100,131,148,111,144      1\n",
              "\n",
              "[570 rows x 3 columns]"
            ]
          },
          "metadata": {
            "tags": []
          },
          "execution_count": 342
        }
      ]
    },
    {
      "cell_type": "code",
      "metadata": {
        "id": "1SBJDQgF7iL5"
      },
      "source": [
        "#df_name.to_csv(\"./name.csv\",index=False)"
      ],
      "execution_count": null,
      "outputs": []
    },
    {
      "cell_type": "markdown",
      "metadata": {
        "id": "gbUEdmWrCyOc"
      },
      "source": [
        "#เตรียมชื่อนามทั่วไป"
      ]
    },
    {
      "cell_type": "code",
      "metadata": {
        "id": "GC0KtChQC4e7"
      },
      "source": [
        "import pythainlp.word_vector\n",
        "import random"
      ],
      "execution_count": null,
      "outputs": []
    },
    {
      "cell_type": "code",
      "metadata": {
        "colab": {
          "base_uri": "https://localhost:8080/"
        },
        "id": "CyC_4Q0pqWtp",
        "outputId": "ac315296-d7eb-45ee-981b-6b85adf9db9b"
      },
      "source": [
        "pythainlp.word_vector.get_model().index2word[:100]"
      ],
      "execution_count": null,
      "outputs": [
        {
          "output_type": "execute_result",
          "data": {
            "text/plain": [
              "['ที่',\n",
              " 'และ',\n",
              " 'เป็น',\n",
              " 'ของ',\n",
              " 'มี',\n",
              " 'ได้',\n",
              " '\"\"\"\"',\n",
              " 'การ',\n",
              " '(',\n",
              " ')',\n",
              " 'โดย',\n",
              " 'ส',\n",
              " 'น',\n",
              " 'กับ',\n",
              " 'จะ',\n",
              " 'ปี',\n",
              " 'ว่า',\n",
              " 'จาก',\n",
              " ',',\n",
              " 'ซึ่ง',\n",
              " 'ให้',\n",
              " '',\n",
              " 'พ.ศ.',\n",
              " 'ไป',\n",
              " '.',\n",
              " 'อ',\n",
              " '-',\n",
              " 'เมื่อ',\n",
              " 'มา',\n",
              " '์',\n",
              " 'หรือ',\n",
              " 'พระ',\n",
              " 'ก็',\n",
              " 'อยู่',\n",
              " 'ร์',\n",
              " 'นี้',\n",
              " 'คือ',\n",
              " 'เ',\n",
              " 'แต่',\n",
              " 'ใช้',\n",
              " 'ค.ศ.',\n",
              " 'ยัง',\n",
              " 'คน',\n",
              " 'ด้วย',\n",
              " 'เขา',\n",
              " 'วันที่',\n",
              " 'ถูก',\n",
              " 'ไม่',\n",
              " 'แห่ง',\n",
              " 'เพื่อ',\n",
              " 'ๆ',\n",
              " 'จึง',\n",
              " 'ทาง',\n",
              " 'ขึ้น',\n",
              " ':',\n",
              " '2',\n",
              " 'ได้รับ',\n",
              " 'นั้น',\n",
              " '1',\n",
              " 'ผู้',\n",
              " 'สามารถ',\n",
              " 'แล้ว',\n",
              " 'ท',\n",
              " 'เมือง',\n",
              " 'ล',\n",
              " 'บ',\n",
              " 'ช',\n",
              " 'กัน',\n",
              " 'ทำให้',\n",
              " '3',\n",
              " 'ประเทศ',\n",
              " 'ถึง',\n",
              " 'ทรง',\n",
              " 'เธอ',\n",
              " 'หนึ่ง',\n",
              " 'ชื่อ',\n",
              " 'เรื่อง',\n",
              " 'เพลง',\n",
              " 'ิ',\n",
              " 'สร้าง',\n",
              " 'ะ',\n",
              " 'ออก',\n",
              " 'ตาม',\n",
              " 'ต่อ',\n",
              " 'เกิด',\n",
              " 'ไทย',\n",
              " 'แบบ',\n",
              " 'ต้อง',\n",
              " '()',\n",
              " 'อีก',\n",
              " 'ทั้ง',\n",
              " 'ต่อมา',\n",
              " 'the',\n",
              " 'ระหว่าง',\n",
              " 'จังหวัด',\n",
              " 'ริ',\n",
              " 'เอ',\n",
              " 'ส่วน',\n",
              " 'ณ',\n",
              " 'ความ']"
            ]
          },
          "metadata": {
            "tags": []
          },
          "execution_count": 344
        }
      ]
    },
    {
      "cell_type": "code",
      "metadata": {
        "colab": {
          "base_uri": "https://localhost:8080/"
        },
        "id": "RA5ZsUVWC96p",
        "outputId": "4b312816-bcf5-49dd-8323-b4a298ba5b2c"
      },
      "source": [
        "model = pythainlp.word_vector.get_model()\n",
        "arr_tmp = []\n",
        "for i  in range(len(df_name)):\n",
        "  nameID = random.randint(0,2000)\n",
        "  name = model.index2word[nameID]\n",
        "  arr_tmp.append(name)\n",
        "print(\"Random general word =\",len(arr_tmp))\n",
        "df2 = pd.DataFrame(arr_tmp,columns=['name'])\n",
        "df2[\"arr_num\"] = df2.name.apply(name2arr) #Check OOV ใน function แล้ว\n",
        "df2['label'] = 0"
      ],
      "execution_count": null,
      "outputs": [
        {
          "output_type": "stream",
          "text": [
            "Random general word = 570\n"
          ],
          "name": "stdout"
        }
      ]
    },
    {
      "cell_type": "markdown",
      "metadata": {
        "id": "jt27RKkZFzGn"
      },
      "source": [
        "#Merge Data"
      ]
    },
    {
      "cell_type": "code",
      "metadata": {
        "colab": {
          "base_uri": "https://localhost:8080/",
          "height": 204
        },
        "id": "0ZBRBinEESaM",
        "outputId": "1f58b736-68cf-4901-f6af-9a80b6191000"
      },
      "source": [
        "df = pd.concat([df_name,df2])\n",
        "df.head()"
      ],
      "execution_count": null,
      "outputs": [
        {
          "output_type": "execute_result",
          "data": {
            "text/html": [
              "<div>\n",
              "<style scoped>\n",
              "    .dataframe tbody tr th:only-of-type {\n",
              "        vertical-align: middle;\n",
              "    }\n",
              "\n",
              "    .dataframe tbody tr th {\n",
              "        vertical-align: top;\n",
              "    }\n",
              "\n",
              "    .dataframe thead th {\n",
              "        text-align: right;\n",
              "    }\n",
              "</style>\n",
              "<table border=\"1\" class=\"dataframe\">\n",
              "  <thead>\n",
              "    <tr style=\"text-align: right;\">\n",
              "      <th></th>\n",
              "      <th>name</th>\n",
              "      <th>arr_num</th>\n",
              "      <th>label</th>\n",
              "    </tr>\n",
              "  </thead>\n",
              "  <tbody>\n",
              "    <tr>\n",
              "      <th>0</th>\n",
              "      <td>กมลภู</td>\n",
              "      <td>94,126,130,125,149</td>\n",
              "      <td>1</td>\n",
              "    </tr>\n",
              "    <tr>\n",
              "      <th>1</th>\n",
              "      <td>กรกวรรษ</td>\n",
              "      <td>94,128,94,131,128,128,133</td>\n",
              "      <td>1</td>\n",
              "    </tr>\n",
              "    <tr>\n",
              "      <th>2</th>\n",
              "      <td>กรณ์</td>\n",
              "      <td>94,128,112,163</td>\n",
              "      <td>1</td>\n",
              "    </tr>\n",
              "    <tr>\n",
              "      <th>3</th>\n",
              "      <td>กฤศ</td>\n",
              "      <td>94,129,132</td>\n",
              "      <td>1</td>\n",
              "    </tr>\n",
              "    <tr>\n",
              "      <th>4</th>\n",
              "      <td>กฤษิกร</td>\n",
              "      <td>94,129,133,144,94,128</td>\n",
              "      <td>1</td>\n",
              "    </tr>\n",
              "  </tbody>\n",
              "</table>\n",
              "</div>"
            ],
            "text/plain": [
              "      name                    arr_num  label\n",
              "0    กมลภู         94,126,130,125,149      1\n",
              "1  กรกวรรษ  94,128,94,131,128,128,133      1\n",
              "2     กรณ์             94,128,112,163      1\n",
              "3      กฤศ                 94,129,132      1\n",
              "4   กฤษิกร      94,129,133,144,94,128      1"
            ]
          },
          "metadata": {
            "tags": []
          },
          "execution_count": 197
        }
      ]
    },
    {
      "cell_type": "code",
      "metadata": {
        "colab": {
          "base_uri": "https://localhost:8080/"
        },
        "id": "9uCkmpzcGZlJ",
        "outputId": "3279456c-49dd-4f0d-d930-d533be4e4733"
      },
      "source": [
        "arr_numID = []\n",
        "maxlen = 0\n",
        "n = 0\n",
        "for i in df.arr_num:\n",
        "  n = n+1\n",
        "  #print(n,i)\n",
        "  arr_tmp = [int(iInt) for iInt in i.split(',')]\n",
        "  #print(arr_tmp)\n",
        "  arr_numID.append(arr_tmp)\n",
        "  #print(i.split(','))\n",
        "  lentmp = len(arr_numID[-1])\n",
        "  if maxlen < lentmp:\n",
        "    maxlen = lentmp\n",
        "maxlen = int(maxlen*1.5)\n",
        "print(maxlen)\n",
        "#ได้ maxlen"
      ],
      "execution_count": null,
      "outputs": [
        {
          "output_type": "stream",
          "text": [
            "22\n"
          ],
          "name": "stdout"
        }
      ]
    },
    {
      "cell_type": "code",
      "metadata": {
        "colab": {
          "base_uri": "https://localhost:8080/"
        },
        "id": "nqzpeX8Hd2Q7",
        "outputId": "37ca87dc-a50d-482a-b067-69bc29169bcf"
      },
      "source": [
        "arr_numID[:5],df.label.values[:5]"
      ],
      "execution_count": null,
      "outputs": [
        {
          "output_type": "execute_result",
          "data": {
            "text/plain": [
              "([[94, 126, 130, 125, 149],\n",
              "  [94, 128, 94, 131, 128, 128, 133],\n",
              "  [94, 128, 112, 163],\n",
              "  [94, 129, 132],\n",
              "  [94, 129, 133, 144, 94, 128]],\n",
              " array([1, 1, 1, 1, 1]))"
            ]
          },
          "metadata": {
            "tags": []
          },
          "execution_count": 230
        }
      ]
    },
    {
      "cell_type": "markdown",
      "metadata": {
        "id": "i5hW5Vl0ITmJ"
      },
      "source": [
        "#แบ่ง Train Test"
      ]
    },
    {
      "cell_type": "code",
      "metadata": {
        "id": "oHNF5-hJIIzv"
      },
      "source": [
        "from sklearn.model_selection import train_test_split"
      ],
      "execution_count": null,
      "outputs": []
    },
    {
      "cell_type": "code",
      "metadata": {
        "id": "KazfcxbpA4yc"
      },
      "source": [
        "X = tf.keras.preprocessing.sequence.pad_sequences(\n",
        "    arr_numID, maxlen=maxlen, dtype='int32', padding='pre',\n",
        "    truncating='pre', value=0.0\n",
        ")\n",
        "y = df.label.values"
      ],
      "execution_count": null,
      "outputs": []
    },
    {
      "cell_type": "code",
      "metadata": {
        "colab": {
          "base_uri": "https://localhost:8080/"
        },
        "id": "I2H0tcaGIci_",
        "outputId": "97290fba-8f22-4f5c-d3d4-4e7d6a2c01c2"
      },
      "source": [
        "X_trainTMP, X_test, y_trainTMP, y_test = train_test_split(X, y, test_size=0.2, random_state=42)\n",
        "X_train, X_valid, y_train, y_valid = train_test_split(X_trainTMP, y_trainTMP, test_size=0.3, random_state=42)\n",
        "X_train.shape,y_train.shape,X_valid.shape,y_valid.shape,X_test.shape,y_test.shape,"
      ],
      "execution_count": null,
      "outputs": [
        {
          "output_type": "execute_result",
          "data": {
            "text/plain": [
              "((638, 22), (638,), (274, 22), (274,), (228, 22), (228,))"
            ]
          },
          "metadata": {
            "tags": []
          },
          "execution_count": 216
        }
      ]
    },
    {
      "cell_type": "code",
      "metadata": {
        "colab": {
          "base_uri": "https://localhost:8080/"
        },
        "id": "PMnRhbPp-AhO",
        "outputId": "bee58bd2-341b-4009-801e-cdb1641619d7"
      },
      "source": [
        "vocab_size = len(CHARS)\n",
        "print(vocab_size)\n",
        "del(model)\n",
        "model = tf.keras.Sequential([\n",
        "    tf.keras.layers.Embedding(vocab_size, 1, input_length=maxlen),\n",
        "    tf.keras.layers.LSTM(1,return_sequences=False),\n",
        "    tf.keras.layers.Dense(1, activation='sigmoid')\n",
        "])\n",
        "model.compile(loss=tf.keras.losses.binary_crossentropy,optimizer='adam',metrics=['accuracy'])\n",
        "model.summary()\n",
        "loss = []\n",
        "val_loss = []\n",
        "acc = []\n",
        "val_acc = []"
      ],
      "execution_count": null,
      "outputs": [
        {
          "output_type": "stream",
          "text": [
            "178\n",
            "Model: \"sequential_23\"\n",
            "_________________________________________________________________\n",
            "Layer (type)                 Output Shape              Param #   \n",
            "=================================================================\n",
            "embedding_24 (Embedding)     (None, 22, 1)             178       \n",
            "_________________________________________________________________\n",
            "lstm_22 (LSTM)               (None, 1)                 12        \n",
            "_________________________________________________________________\n",
            "dense_30 (Dense)             (None, 1)                 2         \n",
            "=================================================================\n",
            "Total params: 192\n",
            "Trainable params: 192\n",
            "Non-trainable params: 0\n",
            "_________________________________________________________________\n"
          ],
          "name": "stdout"
        }
      ]
    },
    {
      "cell_type": "code",
      "metadata": {
        "colab": {
          "base_uri": "https://localhost:8080/"
        },
        "id": "pSpoRc2YB9ow",
        "outputId": "f1c5e932-56b7-4b73-b4cb-1ec00a9594f9"
      },
      "source": [
        "history_tmp = model.fit(X_train,y_train,epochs=100,validation_data=(X_valid,y_valid),verbose=1)"
      ],
      "execution_count": null,
      "outputs": [
        {
          "output_type": "stream",
          "text": [
            "Epoch 1/100\n",
            "20/20 [==============================] - 0s 15ms/step - loss: 0.2651 - accuracy: 0.9122 - val_loss: 0.2745 - val_accuracy: 0.9015\n",
            "Epoch 2/100\n",
            "20/20 [==============================] - 0s 13ms/step - loss: 0.2641 - accuracy: 0.9122 - val_loss: 0.2734 - val_accuracy: 0.9088\n",
            "Epoch 3/100\n",
            "20/20 [==============================] - 0s 13ms/step - loss: 0.2631 - accuracy: 0.9138 - val_loss: 0.2726 - val_accuracy: 0.9088\n",
            "Epoch 4/100\n",
            "20/20 [==============================] - 0s 14ms/step - loss: 0.2624 - accuracy: 0.9154 - val_loss: 0.2716 - val_accuracy: 0.9088\n",
            "Epoch 5/100\n",
            "20/20 [==============================] - 0s 13ms/step - loss: 0.2612 - accuracy: 0.9154 - val_loss: 0.2706 - val_accuracy: 0.9088\n",
            "Epoch 6/100\n",
            "20/20 [==============================] - 0s 13ms/step - loss: 0.2601 - accuracy: 0.9169 - val_loss: 0.2696 - val_accuracy: 0.9088\n",
            "Epoch 7/100\n",
            "20/20 [==============================] - 0s 12ms/step - loss: 0.2593 - accuracy: 0.9185 - val_loss: 0.2684 - val_accuracy: 0.9088\n",
            "Epoch 8/100\n",
            "20/20 [==============================] - 0s 13ms/step - loss: 0.2586 - accuracy: 0.9154 - val_loss: 0.2664 - val_accuracy: 0.9051\n",
            "Epoch 9/100\n",
            "20/20 [==============================] - 0s 13ms/step - loss: 0.2577 - accuracy: 0.9185 - val_loss: 0.2674 - val_accuracy: 0.9051\n",
            "Epoch 10/100\n",
            "20/20 [==============================] - 0s 13ms/step - loss: 0.2565 - accuracy: 0.9138 - val_loss: 0.2663 - val_accuracy: 0.9051\n",
            "Epoch 11/100\n",
            "20/20 [==============================] - 0s 13ms/step - loss: 0.2562 - accuracy: 0.9138 - val_loss: 0.2645 - val_accuracy: 0.9015\n",
            "Epoch 12/100\n",
            "20/20 [==============================] - 0s 13ms/step - loss: 0.2549 - accuracy: 0.9201 - val_loss: 0.2639 - val_accuracy: 0.9015\n",
            "Epoch 13/100\n",
            "20/20 [==============================] - 0s 13ms/step - loss: 0.2539 - accuracy: 0.9201 - val_loss: 0.2643 - val_accuracy: 0.9051\n",
            "Epoch 14/100\n",
            "20/20 [==============================] - 0s 12ms/step - loss: 0.2532 - accuracy: 0.9154 - val_loss: 0.2626 - val_accuracy: 0.9051\n",
            "Epoch 15/100\n",
            "20/20 [==============================] - 0s 14ms/step - loss: 0.2522 - accuracy: 0.9154 - val_loss: 0.2625 - val_accuracy: 0.9051\n",
            "Epoch 16/100\n",
            "20/20 [==============================] - 0s 13ms/step - loss: 0.2516 - accuracy: 0.9169 - val_loss: 0.2603 - val_accuracy: 0.9015\n",
            "Epoch 17/100\n",
            "20/20 [==============================] - 0s 13ms/step - loss: 0.2511 - accuracy: 0.9169 - val_loss: 0.2607 - val_accuracy: 0.9051\n",
            "Epoch 18/100\n",
            "20/20 [==============================] - 0s 13ms/step - loss: 0.2497 - accuracy: 0.9185 - val_loss: 0.2591 - val_accuracy: 0.9015\n",
            "Epoch 19/100\n",
            "20/20 [==============================] - 0s 13ms/step - loss: 0.2490 - accuracy: 0.9201 - val_loss: 0.2577 - val_accuracy: 0.9015\n",
            "Epoch 20/100\n",
            "20/20 [==============================] - 0s 13ms/step - loss: 0.2483 - accuracy: 0.9169 - val_loss: 0.2582 - val_accuracy: 0.9015\n",
            "Epoch 21/100\n",
            "20/20 [==============================] - 0s 13ms/step - loss: 0.2487 - accuracy: 0.9138 - val_loss: 0.2577 - val_accuracy: 0.9015\n",
            "Epoch 22/100\n",
            "20/20 [==============================] - 0s 13ms/step - loss: 0.2479 - accuracy: 0.9185 - val_loss: 0.2554 - val_accuracy: 0.8978\n",
            "Epoch 23/100\n",
            "20/20 [==============================] - 0s 13ms/step - loss: 0.2464 - accuracy: 0.9138 - val_loss: 0.2575 - val_accuracy: 0.9015\n",
            "Epoch 24/100\n",
            "20/20 [==============================] - 0s 13ms/step - loss: 0.2456 - accuracy: 0.9216 - val_loss: 0.2547 - val_accuracy: 0.8942\n",
            "Epoch 25/100\n",
            "20/20 [==============================] - 0s 13ms/step - loss: 0.2449 - accuracy: 0.9154 - val_loss: 0.2540 - val_accuracy: 0.8942\n",
            "Epoch 26/100\n",
            "20/20 [==============================] - 0s 13ms/step - loss: 0.2438 - accuracy: 0.9169 - val_loss: 0.2540 - val_accuracy: 0.9015\n",
            "Epoch 27/100\n",
            "20/20 [==============================] - 0s 13ms/step - loss: 0.2432 - accuracy: 0.9185 - val_loss: 0.2528 - val_accuracy: 0.8942\n",
            "Epoch 28/100\n",
            "20/20 [==============================] - 0s 13ms/step - loss: 0.2424 - accuracy: 0.9201 - val_loss: 0.2525 - val_accuracy: 0.8978\n",
            "Epoch 29/100\n",
            "20/20 [==============================] - 0s 13ms/step - loss: 0.2417 - accuracy: 0.9185 - val_loss: 0.2524 - val_accuracy: 0.8978\n",
            "Epoch 30/100\n",
            "20/20 [==============================] - 0s 14ms/step - loss: 0.2412 - accuracy: 0.9201 - val_loss: 0.2500 - val_accuracy: 0.8942\n",
            "Epoch 31/100\n",
            "20/20 [==============================] - 0s 13ms/step - loss: 0.2412 - accuracy: 0.9154 - val_loss: 0.2521 - val_accuracy: 0.9015\n",
            "Epoch 32/100\n",
            "20/20 [==============================] - 0s 12ms/step - loss: 0.2405 - accuracy: 0.9185 - val_loss: 0.2505 - val_accuracy: 0.8978\n",
            "Epoch 33/100\n",
            "20/20 [==============================] - 0s 13ms/step - loss: 0.2396 - accuracy: 0.9169 - val_loss: 0.2491 - val_accuracy: 0.8942\n",
            "Epoch 34/100\n",
            "20/20 [==============================] - 0s 14ms/step - loss: 0.2386 - accuracy: 0.9169 - val_loss: 0.2496 - val_accuracy: 0.8978\n",
            "Epoch 35/100\n",
            "20/20 [==============================] - 0s 13ms/step - loss: 0.2379 - accuracy: 0.9216 - val_loss: 0.2493 - val_accuracy: 0.8978\n",
            "Epoch 36/100\n",
            "20/20 [==============================] - 0s 14ms/step - loss: 0.2375 - accuracy: 0.9201 - val_loss: 0.2469 - val_accuracy: 0.8942\n",
            "Epoch 37/100\n",
            "20/20 [==============================] - 0s 12ms/step - loss: 0.2366 - accuracy: 0.9216 - val_loss: 0.2486 - val_accuracy: 0.8978\n",
            "Epoch 38/100\n",
            "20/20 [==============================] - 0s 13ms/step - loss: 0.2379 - accuracy: 0.9185 - val_loss: 0.2458 - val_accuracy: 0.8942\n",
            "Epoch 39/100\n",
            "20/20 [==============================] - 0s 13ms/step - loss: 0.2357 - accuracy: 0.9201 - val_loss: 0.2481 - val_accuracy: 0.9015\n",
            "Epoch 40/100\n",
            "20/20 [==============================] - 0s 13ms/step - loss: 0.2354 - accuracy: 0.9185 - val_loss: 0.2469 - val_accuracy: 0.8978\n",
            "Epoch 41/100\n",
            "20/20 [==============================] - 0s 12ms/step - loss: 0.2365 - accuracy: 0.9216 - val_loss: 0.2433 - val_accuracy: 0.8978\n",
            "Epoch 42/100\n",
            "20/20 [==============================] - 0s 13ms/step - loss: 0.2343 - accuracy: 0.9248 - val_loss: 0.2468 - val_accuracy: 0.9051\n",
            "Epoch 43/100\n",
            "20/20 [==============================] - 0s 13ms/step - loss: 0.2336 - accuracy: 0.9248 - val_loss: 0.2427 - val_accuracy: 0.8942\n",
            "Epoch 44/100\n",
            "20/20 [==============================] - 0s 14ms/step - loss: 0.2328 - accuracy: 0.9248 - val_loss: 0.2448 - val_accuracy: 0.9015\n",
            "Epoch 45/100\n",
            "20/20 [==============================] - 0s 13ms/step - loss: 0.2330 - accuracy: 0.9185 - val_loss: 0.2448 - val_accuracy: 0.9088\n",
            "Epoch 46/100\n",
            "20/20 [==============================] - 0s 13ms/step - loss: 0.2312 - accuracy: 0.9248 - val_loss: 0.2407 - val_accuracy: 0.8978\n",
            "Epoch 47/100\n",
            "20/20 [==============================] - 0s 12ms/step - loss: 0.2320 - accuracy: 0.9248 - val_loss: 0.2443 - val_accuracy: 0.9088\n",
            "Epoch 48/100\n",
            "20/20 [==============================] - 0s 13ms/step - loss: 0.2327 - accuracy: 0.9248 - val_loss: 0.2426 - val_accuracy: 0.9088\n",
            "Epoch 49/100\n",
            "20/20 [==============================] - 0s 13ms/step - loss: 0.2309 - accuracy: 0.9232 - val_loss: 0.2449 - val_accuracy: 0.9124\n",
            "Epoch 50/100\n",
            "20/20 [==============================] - 0s 13ms/step - loss: 0.2311 - accuracy: 0.9248 - val_loss: 0.2406 - val_accuracy: 0.9015\n",
            "Epoch 51/100\n",
            "20/20 [==============================] - 0s 13ms/step - loss: 0.2295 - accuracy: 0.9216 - val_loss: 0.2430 - val_accuracy: 0.9088\n",
            "Epoch 52/100\n",
            "20/20 [==============================] - 0s 14ms/step - loss: 0.2289 - accuracy: 0.9248 - val_loss: 0.2399 - val_accuracy: 0.9051\n",
            "Epoch 53/100\n",
            "20/20 [==============================] - 0s 12ms/step - loss: 0.2283 - accuracy: 0.9263 - val_loss: 0.2394 - val_accuracy: 0.9051\n",
            "Epoch 54/100\n",
            "20/20 [==============================] - 0s 14ms/step - loss: 0.2279 - accuracy: 0.9263 - val_loss: 0.2397 - val_accuracy: 0.9088\n",
            "Epoch 55/100\n",
            "20/20 [==============================] - 0s 14ms/step - loss: 0.2274 - accuracy: 0.9263 - val_loss: 0.2393 - val_accuracy: 0.9088\n",
            "Epoch 56/100\n",
            "20/20 [==============================] - 0s 13ms/step - loss: 0.2272 - accuracy: 0.9263 - val_loss: 0.2381 - val_accuracy: 0.9051\n",
            "Epoch 57/100\n",
            "20/20 [==============================] - 0s 13ms/step - loss: 0.2272 - accuracy: 0.9232 - val_loss: 0.2396 - val_accuracy: 0.9088\n",
            "Epoch 58/100\n",
            "20/20 [==============================] - 0s 13ms/step - loss: 0.2264 - accuracy: 0.9279 - val_loss: 0.2384 - val_accuracy: 0.9088\n",
            "Epoch 59/100\n",
            "20/20 [==============================] - 0s 14ms/step - loss: 0.2254 - accuracy: 0.9263 - val_loss: 0.2387 - val_accuracy: 0.9088\n",
            "Epoch 60/100\n",
            "20/20 [==============================] - 0s 13ms/step - loss: 0.2256 - accuracy: 0.9295 - val_loss: 0.2365 - val_accuracy: 0.9088\n",
            "Epoch 61/100\n",
            "20/20 [==============================] - 0s 13ms/step - loss: 0.2265 - accuracy: 0.9263 - val_loss: 0.2369 - val_accuracy: 0.9124\n",
            "Epoch 62/100\n",
            "20/20 [==============================] - 0s 13ms/step - loss: 0.2247 - accuracy: 0.9263 - val_loss: 0.2351 - val_accuracy: 0.9051\n",
            "Epoch 63/100\n",
            "20/20 [==============================] - 0s 12ms/step - loss: 0.2238 - accuracy: 0.9279 - val_loss: 0.2373 - val_accuracy: 0.9088\n",
            "Epoch 64/100\n",
            "20/20 [==============================] - 0s 14ms/step - loss: 0.2239 - accuracy: 0.9263 - val_loss: 0.2383 - val_accuracy: 0.9124\n",
            "Epoch 65/100\n",
            "20/20 [==============================] - 0s 14ms/step - loss: 0.2233 - accuracy: 0.9279 - val_loss: 0.2358 - val_accuracy: 0.9124\n",
            "Epoch 66/100\n",
            "20/20 [==============================] - 0s 13ms/step - loss: 0.2228 - accuracy: 0.9295 - val_loss: 0.2361 - val_accuracy: 0.9124\n",
            "Epoch 67/100\n",
            "20/20 [==============================] - 0s 13ms/step - loss: 0.2224 - accuracy: 0.9295 - val_loss: 0.2357 - val_accuracy: 0.9124\n",
            "Epoch 68/100\n",
            "20/20 [==============================] - 0s 14ms/step - loss: 0.2222 - accuracy: 0.9310 - val_loss: 0.2361 - val_accuracy: 0.9124\n",
            "Epoch 69/100\n",
            "20/20 [==============================] - 0s 13ms/step - loss: 0.2221 - accuracy: 0.9295 - val_loss: 0.2337 - val_accuracy: 0.9088\n",
            "Epoch 70/100\n",
            "20/20 [==============================] - 0s 13ms/step - loss: 0.2223 - accuracy: 0.9279 - val_loss: 0.2370 - val_accuracy: 0.9088\n",
            "Epoch 71/100\n",
            "20/20 [==============================] - 0s 14ms/step - loss: 0.2212 - accuracy: 0.9279 - val_loss: 0.2358 - val_accuracy: 0.9124\n",
            "Epoch 72/100\n",
            "20/20 [==============================] - 0s 13ms/step - loss: 0.2212 - accuracy: 0.9310 - val_loss: 0.2334 - val_accuracy: 0.9088\n",
            "Epoch 73/100\n",
            "20/20 [==============================] - 0s 16ms/step - loss: 0.2200 - accuracy: 0.9295 - val_loss: 0.2359 - val_accuracy: 0.9088\n",
            "Epoch 74/100\n",
            "20/20 [==============================] - 0s 13ms/step - loss: 0.2199 - accuracy: 0.9248 - val_loss: 0.2348 - val_accuracy: 0.9161\n",
            "Epoch 75/100\n",
            "20/20 [==============================] - 0s 13ms/step - loss: 0.2198 - accuracy: 0.9310 - val_loss: 0.2328 - val_accuracy: 0.9124\n",
            "Epoch 76/100\n",
            "20/20 [==============================] - 0s 13ms/step - loss: 0.2202 - accuracy: 0.9263 - val_loss: 0.2334 - val_accuracy: 0.9124\n",
            "Epoch 77/100\n",
            "20/20 [==============================] - 0s 14ms/step - loss: 0.2188 - accuracy: 0.9326 - val_loss: 0.2329 - val_accuracy: 0.9124\n",
            "Epoch 78/100\n",
            "20/20 [==============================] - 0s 13ms/step - loss: 0.2185 - accuracy: 0.9326 - val_loss: 0.2328 - val_accuracy: 0.9124\n",
            "Epoch 79/100\n",
            "20/20 [==============================] - 1s 49ms/step - loss: 0.2187 - accuracy: 0.9263 - val_loss: 0.2337 - val_accuracy: 0.9088\n",
            "Epoch 80/100\n",
            "20/20 [==============================] - 0s 13ms/step - loss: 0.2187 - accuracy: 0.9326 - val_loss: 0.2309 - val_accuracy: 0.9088\n",
            "Epoch 81/100\n",
            "20/20 [==============================] - 0s 12ms/step - loss: 0.2178 - accuracy: 0.9248 - val_loss: 0.2368 - val_accuracy: 0.9088\n",
            "Epoch 82/100\n",
            "20/20 [==============================] - 0s 13ms/step - loss: 0.2181 - accuracy: 0.9295 - val_loss: 0.2322 - val_accuracy: 0.9124\n",
            "Epoch 83/100\n",
            "20/20 [==============================] - 0s 13ms/step - loss: 0.2168 - accuracy: 0.9310 - val_loss: 0.2310 - val_accuracy: 0.9124\n",
            "Epoch 84/100\n",
            "20/20 [==============================] - 0s 13ms/step - loss: 0.2169 - accuracy: 0.9326 - val_loss: 0.2328 - val_accuracy: 0.9124\n",
            "Epoch 85/100\n",
            "20/20 [==============================] - 0s 14ms/step - loss: 0.2168 - accuracy: 0.9279 - val_loss: 0.2333 - val_accuracy: 0.9124\n",
            "Epoch 86/100\n",
            "20/20 [==============================] - 0s 12ms/step - loss: 0.2175 - accuracy: 0.9295 - val_loss: 0.2324 - val_accuracy: 0.9124\n",
            "Epoch 87/100\n",
            "20/20 [==============================] - 0s 14ms/step - loss: 0.2158 - accuracy: 0.9310 - val_loss: 0.2296 - val_accuracy: 0.9124\n",
            "Epoch 88/100\n",
            "20/20 [==============================] - 0s 13ms/step - loss: 0.2165 - accuracy: 0.9248 - val_loss: 0.2346 - val_accuracy: 0.9124\n",
            "Epoch 89/100\n",
            "20/20 [==============================] - 0s 14ms/step - loss: 0.2158 - accuracy: 0.9326 - val_loss: 0.2305 - val_accuracy: 0.9124\n",
            "Epoch 90/100\n",
            "20/20 [==============================] - 0s 13ms/step - loss: 0.2153 - accuracy: 0.9310 - val_loss: 0.2317 - val_accuracy: 0.9124\n",
            "Epoch 91/100\n",
            "20/20 [==============================] - 0s 13ms/step - loss: 0.2155 - accuracy: 0.9326 - val_loss: 0.2330 - val_accuracy: 0.9088\n",
            "Epoch 92/100\n",
            "20/20 [==============================] - 0s 15ms/step - loss: 0.2155 - accuracy: 0.9263 - val_loss: 0.2322 - val_accuracy: 0.9088\n",
            "Epoch 93/100\n",
            "20/20 [==============================] - 0s 13ms/step - loss: 0.2140 - accuracy: 0.9326 - val_loss: 0.2293 - val_accuracy: 0.9124\n",
            "Epoch 94/100\n",
            "20/20 [==============================] - 0s 13ms/step - loss: 0.2142 - accuracy: 0.9326 - val_loss: 0.2305 - val_accuracy: 0.9088\n",
            "Epoch 95/100\n",
            "20/20 [==============================] - 0s 14ms/step - loss: 0.2144 - accuracy: 0.9342 - val_loss: 0.2317 - val_accuracy: 0.9088\n",
            "Epoch 96/100\n",
            "20/20 [==============================] - 0s 13ms/step - loss: 0.2133 - accuracy: 0.9326 - val_loss: 0.2304 - val_accuracy: 0.9051\n",
            "Epoch 97/100\n",
            "20/20 [==============================] - 0s 13ms/step - loss: 0.2131 - accuracy: 0.9310 - val_loss: 0.2329 - val_accuracy: 0.9124\n",
            "Epoch 98/100\n",
            "20/20 [==============================] - 0s 13ms/step - loss: 0.2135 - accuracy: 0.9326 - val_loss: 0.2287 - val_accuracy: 0.9124\n",
            "Epoch 99/100\n",
            "20/20 [==============================] - 0s 13ms/step - loss: 0.2126 - accuracy: 0.9326 - val_loss: 0.2339 - val_accuracy: 0.9124\n",
            "Epoch 100/100\n",
            "20/20 [==============================] - 0s 13ms/step - loss: 0.2129 - accuracy: 0.9295 - val_loss: 0.2316 - val_accuracy: 0.9124\n"
          ],
          "name": "stdout"
        }
      ]
    },
    {
      "cell_type": "code",
      "metadata": {
        "id": "dGhsLGhtJz_7"
      },
      "source": [
        "loss.extend(history_tmp.history['loss'])\n",
        "val_loss.extend(history_tmp.history['val_loss'])\n",
        "acc.extend(history_tmp.history['accuracy'])\n",
        "val_acc.extend(history_tmp.history['val_accuracy'])"
      ],
      "execution_count": null,
      "outputs": []
    },
    {
      "cell_type": "code",
      "metadata": {
        "colab": {
          "base_uri": "https://localhost:8080/",
          "height": 530
        },
        "id": "HHo8OSbwe4b8",
        "outputId": "f2cde7c5-f5ed-4242-e9a4-9aa009ee9483"
      },
      "source": [
        "plt.plot(loss)\n",
        "plt.plot(val_loss)\n",
        "plt.show()\n",
        "plt.plot(acc)\n",
        "plt.plot(val_acc)"
      ],
      "execution_count": null,
      "outputs": [
        {
          "output_type": "display_data",
          "data": {
            "image/png": "[encoded data removed]",
            "text/plain": [
              "<Figure size 432x288 with 1 Axes>"
            ]
          },
          "metadata": {
            "tags": [],
            "needs_background": "light"
          }
        },
        {
          "output_type": "execute_result",
          "data": {
            "text/plain": [
              "[<matplotlib.lines.Line2D at 0x7f9e42b12eb8>]"
            ]
          },
          "metadata": {
            "tags": []
          },
          "execution_count": 354
        },
        {
          "output_type": "display_data",
          "data": {
            "image/png": "[encoded data removed]",
            "text/plain": [
              "<Figure size 432x288 with 1 Axes>"
            ]
          },
          "metadata": {
            "tags": [],
            "needs_background": "light"
          }
        }
      ]
    },
    {
      "cell_type": "code",
      "metadata": {
        "colab": {
          "base_uri": "https://localhost:8080/"
        },
        "id": "kRUikxcdkviM",
        "outputId": "446a9197-d3a1-4c52-b1ec-94640ba584bf"
      },
      "source": [
        "import  numpy as np\n",
        "name = \"อุทัยวรรณ\"\n",
        "arr = [int(i) for i in name2arr(name).split(\",\")]\n",
        "dataTest = tf.keras.preprocessing.sequence.pad_sequences(np.array([arr]), maxlen=maxlen, dtype='int32', padding='pre',truncating='pre', value=0.0)\n",
        "model.predict(dataTest)"
      ],
      "execution_count": null,
      "outputs": [
        {
          "output_type": "execute_result",
          "data": {
            "text/plain": [
              "array([[0.95828694]], dtype=float32)"
            ]
          },
          "metadata": {
            "tags": []
          },
          "execution_count": 371
        }
      ]
    },
    {
      "cell_type": "code",
      "metadata": {
        "id": "SmUTMRbrf7Zi"
      },
      "source": [
        "#history.history"
      ],
      "execution_count": null,
      "outputs": []
    },
    {
      "cell_type": "code",
      "metadata": {
        "colab": {
          "base_uri": "https://localhost:8080/"
        },
        "id": "EB4aL2OAkQeR",
        "outputId": "bd5ff313-681e-43f7-93cf-8c0e59c0a8a9"
      },
      "source": [
        "pred = model.predict_classes(X_test)\n",
        "y_test"
      ],
      "execution_count": null,
      "outputs": [
        {
          "output_type": "stream",
          "text": [
            "/usr/local/lib/python3.6/dist-packages/tensorflow/python/keras/engine/sequential.py:450: UserWarning: `model.predict_classes()` is deprecated and will be removed after 2021-01-01. Please use instead:* `np.argmax(model.predict(x), axis=-1)`,   if your model does multi-class classification   (e.g. if it uses a `softmax` last-layer activation).* `(model.predict(x) > 0.5).astype(\"int32\")`,   if your model does binary classification   (e.g. if it uses a `sigmoid` last-layer activation).\n",
            "  warnings.warn('`model.predict_classes()` is deprecated and '\n"
          ],
          "name": "stderr"
        },
        {
          "output_type": "execute_result",
          "data": {
            "text/plain": [
              "array([0, 0, 1, 0, 1, 1, 1, 1, 0, 1, 0, 1, 0, 0, 0, 0, 1, 0, 0, 1, 1, 0,\n",
              "       0, 1, 1, 1, 1, 1, 1, 1, 1, 1, 1, 1, 0, 1, 0, 1, 1, 0, 1, 0, 0, 1,\n",
              "       0, 1, 1, 0, 0, 0, 0, 1, 0, 0, 0, 1, 0, 1, 1, 1, 0, 1, 1, 1, 0, 1,\n",
              "       0, 1, 1, 0, 1, 0, 0, 0, 1, 1, 0, 1, 1, 1, 1, 1, 0, 0, 1, 1, 0, 1,\n",
              "       1, 1, 0, 0, 0, 1, 1, 1, 1, 1, 1, 0, 0, 1, 0, 0, 0, 1, 1, 1, 0, 1,\n",
              "       1, 0, 0, 0, 0, 0, 0, 0, 1, 1, 1, 1, 1, 0, 1, 0, 1, 0, 0, 1, 1, 0,\n",
              "       1, 1, 1, 1, 1, 1, 0, 0, 0, 1, 1, 1, 1, 0, 1, 1, 0, 0, 0, 1, 1, 0,\n",
              "       0, 1, 0, 1, 0, 1, 0, 1, 1, 1, 1, 0, 0, 1, 0, 0, 1, 0, 0, 1, 1, 0,\n",
              "       0, 1, 1, 0, 1, 1, 0, 1, 1, 0, 0, 1, 0, 1, 0, 0, 1, 1, 1, 0, 0, 0,\n",
              "       0, 1, 0, 0, 1, 1, 1, 1, 1, 0, 1, 1, 1, 0, 0, 1, 0, 0, 0, 0, 1, 1,\n",
              "       1, 1, 1, 1, 1, 1, 1, 0])"
            ]
          },
          "metadata": {
            "tags": []
          },
          "execution_count": 364
        }
      ]
    },
    {
      "cell_type": "code",
      "metadata": {
        "id": "Iu3cCO2foOAs"
      },
      "source": [
        "from sklearn.metrics import classification_report"
      ],
      "execution_count": null,
      "outputs": []
    },
    {
      "cell_type": "code",
      "metadata": {
        "colab": {
          "base_uri": "https://localhost:8080/"
        },
        "id": "0WHblRE0oi1T",
        "outputId": "321a1dae-b121-499c-cdf4-1a2d3a938133"
      },
      "source": [
        "print(classification_report(y_test,pred))"
      ],
      "execution_count": null,
      "outputs": [
        {
          "output_type": "stream",
          "text": [
            "              precision    recall  f1-score   support\n",
            "\n",
            "           0       0.90      0.93      0.92       100\n",
            "           1       0.94      0.92      0.93       128\n",
            "\n",
            "    accuracy                           0.93       228\n",
            "   macro avg       0.92      0.93      0.92       228\n",
            "weighted avg       0.93      0.93      0.93       228\n",
            "\n"
          ],
          "name": "stdout"
        }
      ]
    },
    {
      "cell_type": "code",
      "metadata": {
        "id": "eTgt_xWEoqFy"
      },
      "source": [
        ""
      ],
      "execution_count": null,
      "outputs": []
    }
  ]
}