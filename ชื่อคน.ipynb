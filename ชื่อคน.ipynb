{
  "nbformat": 4,
  "nbformat_minor": 0,
  "metadata": {
    "colab": {
      "name": "ชื่อคน.ipynb",
      "provenance": [],
      "toc_visible": true,
      "authorship_tag": "ABX9TyON98zQnpeQs2nGqEJQEtQR",
      "include_colab_link": true
    },
    "kernelspec": {
      "name": "python3",
      "display_name": "Python 3"
    }
  },
  "cells": [
    {
      "cell_type": "markdown",
      "metadata": {
        "id": "view-in-github",
        "colab_type": "text"
      },
      "source": [
        "<a href=\"https://colab.research.google.com/github/krmonline/PII/blob/main/%E0%B8%8A%E0%B8%B7%E0%B9%88%E0%B8%AD%E0%B8%84%E0%B8%99.ipynb\" target=\"_parent\"><img src=\"https://colab.research.google.com/assets/colab-badge.svg\" alt=\"Open In Colab\"/></a>"
      ]
    },
    {
      "cell_type": "code",
      "metadata": {
        "id": "QzTaorpmCgv4",
        "outputId": "70cce772-db16-45b9-8767-cb9fa77c72c5",
        "colab": {
          "base_uri": "https://localhost:8080/"
        }
      },
      "source": [
        "!pip install pythainlp==3.0.0\n",
        "!pip install python-crfsuite\n",
        "!pip  install  deepcut"
      ],
      "execution_count": 17,
      "outputs": [
        {
          "output_type": "stream",
          "name": "stdout",
          "text": [
            "Collecting pythainlp==3.0.0\n",
            "  Downloading pythainlp-3.0.0-py3-none-any.whl (11.5 MB)\n",
            "\u001b[K     |████████████████████████████████| 11.5 MB 9.2 MB/s \n",
            "\u001b[?25hRequirement already satisfied: tinydb>=3.0 in /usr/local/lib/python3.7/dist-packages (from pythainlp==3.0.0) (4.6.1)\n",
            "Requirement already satisfied: requests>=2.22.0 in /usr/local/lib/python3.7/dist-packages (from pythainlp==3.0.0) (2.23.0)\n",
            "Requirement already satisfied: certifi>=2017.4.17 in /usr/local/lib/python3.7/dist-packages (from requests>=2.22.0->pythainlp==3.0.0) (2021.10.8)\n",
            "Requirement already satisfied: urllib3!=1.25.0,!=1.25.1,<1.26,>=1.21.1 in /usr/local/lib/python3.7/dist-packages (from requests>=2.22.0->pythainlp==3.0.0) (1.24.3)\n",
            "Requirement already satisfied: idna<3,>=2.5 in /usr/local/lib/python3.7/dist-packages (from requests>=2.22.0->pythainlp==3.0.0) (2.10)\n",
            "Requirement already satisfied: chardet<4,>=3.0.2 in /usr/local/lib/python3.7/dist-packages (from requests>=2.22.0->pythainlp==3.0.0) (3.0.4)\n",
            "Requirement already satisfied: typing-extensions<5.0.0,>=3.10.0 in /usr/local/lib/python3.7/dist-packages (from tinydb>=3.0->pythainlp==3.0.0) (3.10.0.2)\n",
            "Installing collected packages: pythainlp\n",
            "  Attempting uninstall: pythainlp\n",
            "    Found existing installation: pythainlp 3.0.3\n",
            "    Uninstalling pythainlp-3.0.3:\n",
            "      Successfully uninstalled pythainlp-3.0.3\n",
            "Successfully installed pythainlp-3.0.0\n"
          ]
        }
      ]
    },
    {
      "cell_type": "code",
      "metadata": {
        "id": "utq0waE4vGG6"
      },
      "source": [
        "from bs4 import BeautifulSoup\n",
        "import requests\n",
        "import pickle\n",
        "import pandas as pd\n",
        "import tensorflow as tf\n",
        "import matplotlib.pyplot as plt\n",
        "import numpy as np"
      ],
      "execution_count": 2,
      "outputs": []
    },
    {
      "cell_type": "code",
      "metadata": {
        "colab": {
          "base_uri": "https://localhost:8080/"
        },
        "id": "kljoFhvW-xTq",
        "outputId": "ee6b628b-935a-4449-8101-11c3e4c83aca"
      },
      "source": [
        "!pip install faker"
      ],
      "execution_count": null,
      "outputs": [
        {
          "output_type": "stream",
          "text": [
            "Collecting faker\n",
            "\u001b[?25l  Downloading https://files.pythonhosted.org/packages/fa/d4/cb82441718bccaed9e3322c64d39438d40568b7a8ae33458f28a1a8b2155/Faker-6.5.0-py3-none-any.whl (1.1MB)\n",
            "\r\u001b[K     |▎                               | 10kB 15.9MB/s eta 0:00:01\r\u001b[K     |▋                               | 20kB 9.4MB/s eta 0:00:01\r\u001b[K     |▉                               | 30kB 8.2MB/s eta 0:00:01\r\u001b[K     |█▏                              | 40kB 7.2MB/s eta 0:00:01\r\u001b[K     |█▌                              | 51kB 3.8MB/s eta 0:00:01\r\u001b[K     |█▊                              | 61kB 4.4MB/s eta 0:00:01\r\u001b[K     |██                              | 71kB 4.6MB/s eta 0:00:01\r\u001b[K     |██▍                             | 81kB 4.9MB/s eta 0:00:01\r\u001b[K     |██▋                             | 92kB 5.2MB/s eta 0:00:01\r\u001b[K     |███                             | 102kB 5.2MB/s eta 0:00:01\r\u001b[K     |███▏                            | 112kB 5.2MB/s eta 0:00:01\r\u001b[K     |███▌                            | 122kB 5.2MB/s eta 0:00:01\r\u001b[K     |███▉                            | 133kB 5.2MB/s eta 0:00:01\r\u001b[K     |████                            | 143kB 5.2MB/s eta 0:00:01\r\u001b[K     |████▍                           | 153kB 5.2MB/s eta 0:00:01\r\u001b[K     |████▊                           | 163kB 5.2MB/s eta 0:00:01\r\u001b[K     |█████                           | 174kB 5.2MB/s eta 0:00:01\r\u001b[K     |█████▎                          | 184kB 5.2MB/s eta 0:00:01\r\u001b[K     |█████▌                          | 194kB 5.2MB/s eta 0:00:01\r\u001b[K     |█████▉                          | 204kB 5.2MB/s eta 0:00:01\r\u001b[K     |██████▏                         | 215kB 5.2MB/s eta 0:00:01\r\u001b[K     |██████▍                         | 225kB 5.2MB/s eta 0:00:01\r\u001b[K     |██████▊                         | 235kB 5.2MB/s eta 0:00:01\r\u001b[K     |███████                         | 245kB 5.2MB/s eta 0:00:01\r\u001b[K     |███████▎                        | 256kB 5.2MB/s eta 0:00:01\r\u001b[K     |███████▋                        | 266kB 5.2MB/s eta 0:00:01\r\u001b[K     |███████▉                        | 276kB 5.2MB/s eta 0:00:01\r\u001b[K     |████████▏                       | 286kB 5.2MB/s eta 0:00:01\r\u001b[K     |████████▌                       | 296kB 5.2MB/s eta 0:00:01\r\u001b[K     |████████▊                       | 307kB 5.2MB/s eta 0:00:01\r\u001b[K     |█████████                       | 317kB 5.2MB/s eta 0:00:01\r\u001b[K     |█████████▍                      | 327kB 5.2MB/s eta 0:00:01\r\u001b[K     |█████████▋                      | 337kB 5.2MB/s eta 0:00:01\r\u001b[K     |██████████                      | 348kB 5.2MB/s eta 0:00:01\r\u001b[K     |██████████▎                     | 358kB 5.2MB/s eta 0:00:01\r\u001b[K     |██████████▌                     | 368kB 5.2MB/s eta 0:00:01\r\u001b[K     |██████████▉                     | 378kB 5.2MB/s eta 0:00:01\r\u001b[K     |███████████                     | 389kB 5.2MB/s eta 0:00:01\r\u001b[K     |███████████▍                    | 399kB 5.2MB/s eta 0:00:01\r\u001b[K     |███████████▊                    | 409kB 5.2MB/s eta 0:00:01\r\u001b[K     |████████████                    | 419kB 5.2MB/s eta 0:00:01\r\u001b[K     |████████████▎                   | 430kB 5.2MB/s eta 0:00:01\r\u001b[K     |████████████▋                   | 440kB 5.2MB/s eta 0:00:01\r\u001b[K     |████████████▉                   | 450kB 5.2MB/s eta 0:00:01\r\u001b[K     |█████████████▏                  | 460kB 5.2MB/s eta 0:00:01\r\u001b[K     |█████████████▍                  | 471kB 5.2MB/s eta 0:00:01\r\u001b[K     |█████████████▊                  | 481kB 5.2MB/s eta 0:00:01\r\u001b[K     |██████████████                  | 491kB 5.2MB/s eta 0:00:01\r\u001b[K     |██████████████▎                 | 501kB 5.2MB/s eta 0:00:01\r\u001b[K     |██████████████▋                 | 512kB 5.2MB/s eta 0:00:01\r\u001b[K     |███████████████                 | 522kB 5.2MB/s eta 0:00:01\r\u001b[K     |███████████████▏                | 532kB 5.2MB/s eta 0:00:01\r\u001b[K     |███████████████▌                | 542kB 5.2MB/s eta 0:00:01\r\u001b[K     |███████████████▊                | 552kB 5.2MB/s eta 0:00:01\r\u001b[K     |████████████████                | 563kB 5.2MB/s eta 0:00:01\r\u001b[K     |████████████████▍               | 573kB 5.2MB/s eta 0:00:01\r\u001b[K     |████████████████▋               | 583kB 5.2MB/s eta 0:00:01\r\u001b[K     |█████████████████               | 593kB 5.2MB/s eta 0:00:01\r\u001b[K     |█████████████████▎              | 604kB 5.2MB/s eta 0:00:01\r\u001b[K     |█████████████████▌              | 614kB 5.2MB/s eta 0:00:01\r\u001b[K     |█████████████████▉              | 624kB 5.2MB/s eta 0:00:01\r\u001b[K     |██████████████████▏             | 634kB 5.2MB/s eta 0:00:01\r\u001b[K     |██████████████████▍             | 645kB 5.2MB/s eta 0:00:01\r\u001b[K     |██████████████████▊             | 655kB 5.2MB/s eta 0:00:01\r\u001b[K     |███████████████████             | 665kB 5.2MB/s eta 0:00:01\r\u001b[K     |███████████████████▎            | 675kB 5.2MB/s eta 0:00:01\r\u001b[K     |███████████████████▋            | 686kB 5.2MB/s eta 0:00:01\r\u001b[K     |███████████████████▉            | 696kB 5.2MB/s eta 0:00:01\r\u001b[K     |████████████████████▏           | 706kB 5.2MB/s eta 0:00:01\r\u001b[K     |████████████████████▌           | 716kB 5.2MB/s eta 0:00:01\r\u001b[K     |████████████████████▊           | 727kB 5.2MB/s eta 0:00:01\r\u001b[K     |█████████████████████           | 737kB 5.2MB/s eta 0:00:01\r\u001b[K     |█████████████████████▎          | 747kB 5.2MB/s eta 0:00:01\r\u001b[K     |█████████████████████▋          | 757kB 5.2MB/s eta 0:00:01\r\u001b[K     |██████████████████████          | 768kB 5.2MB/s eta 0:00:01\r\u001b[K     |██████████████████████▏         | 778kB 5.2MB/s eta 0:00:01\r\u001b[K     |██████████████████████▌         | 788kB 5.2MB/s eta 0:00:01\r\u001b[K     |██████████████████████▉         | 798kB 5.2MB/s eta 0:00:01\r\u001b[K     |███████████████████████         | 808kB 5.2MB/s eta 0:00:01\r\u001b[K     |███████████████████████▍        | 819kB 5.2MB/s eta 0:00:01\r\u001b[K     |███████████████████████▋        | 829kB 5.2MB/s eta 0:00:01\r\u001b[K     |████████████████████████        | 839kB 5.2MB/s eta 0:00:01\r\u001b[K     |████████████████████████▎       | 849kB 5.2MB/s eta 0:00:01\r\u001b[K     |████████████████████████▌       | 860kB 5.2MB/s eta 0:00:01\r\u001b[K     |████████████████████████▉       | 870kB 5.2MB/s eta 0:00:01\r\u001b[K     |█████████████████████████▏      | 880kB 5.2MB/s eta 0:00:01\r\u001b[K     |█████████████████████████▍      | 890kB 5.2MB/s eta 0:00:01\r\u001b[K     |█████████████████████████▊      | 901kB 5.2MB/s eta 0:00:01\r\u001b[K     |██████████████████████████      | 911kB 5.2MB/s eta 0:00:01\r\u001b[K     |██████████████████████████▎     | 921kB 5.2MB/s eta 0:00:01\r\u001b[K     |██████████████████████████▋     | 931kB 5.2MB/s eta 0:00:01\r\u001b[K     |██████████████████████████▉     | 942kB 5.2MB/s eta 0:00:01\r\u001b[K     |███████████████████████████▏    | 952kB 5.2MB/s eta 0:00:01\r\u001b[K     |███████████████████████████▌    | 962kB 5.2MB/s eta 0:00:01\r\u001b[K     |███████████████████████████▊    | 972kB 5.2MB/s eta 0:00:01\r\u001b[K     |████████████████████████████    | 983kB 5.2MB/s eta 0:00:01\r\u001b[K     |████████████████████████████▍   | 993kB 5.2MB/s eta 0:00:01\r\u001b[K     |████████████████████████████▋   | 1.0MB 5.2MB/s eta 0:00:01\r\u001b[K     |█████████████████████████████   | 1.0MB 5.2MB/s eta 0:00:01\r\u001b[K     |█████████████████████████████▏  | 1.0MB 5.2MB/s eta 0:00:01\r\u001b[K     |█████████████████████████████▌  | 1.0MB 5.2MB/s eta 0:00:01\r\u001b[K     |█████████████████████████████▉  | 1.0MB 5.2MB/s eta 0:00:01\r\u001b[K     |██████████████████████████████  | 1.1MB 5.2MB/s eta 0:00:01\r\u001b[K     |██████████████████████████████▍ | 1.1MB 5.2MB/s eta 0:00:01\r\u001b[K     |██████████████████████████████▊ | 1.1MB 5.2MB/s eta 0:00:01\r\u001b[K     |███████████████████████████████ | 1.1MB 5.2MB/s eta 0:00:01\r\u001b[K     |███████████████████████████████▎| 1.1MB 5.2MB/s eta 0:00:01\r\u001b[K     |███████████████████████████████▌| 1.1MB 5.2MB/s eta 0:00:01\r\u001b[K     |███████████████████████████████▉| 1.1MB 5.2MB/s eta 0:00:01\r\u001b[K     |████████████████████████████████| 1.1MB 5.2MB/s \n",
            "\u001b[?25hRequirement already satisfied: python-dateutil>=2.4 in /usr/local/lib/python3.7/dist-packages (from faker) (2.8.1)\n",
            "Requirement already satisfied: text-unidecode==1.3 in /usr/local/lib/python3.7/dist-packages (from faker) (1.3)\n",
            "Requirement already satisfied: six>=1.5 in /usr/local/lib/python3.7/dist-packages (from python-dateutil>=2.4->faker) (1.15.0)\n",
            "Installing collected packages: faker\n",
            "Successfully installed faker-6.5.0\n"
          ],
          "name": "stdout"
        }
      ]
    },
    {
      "cell_type": "markdown",
      "metadata": {
        "id": "uvdxb5ZI5Ukh"
      },
      "source": [
        "ทำการแปลง Character เป็น Array ต้นฉบับมาจากอาจารย์เอกพล\n",
        "https://github.com/ekapolc/nlp_course/blob/master/HW1/Word_Tokenizer_Lab.ipynb\n",
        "\n",
        "และ มีการจัดการกับ Out Of Vocab โดยที่คำที่เราไม่รู้จักให้ไปลงที่  \"\\ufeff\"\n",
        "\n"
      ]
    },
    {
      "cell_type": "code",
      "metadata": {
        "id": "rXZkHj6VwFnG"
      },
      "source": [
        "CHARS = [\n",
        "  '\\n', ' ', '!', '\"', '#', '$', '%', '&', \"'\", '(', ')', '*', '+',\n",
        "  ',', '-', '.', '/', '0', '1', '2', '3', '4', '5', '6', '7', '8',\n",
        "  '9', ':', ';', '<', '=', '>', '?', '@', 'A', 'B', 'C', 'D', 'E',\n",
        "  'F', 'G', 'H', 'I', 'J', 'K', 'L', 'M', 'N', 'O', 'P', 'Q', 'R',\n",
        "  'S', 'T', 'U', 'V', 'W', 'X', 'Y', 'Z', '[', '\\\\', ']', '^', '_',\n",
        "  'a', 'b', 'c', 'd', 'e', 'f', 'g', 'h', 'i', 'j', 'k', 'l', 'm',\n",
        "  'n', 'o', 'other', 'p', 'q', 'r', 's', 't', 'u', 'v', 'w', 'x', 'y',\n",
        "  'z', '}', '~', 'ก', 'ข', 'ฃ', 'ค', 'ฅ', 'ฆ', 'ง', 'จ', 'ฉ', 'ช',\n",
        "  'ซ', 'ฌ', 'ญ', 'ฎ', 'ฏ', 'ฐ', 'ฑ', 'ฒ', 'ณ', 'ด', 'ต', 'ถ', 'ท',\n",
        "  'ธ', 'น', 'บ', 'ป', 'ผ', 'ฝ', 'พ', 'ฟ', 'ภ', 'ม', 'ย', 'ร', 'ฤ',\n",
        "  'ล', 'ว', 'ศ', 'ษ', 'ส', 'ห', 'ฬ', 'อ', 'ฮ', 'ฯ', 'ะ', 'ั', 'า',\n",
        "  'ำ', 'ิ', 'ี', 'ึ', 'ื', 'ุ', 'ู', 'ฺ', 'เ', 'แ', 'โ', 'ใ', 'ไ',\n",
        "  'ๅ', 'ๆ', '็', '่', '้', '๊', '๋', '์', 'ํ', '๐', '๑', '๒', '๓',\n",
        "  '๔', '๕', '๖', '๗', '๘', '๙', '‘', '’', '\\ufeff'\n",
        "]\n",
        "CHARS_MAP = {v: k for k, v in enumerate(CHARS)}\n",
        "\n",
        "def name2arr(x):\n",
        "  result = \"\"\n",
        "  for i in x:\n",
        "    if i not in CHARS_MAP:\n",
        "      i = '\\ufeff' #OutOfVocab\n",
        "    if result == \"\":\n",
        "      result = str(CHARS_MAP[i])\n",
        "    else:\n",
        "      result = result + \",\" + str(CHARS_MAP[i])\n",
        "  return result"
      ],
      "execution_count": 3,
      "outputs": []
    },
    {
      "cell_type": "markdown",
      "metadata": {
        "id": "u6gGukVsCrA-"
      },
      "source": [
        "ทำการเตรียมชื่อ"
      ]
    },
    {
      "cell_type": "code",
      "metadata": {
        "id": "us1rmx2TyCwY"
      },
      "source": [
        "df_name1 = pd.read_csv('https://raw.githubusercontent.com/krmonline/PII/main/name.csv')\n",
        "df_name2 = pd.read_csv('https://raw.githubusercontent.com/krmonline/PII/main/mock_name_address.csv')"
      ],
      "execution_count": 6,
      "outputs": []
    },
    {
      "cell_type": "code",
      "metadata": {
        "id": "EWHdfY9HFEGN"
      },
      "source": [
        "df_name2['name'] = df_name2.FName.apply(lambda x: x.split(\" \")[0])"
      ],
      "execution_count": 7,
      "outputs": []
    },
    {
      "cell_type": "code",
      "metadata": {
        "id": "cZBKtq-zLcC9"
      },
      "source": [
        "arr_name1 = df_name1.name.values\n",
        "#arr_userdefined = np.array(['สมหมาย','สมชาย','สมเกียรติ','ประเทือง']) #เพิ่มชื่อด้วยตังเองเมื่อเห็นว่าชื่อไม่เคยเทรนมาก่อน\n",
        "#arr_name1 = np.concatenate([arr_name1,arr_userdefined])"
      ],
      "execution_count": 8,
      "outputs": []
    },
    {
      "cell_type": "code",
      "metadata": {
        "id": "z8c0dsWlBBAD"
      },
      "source": [
        "arr_name = np.concatenate([df_name1.name.values,df_name2.name.values])\n",
        "arr_name = pd.DataFrame(arr_name,columns=['name']).name.unique()\n",
        "df_name = pd.DataFrame(arr_name,columns=['name'])"
      ],
      "execution_count": 9,
      "outputs": []
    },
    {
      "cell_type": "code",
      "metadata": {
        "colab": {
          "base_uri": "https://localhost:8080/",
          "height": 80
        },
        "id": "LKq673EvBUbN",
        "outputId": "477b5da7-2a6e-43fa-c397-bcf96f3802c6"
      },
      "source": [
        "df_name[df_name.name == 'สมเกียรติ'] #check ว่าชื่ออยู่ใน data  frame  หรือเปล่า"
      ],
      "execution_count": 10,
      "outputs": [
        {
          "output_type": "execute_result",
          "data": {
            "text/html": [
              "\n",
              "  <div id=\"df-2c4abff8-968b-490b-80d4-8212b37be899\">\n",
              "    <div class=\"colab-df-container\">\n",
              "      <div>\n",
              "<style scoped>\n",
              "    .dataframe tbody tr th:only-of-type {\n",
              "        vertical-align: middle;\n",
              "    }\n",
              "\n",
              "    .dataframe tbody tr th {\n",
              "        vertical-align: top;\n",
              "    }\n",
              "\n",
              "    .dataframe thead th {\n",
              "        text-align: right;\n",
              "    }\n",
              "</style>\n",
              "<table border=\"1\" class=\"dataframe\">\n",
              "  <thead>\n",
              "    <tr style=\"text-align: right;\">\n",
              "      <th></th>\n",
              "      <th>name</th>\n",
              "    </tr>\n",
              "  </thead>\n",
              "  <tbody>\n",
              "    <tr>\n",
              "      <th>563</th>\n",
              "      <td>สมเกียรติ</td>\n",
              "    </tr>\n",
              "  </tbody>\n",
              "</table>\n",
              "</div>\n",
              "      <button class=\"colab-df-convert\" onclick=\"convertToInteractive('df-2c4abff8-968b-490b-80d4-8212b37be899')\"\n",
              "              title=\"Convert this dataframe to an interactive table.\"\n",
              "              style=\"display:none;\">\n",
              "        \n",
              "  <svg xmlns=\"http://www.w3.org/2000/svg\" height=\"24px\"viewBox=\"0 0 24 24\"\n",
              "       width=\"24px\">\n",
              "    <path d=\"M0 0h24v24H0V0z\" fill=\"none\"/>\n",
              "    <path d=\"M18.56 5.44l.94 2.06.94-2.06 2.06-.94-2.06-.94-.94-2.06-.94 2.06-2.06.94zm-11 1L8.5 8.5l.94-2.06 2.06-.94-2.06-.94L8.5 2.5l-.94 2.06-2.06.94zm10 10l.94 2.06.94-2.06 2.06-.94-2.06-.94-.94-2.06-.94 2.06-2.06.94z\"/><path d=\"M17.41 7.96l-1.37-1.37c-.4-.4-.92-.59-1.43-.59-.52 0-1.04.2-1.43.59L10.3 9.45l-7.72 7.72c-.78.78-.78 2.05 0 2.83L4 21.41c.39.39.9.59 1.41.59.51 0 1.02-.2 1.41-.59l7.78-7.78 2.81-2.81c.8-.78.8-2.07 0-2.86zM5.41 20L4 18.59l7.72-7.72 1.47 1.35L5.41 20z\"/>\n",
              "  </svg>\n",
              "      </button>\n",
              "      \n",
              "  <style>\n",
              "    .colab-df-container {\n",
              "      display:flex;\n",
              "      flex-wrap:wrap;\n",
              "      gap: 12px;\n",
              "    }\n",
              "\n",
              "    .colab-df-convert {\n",
              "      background-color: #E8F0FE;\n",
              "      border: none;\n",
              "      border-radius: 50%;\n",
              "      cursor: pointer;\n",
              "      display: none;\n",
              "      fill: #1967D2;\n",
              "      height: 32px;\n",
              "      padding: 0 0 0 0;\n",
              "      width: 32px;\n",
              "    }\n",
              "\n",
              "    .colab-df-convert:hover {\n",
              "      background-color: #E2EBFA;\n",
              "      box-shadow: 0px 1px 2px rgba(60, 64, 67, 0.3), 0px 1px 3px 1px rgba(60, 64, 67, 0.15);\n",
              "      fill: #174EA6;\n",
              "    }\n",
              "\n",
              "    [theme=dark] .colab-df-convert {\n",
              "      background-color: #3B4455;\n",
              "      fill: #D2E3FC;\n",
              "    }\n",
              "\n",
              "    [theme=dark] .colab-df-convert:hover {\n",
              "      background-color: #434B5C;\n",
              "      box-shadow: 0px 1px 3px 1px rgba(0, 0, 0, 0.15);\n",
              "      filter: drop-shadow(0px 1px 2px rgba(0, 0, 0, 0.3));\n",
              "      fill: #FFFFFF;\n",
              "    }\n",
              "  </style>\n",
              "\n",
              "      <script>\n",
              "        const buttonEl =\n",
              "          document.querySelector('#df-2c4abff8-968b-490b-80d4-8212b37be899 button.colab-df-convert');\n",
              "        buttonEl.style.display =\n",
              "          google.colab.kernel.accessAllowed ? 'block' : 'none';\n",
              "\n",
              "        async function convertToInteractive(key) {\n",
              "          const element = document.querySelector('#df-2c4abff8-968b-490b-80d4-8212b37be899');\n",
              "          const dataTable =\n",
              "            await google.colab.kernel.invokeFunction('convertToInteractive',\n",
              "                                                     [key], {});\n",
              "          if (!dataTable) return;\n",
              "\n",
              "          const docLinkHtml = 'Like what you see? Visit the ' +\n",
              "            '<a target=\"_blank\" href=https://colab.research.google.com/notebooks/data_table.ipynb>data table notebook</a>'\n",
              "            + ' to learn more about interactive tables.';\n",
              "          element.innerHTML = '';\n",
              "          dataTable['output_type'] = 'display_data';\n",
              "          await google.colab.output.renderOutput(dataTable, element);\n",
              "          const docLink = document.createElement('div');\n",
              "          docLink.innerHTML = docLinkHtml;\n",
              "          element.appendChild(docLink);\n",
              "        }\n",
              "      </script>\n",
              "    </div>\n",
              "  </div>\n",
              "  "
            ],
            "text/plain": [
              "          name\n",
              "563  สมเกียรติ"
            ]
          },
          "metadata": {},
          "execution_count": 10
        }
      ]
    },
    {
      "cell_type": "markdown",
      "metadata": {
        "id": "4oMvZcuW6NF8"
      },
      "source": [
        "แปลงชื่อมาเป็น Array และกำหนด Label ให้เป็น 1\n",
        "โดย 1 = เป็นชื่อคน และ 0 = ไม่ใช่ชื่อคน\n",
        "เราจะได้ Array ซึ่งเป็นค่า key ของแต่ละ Character"
      ]
    },
    {
      "cell_type": "code",
      "metadata": {
        "id": "7ZvwCOO85NHO",
        "colab": {
          "base_uri": "https://localhost:8080/",
          "height": 423
        },
        "outputId": "e50e93db-f377-4441-93a0-29cbfe3527f3"
      },
      "source": [
        "df_name[\"arr_num\"] = df_name.name.apply(name2arr)\n",
        "df_name['label'] = 1\n",
        "df_name"
      ],
      "execution_count": 11,
      "outputs": [
        {
          "output_type": "execute_result",
          "data": {
            "text/html": [
              "\n",
              "  <div id=\"df-6255e278-6c78-40c5-8f08-14704fc9b964\">\n",
              "    <div class=\"colab-df-container\">\n",
              "      <div>\n",
              "<style scoped>\n",
              "    .dataframe tbody tr th:only-of-type {\n",
              "        vertical-align: middle;\n",
              "    }\n",
              "\n",
              "    .dataframe tbody tr th {\n",
              "        vertical-align: top;\n",
              "    }\n",
              "\n",
              "    .dataframe thead th {\n",
              "        text-align: right;\n",
              "    }\n",
              "</style>\n",
              "<table border=\"1\" class=\"dataframe\">\n",
              "  <thead>\n",
              "    <tr style=\"text-align: right;\">\n",
              "      <th></th>\n",
              "      <th>name</th>\n",
              "      <th>arr_num</th>\n",
              "      <th>label</th>\n",
              "    </tr>\n",
              "  </thead>\n",
              "  <tbody>\n",
              "    <tr>\n",
              "      <th>0</th>\n",
              "      <td>กมลภู</td>\n",
              "      <td>94,126,130,125,149</td>\n",
              "      <td>1</td>\n",
              "    </tr>\n",
              "    <tr>\n",
              "      <th>1</th>\n",
              "      <td>กรกวรรษ</td>\n",
              "      <td>94,128,94,131,128,128,133</td>\n",
              "      <td>1</td>\n",
              "    </tr>\n",
              "    <tr>\n",
              "      <th>2</th>\n",
              "      <td>กรณ์</td>\n",
              "      <td>94,128,112,163</td>\n",
              "      <td>1</td>\n",
              "    </tr>\n",
              "    <tr>\n",
              "      <th>3</th>\n",
              "      <td>กฤศ</td>\n",
              "      <td>94,129,132</td>\n",
              "      <td>1</td>\n",
              "    </tr>\n",
              "    <tr>\n",
              "      <th>4</th>\n",
              "      <td>กฤษิกร</td>\n",
              "      <td>94,129,133,144,94,128</td>\n",
              "      <td>1</td>\n",
              "    </tr>\n",
              "    <tr>\n",
              "      <th>...</th>\n",
              "      <td>...</td>\n",
              "      <td>...</td>\n",
              "      <td>...</td>\n",
              "    </tr>\n",
              "    <tr>\n",
              "      <th>1006</th>\n",
              "      <td>จักรีรัตน์</td>\n",
              "      <td>101,141,94,128,145,128,141,114,118,163</td>\n",
              "      <td>1</td>\n",
              "    </tr>\n",
              "    <tr>\n",
              "      <th>1007</th>\n",
              "      <td>นารดา</td>\n",
              "      <td>118,142,128,113,142</td>\n",
              "      <td>1</td>\n",
              "    </tr>\n",
              "    <tr>\n",
              "      <th>1008</th>\n",
              "      <td>อาแอเสาะ</td>\n",
              "      <td>137,142,152,137,151,134,142,140</td>\n",
              "      <td>1</td>\n",
              "    </tr>\n",
              "    <tr>\n",
              "      <th>1009</th>\n",
              "      <td>คมกฤชญ์</td>\n",
              "      <td>97,126,94,129,103,106,163</td>\n",
              "      <td>1</td>\n",
              "    </tr>\n",
              "    <tr>\n",
              "      <th>1010</th>\n",
              "      <td>พงษ์นเรศ</td>\n",
              "      <td>123,100,133,163,118,151,128,132</td>\n",
              "      <td>1</td>\n",
              "    </tr>\n",
              "  </tbody>\n",
              "</table>\n",
              "<p>1011 rows × 3 columns</p>\n",
              "</div>\n",
              "      <button class=\"colab-df-convert\" onclick=\"convertToInteractive('df-6255e278-6c78-40c5-8f08-14704fc9b964')\"\n",
              "              title=\"Convert this dataframe to an interactive table.\"\n",
              "              style=\"display:none;\">\n",
              "        \n",
              "  <svg xmlns=\"http://www.w3.org/2000/svg\" height=\"24px\"viewBox=\"0 0 24 24\"\n",
              "       width=\"24px\">\n",
              "    <path d=\"M0 0h24v24H0V0z\" fill=\"none\"/>\n",
              "    <path d=\"M18.56 5.44l.94 2.06.94-2.06 2.06-.94-2.06-.94-.94-2.06-.94 2.06-2.06.94zm-11 1L8.5 8.5l.94-2.06 2.06-.94-2.06-.94L8.5 2.5l-.94 2.06-2.06.94zm10 10l.94 2.06.94-2.06 2.06-.94-2.06-.94-.94-2.06-.94 2.06-2.06.94z\"/><path d=\"M17.41 7.96l-1.37-1.37c-.4-.4-.92-.59-1.43-.59-.52 0-1.04.2-1.43.59L10.3 9.45l-7.72 7.72c-.78.78-.78 2.05 0 2.83L4 21.41c.39.39.9.59 1.41.59.51 0 1.02-.2 1.41-.59l7.78-7.78 2.81-2.81c.8-.78.8-2.07 0-2.86zM5.41 20L4 18.59l7.72-7.72 1.47 1.35L5.41 20z\"/>\n",
              "  </svg>\n",
              "      </button>\n",
              "      \n",
              "  <style>\n",
              "    .colab-df-container {\n",
              "      display:flex;\n",
              "      flex-wrap:wrap;\n",
              "      gap: 12px;\n",
              "    }\n",
              "\n",
              "    .colab-df-convert {\n",
              "      background-color: #E8F0FE;\n",
              "      border: none;\n",
              "      border-radius: 50%;\n",
              "      cursor: pointer;\n",
              "      display: none;\n",
              "      fill: #1967D2;\n",
              "      height: 32px;\n",
              "      padding: 0 0 0 0;\n",
              "      width: 32px;\n",
              "    }\n",
              "\n",
              "    .colab-df-convert:hover {\n",
              "      background-color: #E2EBFA;\n",
              "      box-shadow: 0px 1px 2px rgba(60, 64, 67, 0.3), 0px 1px 3px 1px rgba(60, 64, 67, 0.15);\n",
              "      fill: #174EA6;\n",
              "    }\n",
              "\n",
              "    [theme=dark] .colab-df-convert {\n",
              "      background-color: #3B4455;\n",
              "      fill: #D2E3FC;\n",
              "    }\n",
              "\n",
              "    [theme=dark] .colab-df-convert:hover {\n",
              "      background-color: #434B5C;\n",
              "      box-shadow: 0px 1px 3px 1px rgba(0, 0, 0, 0.15);\n",
              "      filter: drop-shadow(0px 1px 2px rgba(0, 0, 0, 0.3));\n",
              "      fill: #FFFFFF;\n",
              "    }\n",
              "  </style>\n",
              "\n",
              "      <script>\n",
              "        const buttonEl =\n",
              "          document.querySelector('#df-6255e278-6c78-40c5-8f08-14704fc9b964 button.colab-df-convert');\n",
              "        buttonEl.style.display =\n",
              "          google.colab.kernel.accessAllowed ? 'block' : 'none';\n",
              "\n",
              "        async function convertToInteractive(key) {\n",
              "          const element = document.querySelector('#df-6255e278-6c78-40c5-8f08-14704fc9b964');\n",
              "          const dataTable =\n",
              "            await google.colab.kernel.invokeFunction('convertToInteractive',\n",
              "                                                     [key], {});\n",
              "          if (!dataTable) return;\n",
              "\n",
              "          const docLinkHtml = 'Like what you see? Visit the ' +\n",
              "            '<a target=\"_blank\" href=https://colab.research.google.com/notebooks/data_table.ipynb>data table notebook</a>'\n",
              "            + ' to learn more about interactive tables.';\n",
              "          element.innerHTML = '';\n",
              "          dataTable['output_type'] = 'display_data';\n",
              "          await google.colab.output.renderOutput(dataTable, element);\n",
              "          const docLink = document.createElement('div');\n",
              "          docLink.innerHTML = docLinkHtml;\n",
              "          element.appendChild(docLink);\n",
              "        }\n",
              "      </script>\n",
              "    </div>\n",
              "  </div>\n",
              "  "
            ],
            "text/plain": [
              "            name                                 arr_num  label\n",
              "0          กมลภู                      94,126,130,125,149      1\n",
              "1        กรกวรรษ               94,128,94,131,128,128,133      1\n",
              "2           กรณ์                          94,128,112,163      1\n",
              "3            กฤศ                              94,129,132      1\n",
              "4         กฤษิกร                   94,129,133,144,94,128      1\n",
              "...          ...                                     ...    ...\n",
              "1006  จักรีรัตน์  101,141,94,128,145,128,141,114,118,163      1\n",
              "1007       นารดา                     118,142,128,113,142      1\n",
              "1008    อาแอเสาะ         137,142,152,137,151,134,142,140      1\n",
              "1009     คมกฤชญ์               97,126,94,129,103,106,163      1\n",
              "1010    พงษ์นเรศ         123,100,133,163,118,151,128,132      1\n",
              "\n",
              "[1011 rows x 3 columns]"
            ]
          },
          "metadata": {},
          "execution_count": 11
        }
      ]
    },
    {
      "cell_type": "code",
      "metadata": {
        "id": "1SBJDQgF7iL5"
      },
      "source": [
        "#df_name.to_csv(\"./name.csv\",index=False)"
      ],
      "execution_count": 12,
      "outputs": []
    },
    {
      "cell_type": "markdown",
      "metadata": {
        "id": "gbUEdmWrCyOc"
      },
      "source": [
        "#เตรียมชื่อนามทั่วไป"
      ]
    },
    {
      "cell_type": "code",
      "metadata": {
        "id": "GC0KtChQC4e7",
        "outputId": "c2205b83-1cd2-46d4-ee98-02125a1fda20",
        "colab": {
          "base_uri": "https://localhost:8080/"
        }
      },
      "source": [
        "import pythainlp.word_vector\n",
        "import random"
      ],
      "execution_count": 20,
      "outputs": [
        {
          "output_type": "stream",
          "name": "stdout",
          "text": [
            "Corpus: thai2fit_wv\n",
            "- Downloading: thai2fit_wv 0.1\n"
          ]
        },
        {
          "output_type": "stream",
          "name": "stderr",
          "text": [
            "100%|██████████| 62452646/62452646 [00:02<00:00, 30771182.41it/s]\n"
          ]
        }
      ]
    },
    {
      "cell_type": "markdown",
      "metadata": {
        "id": "aVQ3HMnY7ojo"
      },
      "source": [
        "สุ่มคำจาก word_vector มาจำนวนเท่าๆกับชื่อคนเพื่อเป็น DataSet ของคำที่ไม่่ใช่ชื่อคน"
      ]
    },
    {
      "cell_type": "code",
      "metadata": {
        "colab": {
          "base_uri": "https://localhost:8080/"
        },
        "id": "RA5ZsUVWC96p",
        "outputId": "667cbffb-b871-4f47-a66d-2086b2e9c897"
      },
      "source": [
        "model = pythainlp.word_vector.get_model()\n",
        "arr_tmp = []\n",
        "for i  in range(len(df_name)):\n",
        "  nameID = random.randint(0,2000)\n",
        "  name = model.index2word[nameID]\n",
        "  arr_tmp.append(name)\n",
        "print(\"Random general word =\",len(arr_tmp))\n",
        "df2 = pd.DataFrame(arr_tmp,columns=['name'])\n",
        "df2[\"arr_num\"] = df2.name.apply(name2arr) #Check OOV ใน function แล้ว\n",
        "df2['label'] = 0"
      ],
      "execution_count": 25,
      "outputs": [
        {
          "output_type": "stream",
          "name": "stdout",
          "text": [
            "Random general word = 1011\n"
          ]
        }
      ]
    },
    {
      "cell_type": "markdown",
      "metadata": {
        "id": "jt27RKkZFzGn"
      },
      "source": [
        "#Merge Data"
      ]
    },
    {
      "cell_type": "code",
      "metadata": {
        "colab": {
          "base_uri": "https://localhost:8080/",
          "height": 206
        },
        "id": "0ZBRBinEESaM",
        "outputId": "04f5e1c9-7a9b-400b-8088-f46e53ac58d7"
      },
      "source": [
        "df = pd.concat([df_name,df2])\n",
        "df.head()"
      ],
      "execution_count": 26,
      "outputs": [
        {
          "output_type": "execute_result",
          "data": {
            "text/html": [
              "\n",
              "  <div id=\"df-f1b1345d-d4e8-4d52-8a76-31211c01c11f\">\n",
              "    <div class=\"colab-df-container\">\n",
              "      <div>\n",
              "<style scoped>\n",
              "    .dataframe tbody tr th:only-of-type {\n",
              "        vertical-align: middle;\n",
              "    }\n",
              "\n",
              "    .dataframe tbody tr th {\n",
              "        vertical-align: top;\n",
              "    }\n",
              "\n",
              "    .dataframe thead th {\n",
              "        text-align: right;\n",
              "    }\n",
              "</style>\n",
              "<table border=\"1\" class=\"dataframe\">\n",
              "  <thead>\n",
              "    <tr style=\"text-align: right;\">\n",
              "      <th></th>\n",
              "      <th>name</th>\n",
              "      <th>arr_num</th>\n",
              "      <th>label</th>\n",
              "    </tr>\n",
              "  </thead>\n",
              "  <tbody>\n",
              "    <tr>\n",
              "      <th>0</th>\n",
              "      <td>กมลภู</td>\n",
              "      <td>94,126,130,125,149</td>\n",
              "      <td>1</td>\n",
              "    </tr>\n",
              "    <tr>\n",
              "      <th>1</th>\n",
              "      <td>กรกวรรษ</td>\n",
              "      <td>94,128,94,131,128,128,133</td>\n",
              "      <td>1</td>\n",
              "    </tr>\n",
              "    <tr>\n",
              "      <th>2</th>\n",
              "      <td>กรณ์</td>\n",
              "      <td>94,128,112,163</td>\n",
              "      <td>1</td>\n",
              "    </tr>\n",
              "    <tr>\n",
              "      <th>3</th>\n",
              "      <td>กฤศ</td>\n",
              "      <td>94,129,132</td>\n",
              "      <td>1</td>\n",
              "    </tr>\n",
              "    <tr>\n",
              "      <th>4</th>\n",
              "      <td>กฤษิกร</td>\n",
              "      <td>94,129,133,144,94,128</td>\n",
              "      <td>1</td>\n",
              "    </tr>\n",
              "  </tbody>\n",
              "</table>\n",
              "</div>\n",
              "      <button class=\"colab-df-convert\" onclick=\"convertToInteractive('df-f1b1345d-d4e8-4d52-8a76-31211c01c11f')\"\n",
              "              title=\"Convert this dataframe to an interactive table.\"\n",
              "              style=\"display:none;\">\n",
              "        \n",
              "  <svg xmlns=\"http://www.w3.org/2000/svg\" height=\"24px\"viewBox=\"0 0 24 24\"\n",
              "       width=\"24px\">\n",
              "    <path d=\"M0 0h24v24H0V0z\" fill=\"none\"/>\n",
              "    <path d=\"M18.56 5.44l.94 2.06.94-2.06 2.06-.94-2.06-.94-.94-2.06-.94 2.06-2.06.94zm-11 1L8.5 8.5l.94-2.06 2.06-.94-2.06-.94L8.5 2.5l-.94 2.06-2.06.94zm10 10l.94 2.06.94-2.06 2.06-.94-2.06-.94-.94-2.06-.94 2.06-2.06.94z\"/><path d=\"M17.41 7.96l-1.37-1.37c-.4-.4-.92-.59-1.43-.59-.52 0-1.04.2-1.43.59L10.3 9.45l-7.72 7.72c-.78.78-.78 2.05 0 2.83L4 21.41c.39.39.9.59 1.41.59.51 0 1.02-.2 1.41-.59l7.78-7.78 2.81-2.81c.8-.78.8-2.07 0-2.86zM5.41 20L4 18.59l7.72-7.72 1.47 1.35L5.41 20z\"/>\n",
              "  </svg>\n",
              "      </button>\n",
              "      \n",
              "  <style>\n",
              "    .colab-df-container {\n",
              "      display:flex;\n",
              "      flex-wrap:wrap;\n",
              "      gap: 12px;\n",
              "    }\n",
              "\n",
              "    .colab-df-convert {\n",
              "      background-color: #E8F0FE;\n",
              "      border: none;\n",
              "      border-radius: 50%;\n",
              "      cursor: pointer;\n",
              "      display: none;\n",
              "      fill: #1967D2;\n",
              "      height: 32px;\n",
              "      padding: 0 0 0 0;\n",
              "      width: 32px;\n",
              "    }\n",
              "\n",
              "    .colab-df-convert:hover {\n",
              "      background-color: #E2EBFA;\n",
              "      box-shadow: 0px 1px 2px rgba(60, 64, 67, 0.3), 0px 1px 3px 1px rgba(60, 64, 67, 0.15);\n",
              "      fill: #174EA6;\n",
              "    }\n",
              "\n",
              "    [theme=dark] .colab-df-convert {\n",
              "      background-color: #3B4455;\n",
              "      fill: #D2E3FC;\n",
              "    }\n",
              "\n",
              "    [theme=dark] .colab-df-convert:hover {\n",
              "      background-color: #434B5C;\n",
              "      box-shadow: 0px 1px 3px 1px rgba(0, 0, 0, 0.15);\n",
              "      filter: drop-shadow(0px 1px 2px rgba(0, 0, 0, 0.3));\n",
              "      fill: #FFFFFF;\n",
              "    }\n",
              "  </style>\n",
              "\n",
              "      <script>\n",
              "        const buttonEl =\n",
              "          document.querySelector('#df-f1b1345d-d4e8-4d52-8a76-31211c01c11f button.colab-df-convert');\n",
              "        buttonEl.style.display =\n",
              "          google.colab.kernel.accessAllowed ? 'block' : 'none';\n",
              "\n",
              "        async function convertToInteractive(key) {\n",
              "          const element = document.querySelector('#df-f1b1345d-d4e8-4d52-8a76-31211c01c11f');\n",
              "          const dataTable =\n",
              "            await google.colab.kernel.invokeFunction('convertToInteractive',\n",
              "                                                     [key], {});\n",
              "          if (!dataTable) return;\n",
              "\n",
              "          const docLinkHtml = 'Like what you see? Visit the ' +\n",
              "            '<a target=\"_blank\" href=https://colab.research.google.com/notebooks/data_table.ipynb>data table notebook</a>'\n",
              "            + ' to learn more about interactive tables.';\n",
              "          element.innerHTML = '';\n",
              "          dataTable['output_type'] = 'display_data';\n",
              "          await google.colab.output.renderOutput(dataTable, element);\n",
              "          const docLink = document.createElement('div');\n",
              "          docLink.innerHTML = docLinkHtml;\n",
              "          element.appendChild(docLink);\n",
              "        }\n",
              "      </script>\n",
              "    </div>\n",
              "  </div>\n",
              "  "
            ],
            "text/plain": [
              "      name                    arr_num  label\n",
              "0    กมลภู         94,126,130,125,149      1\n",
              "1  กรกวรรษ  94,128,94,131,128,128,133      1\n",
              "2     กรณ์             94,128,112,163      1\n",
              "3      กฤศ                 94,129,132      1\n",
              "4   กฤษิกร      94,129,133,144,94,128      1"
            ]
          },
          "metadata": {},
          "execution_count": 26
        }
      ]
    },
    {
      "cell_type": "markdown",
      "metadata": {
        "id": "EBICc_Dv77gh"
      },
      "source": [
        "หาค่าจำนวน  Character สูงสุดที่เป็นไปได้และเพิ่มไปอีก 1.5 เท่า\n",
        "เป็นข้อจำกัดของ LSTM ที่ต้องกำหนดค่าสูงสุดของตัวอักษรในที่นี้คือ maxlen"
      ]
    },
    {
      "cell_type": "code",
      "metadata": {
        "colab": {
          "base_uri": "https://localhost:8080/"
        },
        "id": "9uCkmpzcGZlJ",
        "outputId": "7f6d2527-0d9c-4309-ef0a-53285e3a74a7"
      },
      "source": [
        "arr_numID = []\n",
        "maxlen = 0\n",
        "n = 0\n",
        "for i in df.arr_num:\n",
        "  n = n+1\n",
        "  #print(n,i)\n",
        "  arr_tmp = [int(iInt) for iInt in i.split(',')]\n",
        "  #print(arr_tmp)\n",
        "  arr_numID.append(arr_tmp)\n",
        "  #print(i.split(','))\n",
        "  lentmp = len(arr_numID[-1])\n",
        "  if maxlen < lentmp:\n",
        "    maxlen = lentmp\n",
        "maxlen = int(maxlen*1.5)\n",
        "print(maxlen)\n",
        "#ได้ maxlen"
      ],
      "execution_count": 27,
      "outputs": [
        {
          "output_type": "stream",
          "name": "stdout",
          "text": [
            "22\n"
          ]
        }
      ]
    },
    {
      "cell_type": "code",
      "metadata": {
        "id": "nqzpeX8Hd2Q7"
      },
      "source": [
        "#arr_numID[:5],df.label.values[:5]"
      ],
      "execution_count": 28,
      "outputs": []
    },
    {
      "cell_type": "markdown",
      "metadata": {
        "id": "i5hW5Vl0ITmJ"
      },
      "source": [
        "#แบ่ง Train Test"
      ]
    },
    {
      "cell_type": "code",
      "metadata": {
        "id": "oHNF5-hJIIzv"
      },
      "source": [
        "from sklearn.model_selection import train_test_split"
      ],
      "execution_count": 29,
      "outputs": []
    },
    {
      "cell_type": "markdown",
      "metadata": {
        "id": "MaJKrF1b8aP2"
      },
      "source": [
        "ทำ padding ให้กับคำโดยเติม 0 ไปข้างหน้าให้เต็ม เช่น [0,0,0,192,191,176,123]"
      ]
    },
    {
      "cell_type": "code",
      "metadata": {
        "id": "KazfcxbpA4yc"
      },
      "source": [
        "X = tf.keras.preprocessing.sequence.pad_sequences(\n",
        "    arr_numID, maxlen=maxlen, dtype='int32', padding='pre',\n",
        "    truncating='pre', value=0.0\n",
        ")\n",
        "y = df.label.values"
      ],
      "execution_count": 30,
      "outputs": []
    },
    {
      "cell_type": "markdown",
      "metadata": {
        "id": "reI2VYHA8pzS"
      },
      "source": [
        "แบ่ง Dataset  ออกมา 3 ส่วน ประกอบด้วย Train Set,Test Set,Validation Set"
      ]
    },
    {
      "cell_type": "code",
      "metadata": {
        "colab": {
          "base_uri": "https://localhost:8080/"
        },
        "id": "I2H0tcaGIci_",
        "outputId": "650cb674-9c5a-49a2-c23b-3da5b95b8c6f"
      },
      "source": [
        "X_trainTMP, X_test, y_trainTMP, y_test = train_test_split(X, y, test_size=0.2)\n",
        "X_train, X_valid, y_train, y_valid = train_test_split(X_trainTMP, y_trainTMP, test_size=0.3, random_state=42)\n",
        "X_train.shape,y_train.shape,X_valid.shape,y_valid.shape,X_test.shape,y_test.shape,"
      ],
      "execution_count": 31,
      "outputs": [
        {
          "output_type": "execute_result",
          "data": {
            "text/plain": [
              "((1131, 22), (1131,), (486, 22), (486,), (405, 22), (405,))"
            ]
          },
          "metadata": {},
          "execution_count": 31
        }
      ]
    },
    {
      "cell_type": "markdown",
      "metadata": {
        "id": "Q5Skksl480Hr"
      },
      "source": [
        "#Train ด้วย LSTM"
      ]
    },
    {
      "cell_type": "code",
      "metadata": {
        "colab": {
          "base_uri": "https://localhost:8080/"
        },
        "id": "PMnRhbPp-AhO",
        "outputId": "650d45f2-339f-41aa-b604-4c567916a614"
      },
      "source": [
        "vocab_size = len(CHARS)\n",
        "print(vocab_size)\n",
        "del(model)\n",
        "model = tf.keras.Sequential([\n",
        "    tf.keras.layers.Embedding(vocab_size, 1, input_length=maxlen),\n",
        "    tf.keras.layers.LSTM(1,return_sequences=False),\n",
        "    tf.keras.layers.Dense(1, activation='sigmoid')\n",
        "])\n",
        "model.compile(loss=tf.keras.losses.binary_crossentropy,optimizer='adam',metrics=['accuracy'])\n",
        "model.summary()\n",
        "loss = []\n",
        "val_loss = []\n",
        "acc = []\n",
        "val_acc = []"
      ],
      "execution_count": 32,
      "outputs": [
        {
          "output_type": "stream",
          "name": "stdout",
          "text": [
            "178\n",
            "Model: \"sequential\"\n",
            "_________________________________________________________________\n",
            " Layer (type)                Output Shape              Param #   \n",
            "=================================================================\n",
            " embedding (Embedding)       (None, 22, 1)             178       \n",
            "                                                                 \n",
            " lstm (LSTM)                 (None, 1)                 12        \n",
            "                                                                 \n",
            " dense (Dense)               (None, 1)                 2         \n",
            "                                                                 \n",
            "=================================================================\n",
            "Total params: 192\n",
            "Trainable params: 192\n",
            "Non-trainable params: 0\n",
            "_________________________________________________________________\n"
          ]
        }
      ]
    },
    {
      "cell_type": "code",
      "metadata": {
        "colab": {
          "base_uri": "https://localhost:8080/"
        },
        "id": "pSpoRc2YB9ow",
        "outputId": "90b37b7b-6d19-4755-f800-c417ec0b4e0e"
      },
      "source": [
        "%%time\n",
        "history_tmp = model.fit(X_train,y_train,epochs=100,validation_data=(X_valid,y_valid),verbose=1)"
      ],
      "execution_count": 33,
      "outputs": [
        {
          "output_type": "stream",
          "name": "stdout",
          "text": [
            "Epoch 1/100\n",
            "36/36 [==============================] - 3s 26ms/step - loss: 0.6922 - accuracy: 0.5659 - val_loss: 0.6909 - val_accuracy: 0.6646\n",
            "Epoch 2/100\n",
            "36/36 [==============================] - 0s 12ms/step - loss: 0.6885 - accuracy: 0.7507 - val_loss: 0.6864 - val_accuracy: 0.7819\n",
            "Epoch 3/100\n",
            "36/36 [==============================] - 0s 11ms/step - loss: 0.6827 - accuracy: 0.7843 - val_loss: 0.6788 - val_accuracy: 0.7840\n",
            "Epoch 4/100\n",
            "36/36 [==============================] - 0s 11ms/step - loss: 0.6731 - accuracy: 0.7586 - val_loss: 0.6664 - val_accuracy: 0.7346\n",
            "Epoch 5/100\n",
            "36/36 [==============================] - 0s 11ms/step - loss: 0.6586 - accuracy: 0.7286 - val_loss: 0.6495 - val_accuracy: 0.7160\n",
            "Epoch 6/100\n",
            "36/36 [==============================] - 0s 12ms/step - loss: 0.6414 - accuracy: 0.7330 - val_loss: 0.6322 - val_accuracy: 0.7366\n",
            "Epoch 7/100\n",
            "36/36 [==============================] - 0s 11ms/step - loss: 0.6229 - accuracy: 0.7763 - val_loss: 0.6157 - val_accuracy: 0.7840\n",
            "Epoch 8/100\n",
            "36/36 [==============================] - 0s 12ms/step - loss: 0.6046 - accuracy: 0.8064 - val_loss: 0.5983 - val_accuracy: 0.7613\n",
            "Epoch 9/100\n",
            "36/36 [==============================] - 0s 12ms/step - loss: 0.5876 - accuracy: 0.8011 - val_loss: 0.5838 - val_accuracy: 0.8086\n",
            "Epoch 10/100\n",
            "36/36 [==============================] - 0s 11ms/step - loss: 0.5715 - accuracy: 0.8232 - val_loss: 0.5685 - val_accuracy: 0.8045\n",
            "Epoch 11/100\n",
            "36/36 [==============================] - 0s 10ms/step - loss: 0.5571 - accuracy: 0.8285 - val_loss: 0.5554 - val_accuracy: 0.8107\n",
            "Epoch 12/100\n",
            "36/36 [==============================] - 0s 11ms/step - loss: 0.5437 - accuracy: 0.8294 - val_loss: 0.5433 - val_accuracy: 0.8169\n",
            "Epoch 13/100\n",
            "36/36 [==============================] - 0s 11ms/step - loss: 0.5316 - accuracy: 0.8294 - val_loss: 0.5326 - val_accuracy: 0.8313\n",
            "Epoch 14/100\n",
            "36/36 [==============================] - 0s 12ms/step - loss: 0.5208 - accuracy: 0.8276 - val_loss: 0.5226 - val_accuracy: 0.8230\n",
            "Epoch 15/100\n",
            "36/36 [==============================] - 0s 11ms/step - loss: 0.5111 - accuracy: 0.8258 - val_loss: 0.5129 - val_accuracy: 0.8333\n",
            "Epoch 16/100\n",
            "36/36 [==============================] - 0s 11ms/step - loss: 0.5016 - accuracy: 0.8355 - val_loss: 0.5050 - val_accuracy: 0.8333\n",
            "Epoch 17/100\n",
            "36/36 [==============================] - 0s 12ms/step - loss: 0.4931 - accuracy: 0.8355 - val_loss: 0.4968 - val_accuracy: 0.8374\n",
            "Epoch 18/100\n",
            "36/36 [==============================] - 0s 12ms/step - loss: 0.4852 - accuracy: 0.8373 - val_loss: 0.4898 - val_accuracy: 0.8354\n",
            "Epoch 19/100\n",
            "36/36 [==============================] - 0s 12ms/step - loss: 0.4781 - accuracy: 0.8391 - val_loss: 0.4838 - val_accuracy: 0.8313\n",
            "Epoch 20/100\n",
            "36/36 [==============================] - 0s 11ms/step - loss: 0.4710 - accuracy: 0.8435 - val_loss: 0.4775 - val_accuracy: 0.8333\n",
            "Epoch 21/100\n",
            "36/36 [==============================] - 0s 12ms/step - loss: 0.4642 - accuracy: 0.8479 - val_loss: 0.4711 - val_accuracy: 0.8416\n",
            "Epoch 22/100\n",
            "36/36 [==============================] - 0s 11ms/step - loss: 0.4582 - accuracy: 0.8470 - val_loss: 0.4659 - val_accuracy: 0.8374\n",
            "Epoch 23/100\n",
            "36/36 [==============================] - 0s 12ms/step - loss: 0.4528 - accuracy: 0.8444 - val_loss: 0.4608 - val_accuracy: 0.8374\n",
            "Epoch 24/100\n",
            "36/36 [==============================] - 0s 11ms/step - loss: 0.4473 - accuracy: 0.8470 - val_loss: 0.4563 - val_accuracy: 0.8395\n",
            "Epoch 25/100\n",
            "36/36 [==============================] - 0s 12ms/step - loss: 0.4421 - accuracy: 0.8506 - val_loss: 0.4518 - val_accuracy: 0.8436\n",
            "Epoch 26/100\n",
            "36/36 [==============================] - 0s 12ms/step - loss: 0.4374 - accuracy: 0.8506 - val_loss: 0.4475 - val_accuracy: 0.8436\n",
            "Epoch 27/100\n",
            "36/36 [==============================] - 0s 12ms/step - loss: 0.4330 - accuracy: 0.8470 - val_loss: 0.4436 - val_accuracy: 0.8457\n",
            "Epoch 28/100\n",
            "36/36 [==============================] - 0s 12ms/step - loss: 0.4290 - accuracy: 0.8515 - val_loss: 0.4406 - val_accuracy: 0.8416\n",
            "Epoch 29/100\n",
            "36/36 [==============================] - 1s 27ms/step - loss: 0.4248 - accuracy: 0.8506 - val_loss: 0.4368 - val_accuracy: 0.8436\n",
            "Epoch 30/100\n",
            "36/36 [==============================] - 0s 12ms/step - loss: 0.4215 - accuracy: 0.8506 - val_loss: 0.4345 - val_accuracy: 0.8416\n",
            "Epoch 31/100\n",
            "36/36 [==============================] - 0s 12ms/step - loss: 0.4187 - accuracy: 0.8488 - val_loss: 0.4316 - val_accuracy: 0.8436\n",
            "Epoch 32/100\n",
            "36/36 [==============================] - 0s 12ms/step - loss: 0.4145 - accuracy: 0.8515 - val_loss: 0.4290 - val_accuracy: 0.8436\n",
            "Epoch 33/100\n",
            "36/36 [==============================] - 0s 12ms/step - loss: 0.4120 - accuracy: 0.8515 - val_loss: 0.4257 - val_accuracy: 0.8436\n",
            "Epoch 34/100\n",
            "36/36 [==============================] - 0s 11ms/step - loss: 0.4085 - accuracy: 0.8497 - val_loss: 0.4239 - val_accuracy: 0.8457\n",
            "Epoch 35/100\n",
            "36/36 [==============================] - 0s 11ms/step - loss: 0.4058 - accuracy: 0.8523 - val_loss: 0.4218 - val_accuracy: 0.8436\n",
            "Epoch 36/100\n",
            "36/36 [==============================] - 0s 12ms/step - loss: 0.4030 - accuracy: 0.8532 - val_loss: 0.4196 - val_accuracy: 0.8457\n",
            "Epoch 37/100\n",
            "36/36 [==============================] - 0s 12ms/step - loss: 0.4005 - accuracy: 0.8515 - val_loss: 0.4178 - val_accuracy: 0.8457\n",
            "Epoch 38/100\n",
            "36/36 [==============================] - 0s 12ms/step - loss: 0.3984 - accuracy: 0.8515 - val_loss: 0.4157 - val_accuracy: 0.8436\n",
            "Epoch 39/100\n",
            "36/36 [==============================] - 0s 12ms/step - loss: 0.3965 - accuracy: 0.8506 - val_loss: 0.4149 - val_accuracy: 0.8374\n",
            "Epoch 40/100\n",
            "36/36 [==============================] - 0s 12ms/step - loss: 0.3938 - accuracy: 0.8550 - val_loss: 0.4119 - val_accuracy: 0.8395\n",
            "Epoch 41/100\n",
            "36/36 [==============================] - 0s 12ms/step - loss: 0.3937 - accuracy: 0.8523 - val_loss: 0.4115 - val_accuracy: 0.8416\n",
            "Epoch 42/100\n",
            "36/36 [==============================] - 0s 11ms/step - loss: 0.3904 - accuracy: 0.8506 - val_loss: 0.4096 - val_accuracy: 0.8436\n",
            "Epoch 43/100\n",
            "36/36 [==============================] - 0s 12ms/step - loss: 0.3883 - accuracy: 0.8506 - val_loss: 0.4092 - val_accuracy: 0.8416\n",
            "Epoch 44/100\n",
            "36/36 [==============================] - 0s 11ms/step - loss: 0.3868 - accuracy: 0.8550 - val_loss: 0.4074 - val_accuracy: 0.8436\n",
            "Epoch 45/100\n",
            "36/36 [==============================] - 0s 13ms/step - loss: 0.3855 - accuracy: 0.8550 - val_loss: 0.4068 - val_accuracy: 0.8416\n",
            "Epoch 46/100\n",
            "36/36 [==============================] - 0s 12ms/step - loss: 0.3835 - accuracy: 0.8568 - val_loss: 0.4048 - val_accuracy: 0.8436\n",
            "Epoch 47/100\n",
            "36/36 [==============================] - 0s 13ms/step - loss: 0.3825 - accuracy: 0.8550 - val_loss: 0.4040 - val_accuracy: 0.8436\n",
            "Epoch 48/100\n",
            "36/36 [==============================] - 0s 12ms/step - loss: 0.3811 - accuracy: 0.8550 - val_loss: 0.4029 - val_accuracy: 0.8436\n",
            "Epoch 49/100\n",
            "36/36 [==============================] - 0s 11ms/step - loss: 0.3799 - accuracy: 0.8568 - val_loss: 0.4015 - val_accuracy: 0.8416\n",
            "Epoch 50/100\n",
            "36/36 [==============================] - 0s 12ms/step - loss: 0.3787 - accuracy: 0.8523 - val_loss: 0.4014 - val_accuracy: 0.8457\n",
            "Epoch 51/100\n",
            "36/36 [==============================] - 0s 11ms/step - loss: 0.3770 - accuracy: 0.8523 - val_loss: 0.4000 - val_accuracy: 0.8436\n",
            "Epoch 52/100\n",
            "36/36 [==============================] - 0s 12ms/step - loss: 0.3755 - accuracy: 0.8550 - val_loss: 0.3998 - val_accuracy: 0.8457\n",
            "Epoch 53/100\n",
            "36/36 [==============================] - 0s 12ms/step - loss: 0.3746 - accuracy: 0.8559 - val_loss: 0.3996 - val_accuracy: 0.8374\n",
            "Epoch 54/100\n",
            "36/36 [==============================] - 0s 11ms/step - loss: 0.3747 - accuracy: 0.8523 - val_loss: 0.3989 - val_accuracy: 0.8395\n",
            "Epoch 55/100\n",
            "36/36 [==============================] - 0s 12ms/step - loss: 0.3729 - accuracy: 0.8568 - val_loss: 0.3988 - val_accuracy: 0.8374\n",
            "Epoch 56/100\n",
            "36/36 [==============================] - 0s 12ms/step - loss: 0.3718 - accuracy: 0.8576 - val_loss: 0.3983 - val_accuracy: 0.8374\n",
            "Epoch 57/100\n",
            "36/36 [==============================] - 0s 11ms/step - loss: 0.3710 - accuracy: 0.8559 - val_loss: 0.3968 - val_accuracy: 0.8436\n",
            "Epoch 58/100\n",
            "36/36 [==============================] - 0s 11ms/step - loss: 0.3699 - accuracy: 0.8576 - val_loss: 0.3968 - val_accuracy: 0.8395\n",
            "Epoch 59/100\n",
            "36/36 [==============================] - 0s 11ms/step - loss: 0.3688 - accuracy: 0.8612 - val_loss: 0.3963 - val_accuracy: 0.8395\n",
            "Epoch 60/100\n",
            "36/36 [==============================] - 0s 12ms/step - loss: 0.3684 - accuracy: 0.8612 - val_loss: 0.3950 - val_accuracy: 0.8436\n",
            "Epoch 61/100\n",
            "36/36 [==============================] - 0s 12ms/step - loss: 0.3671 - accuracy: 0.8603 - val_loss: 0.3946 - val_accuracy: 0.8436\n",
            "Epoch 62/100\n",
            "36/36 [==============================] - 0s 12ms/step - loss: 0.3660 - accuracy: 0.8612 - val_loss: 0.3950 - val_accuracy: 0.8395\n",
            "Epoch 63/100\n",
            "36/36 [==============================] - 0s 12ms/step - loss: 0.3654 - accuracy: 0.8585 - val_loss: 0.3939 - val_accuracy: 0.8395\n",
            "Epoch 64/100\n",
            "36/36 [==============================] - 0s 12ms/step - loss: 0.3651 - accuracy: 0.8630 - val_loss: 0.3940 - val_accuracy: 0.8395\n",
            "Epoch 65/100\n",
            "36/36 [==============================] - 0s 11ms/step - loss: 0.3643 - accuracy: 0.8630 - val_loss: 0.3935 - val_accuracy: 0.8374\n",
            "Epoch 66/100\n",
            "36/36 [==============================] - 0s 12ms/step - loss: 0.3629 - accuracy: 0.8621 - val_loss: 0.3929 - val_accuracy: 0.8416\n",
            "Epoch 67/100\n",
            "36/36 [==============================] - 0s 12ms/step - loss: 0.3623 - accuracy: 0.8621 - val_loss: 0.3929 - val_accuracy: 0.8436\n",
            "Epoch 68/100\n",
            "36/36 [==============================] - 0s 11ms/step - loss: 0.3618 - accuracy: 0.8630 - val_loss: 0.3927 - val_accuracy: 0.8436\n",
            "Epoch 69/100\n",
            "36/36 [==============================] - 0s 12ms/step - loss: 0.3604 - accuracy: 0.8647 - val_loss: 0.3931 - val_accuracy: 0.8395\n",
            "Epoch 70/100\n",
            "36/36 [==============================] - 0s 11ms/step - loss: 0.3598 - accuracy: 0.8630 - val_loss: 0.3921 - val_accuracy: 0.8416\n",
            "Epoch 71/100\n",
            "36/36 [==============================] - 0s 12ms/step - loss: 0.3596 - accuracy: 0.8630 - val_loss: 0.3936 - val_accuracy: 0.8333\n",
            "Epoch 72/100\n",
            "36/36 [==============================] - 0s 13ms/step - loss: 0.3591 - accuracy: 0.8630 - val_loss: 0.3924 - val_accuracy: 0.8333\n",
            "Epoch 73/100\n",
            "36/36 [==============================] - 0s 12ms/step - loss: 0.3584 - accuracy: 0.8647 - val_loss: 0.3927 - val_accuracy: 0.8374\n",
            "Epoch 74/100\n",
            "36/36 [==============================] - 0s 12ms/step - loss: 0.3573 - accuracy: 0.8621 - val_loss: 0.3926 - val_accuracy: 0.8395\n",
            "Epoch 75/100\n",
            "36/36 [==============================] - 0s 12ms/step - loss: 0.3569 - accuracy: 0.8621 - val_loss: 0.3908 - val_accuracy: 0.8395\n",
            "Epoch 76/100\n",
            "36/36 [==============================] - 0s 12ms/step - loss: 0.3575 - accuracy: 0.8638 - val_loss: 0.3901 - val_accuracy: 0.8395\n",
            "Epoch 77/100\n",
            "36/36 [==============================] - 0s 11ms/step - loss: 0.3555 - accuracy: 0.8630 - val_loss: 0.3913 - val_accuracy: 0.8354\n",
            "Epoch 78/100\n",
            "36/36 [==============================] - 0s 13ms/step - loss: 0.3553 - accuracy: 0.8621 - val_loss: 0.3909 - val_accuracy: 0.8333\n",
            "Epoch 79/100\n",
            "36/36 [==============================] - 0s 11ms/step - loss: 0.3542 - accuracy: 0.8638 - val_loss: 0.3918 - val_accuracy: 0.8333\n",
            "Epoch 80/100\n",
            "36/36 [==============================] - 0s 12ms/step - loss: 0.3542 - accuracy: 0.8638 - val_loss: 0.3898 - val_accuracy: 0.8354\n",
            "Epoch 81/100\n",
            "36/36 [==============================] - 0s 12ms/step - loss: 0.3533 - accuracy: 0.8674 - val_loss: 0.3905 - val_accuracy: 0.8333\n",
            "Epoch 82/100\n",
            "36/36 [==============================] - 0s 12ms/step - loss: 0.3539 - accuracy: 0.8630 - val_loss: 0.3905 - val_accuracy: 0.8354\n",
            "Epoch 83/100\n",
            "36/36 [==============================] - 0s 11ms/step - loss: 0.3524 - accuracy: 0.8647 - val_loss: 0.3908 - val_accuracy: 0.8333\n",
            "Epoch 84/100\n",
            "36/36 [==============================] - 0s 11ms/step - loss: 0.3522 - accuracy: 0.8647 - val_loss: 0.3912 - val_accuracy: 0.8333\n",
            "Epoch 85/100\n",
            "36/36 [==============================] - 0s 12ms/step - loss: 0.3520 - accuracy: 0.8665 - val_loss: 0.3919 - val_accuracy: 0.8313\n",
            "Epoch 86/100\n",
            "36/36 [==============================] - 0s 11ms/step - loss: 0.3511 - accuracy: 0.8691 - val_loss: 0.3903 - val_accuracy: 0.8354\n",
            "Epoch 87/100\n",
            "36/36 [==============================] - 0s 11ms/step - loss: 0.3512 - accuracy: 0.8665 - val_loss: 0.3895 - val_accuracy: 0.8374\n",
            "Epoch 88/100\n",
            "36/36 [==============================] - 0s 12ms/step - loss: 0.3503 - accuracy: 0.8674 - val_loss: 0.3913 - val_accuracy: 0.8292\n",
            "Epoch 89/100\n",
            "36/36 [==============================] - 0s 11ms/step - loss: 0.3495 - accuracy: 0.8665 - val_loss: 0.3907 - val_accuracy: 0.8333\n",
            "Epoch 90/100\n",
            "36/36 [==============================] - 0s 12ms/step - loss: 0.3493 - accuracy: 0.8674 - val_loss: 0.3896 - val_accuracy: 0.8395\n",
            "Epoch 91/100\n",
            "36/36 [==============================] - 0s 12ms/step - loss: 0.3503 - accuracy: 0.8665 - val_loss: 0.3890 - val_accuracy: 0.8395\n",
            "Epoch 92/100\n",
            "36/36 [==============================] - 0s 12ms/step - loss: 0.3493 - accuracy: 0.8691 - val_loss: 0.3894 - val_accuracy: 0.8395\n",
            "Epoch 93/100\n",
            "36/36 [==============================] - 0s 12ms/step - loss: 0.3488 - accuracy: 0.8700 - val_loss: 0.3911 - val_accuracy: 0.8292\n",
            "Epoch 94/100\n",
            "36/36 [==============================] - 0s 11ms/step - loss: 0.3487 - accuracy: 0.8683 - val_loss: 0.3890 - val_accuracy: 0.8395\n",
            "Epoch 95/100\n",
            "36/36 [==============================] - 0s 12ms/step - loss: 0.3478 - accuracy: 0.8700 - val_loss: 0.3911 - val_accuracy: 0.8313\n",
            "Epoch 96/100\n",
            "36/36 [==============================] - 0s 12ms/step - loss: 0.3475 - accuracy: 0.8691 - val_loss: 0.3918 - val_accuracy: 0.8272\n",
            "Epoch 97/100\n",
            "36/36 [==============================] - 0s 11ms/step - loss: 0.3470 - accuracy: 0.8691 - val_loss: 0.3915 - val_accuracy: 0.8292\n",
            "Epoch 98/100\n",
            "36/36 [==============================] - 0s 13ms/step - loss: 0.3465 - accuracy: 0.8709 - val_loss: 0.3901 - val_accuracy: 0.8374\n",
            "Epoch 99/100\n",
            "36/36 [==============================] - 0s 11ms/step - loss: 0.3472 - accuracy: 0.8700 - val_loss: 0.3904 - val_accuracy: 0.8416\n",
            "Epoch 100/100\n",
            "36/36 [==============================] - 0s 13ms/step - loss: 0.3471 - accuracy: 0.8691 - val_loss: 0.3901 - val_accuracy: 0.8354\n",
            "CPU times: user 59.6 s, sys: 3.71 s, total: 1min 3s\n",
            "Wall time: 1min 23s\n"
          ]
        }
      ]
    },
    {
      "cell_type": "code",
      "metadata": {
        "id": "dGhsLGhtJz_7"
      },
      "source": [
        "loss.extend(history_tmp.history['loss'])\n",
        "val_loss.extend(history_tmp.history['val_loss'])\n",
        "acc.extend(history_tmp.history['accuracy'])\n",
        "val_acc.extend(history_tmp.history['val_accuracy'])"
      ],
      "execution_count": 34,
      "outputs": []
    },
    {
      "cell_type": "code",
      "metadata": {
        "colab": {
          "base_uri": "https://localhost:8080/",
          "height": 530
        },
        "id": "HHo8OSbwe4b8",
        "outputId": "d4c51236-d371-48f4-810b-2c92b4708d2a"
      },
      "source": [
        "plt.plot(loss)\n",
        "plt.plot(val_loss)\n",
        "plt.show()\n",
        "plt.plot(acc)\n",
        "plt.plot(val_acc)"
      ],
      "execution_count": 35,
      "outputs": [
        {
          "output_type": "display_data",
          "data": {
            "image/png": "[encoded data removed]",
            "text/plain": [
              "<Figure size 432x288 with 1 Axes>"
            ]
          },
          "metadata": {
            "needs_background": "light"
          }
        },
        {
          "output_type": "execute_result",
          "data": {
            "text/plain": [
              "[<matplotlib.lines.Line2D at 0x7fadf6847f90>]"
            ]
          },
          "metadata": {},
          "execution_count": 35
        },
        {
          "output_type": "display_data",
          "data": {
            "image/png": "[encoded data removed]",
            "text/plain": [
              "<Figure size 432x288 with 1 Axes>"
            ]
          },
          "metadata": {
            "needs_background": "light"
          }
        }
      ]
    },
    {
      "cell_type": "markdown",
      "metadata": {
        "id": "o7lvH8TN8968"
      },
      "source": [
        "ทดสอบ โดยหาชื่อมาลอง Predict ดู"
      ]
    },
    {
      "cell_type": "code",
      "metadata": {
        "colab": {
          "base_uri": "https://localhost:8080/"
        },
        "id": "kRUikxcdkviM",
        "outputId": "3b7d4b79-195e-4999-f3b0-128ee593ef5a"
      },
      "source": [
        "import  numpy as np\n",
        "name = \"รักษา\"\n",
        "arr = [int(i) for i in name2arr(name).split(\",\")]\n",
        "dataTest = tf.keras.preprocessing.sequence.pad_sequences(np.array([arr]), maxlen=maxlen, dtype='int32', padding='pre',truncating='pre', value=0.0)\n",
        "model.predict(dataTest)"
      ],
      "execution_count": 36,
      "outputs": [
        {
          "output_type": "execute_result",
          "data": {
            "text/plain": [
              "array([[0.82044744]], dtype=float32)"
            ]
          },
          "metadata": {},
          "execution_count": 36
        }
      ]
    },
    {
      "cell_type": "markdown",
      "metadata": {
        "id": "yzTjTUbR9Ykc"
      },
      "source": [
        "#Evaluation"
      ]
    },
    {
      "cell_type": "code",
      "metadata": {
        "id": "Iu3cCO2foOAs"
      },
      "source": [
        "from sklearn import metrics"
      ],
      "execution_count": 37,
      "outputs": []
    },
    {
      "cell_type": "code",
      "metadata": {
        "id": "EB4aL2OAkQeR"
      },
      "source": [
        "#pred = model.predict_classes(X_test)\n",
        "pred = []\n",
        "for  i  in model.predict(X_test):\n",
        "  #print(i[0])\n",
        "  tmp  = 0 if i[0] <  0.8 else  1\n",
        "  pred.append(tmp)\n",
        "  #print(tmp)\n",
        "pred  = np.array(pred)"
      ],
      "execution_count": 85,
      "outputs": []
    },
    {
      "cell_type": "code",
      "source": [
        "print(pred)"
      ],
      "metadata": {
        "id": "vuX9AnKH9AkP",
        "outputId": "7aa8575f-c38a-4070-a27c-6d470d945b93",
        "colab": {
          "base_uri": "https://localhost:8080/"
        }
      },
      "execution_count": 86,
      "outputs": [
        {
          "output_type": "stream",
          "name": "stdout",
          "text": [
            "[1 1 1 0 0 1 0 1 1 0 1 0 1 1 0 0 1 0 0 0 0 1 1 0 1 0 0 0 1 0 0 0 1 1 1 1 0\n",
            " 0 1 0 1 1 1 0 0 0 0 0 0 0 0 1 0 1 0 0 1 0 0 0 0 1 1 1 0 0 1 1 0 1 0 0 0 1\n",
            " 1 1 1 1 0 0 0 1 0 0 1 0 0 1 1 0 0 1 0 1 0 0 1 1 1 0 1 1 0 0 0 1 1 1 0 1 1\n",
            " 1 1 0 1 1 0 0 0 0 0 0 0 1 0 1 0 0 1 0 1 1 0 0 1 0 0 0 1 0 0 0 0 0 0 0 0 1\n",
            " 0 1 0 1 0 1 1 1 0 1 1 1 0 0 1 0 1 1 1 1 1 0 1 0 1 0 1 1 0 1 1 1 1 0 0 0 0\n",
            " 1 1 1 0 0 1 1 0 1 0 0 0 0 1 1 1 0 0 0 0 0 1 0 0 1 0 1 1 1 1 1 1 0 1 0 0 1\n",
            " 0 0 0 1 0 0 1 1 0 1 0 1 1 0 0 0 0 0 1 0 1 0 0 0 1 1 1 1 0 1 0 1 0 0 0 1 0\n",
            " 0 1 0 1 0 1 1 0 1 0 1 0 0 1 1 1 1 0 1 0 1 0 1 1 1 0 0 0 0 1 0 0 1 0 1 0 1\n",
            " 0 0 1 0 0 0 0 1 1 1 0 1 0 0 0 1 0 0 1 0 1 0 1 1 0 1 0 0 1 0 1 0 0 1 0 0 0\n",
            " 0 1 1 1 0 0 1 1 1 1 0 1 1 0 0 1 1 0 0 0 1 1 0 0 0 0 0 1 0 0 0 1 0 0 0 0 0\n",
            " 0 0 1 0 1 0 0 0 1 0 0 0 1 1 1 0 1 0 1 0 1 0 1 1 1 1 0 0 0 0 0 0 0 0 1]\n"
          ]
        }
      ]
    },
    {
      "cell_type": "code",
      "metadata": {
        "colab": {
          "base_uri": "https://localhost:8080/"
        },
        "id": "0WHblRE0oi1T",
        "outputId": "6151d8b4-0a19-40f2-d22b-549f020e42bd"
      },
      "source": [
        "print(metrics.classification_report(y_test,pred))"
      ],
      "execution_count": 87,
      "outputs": [
        {
          "output_type": "stream",
          "name": "stdout",
          "text": [
            "              precision    recall  f1-score   support\n",
            "\n",
            "           0       0.72      0.83      0.77       193\n",
            "           1       0.82      0.71      0.76       212\n",
            "\n",
            "    accuracy                           0.77       405\n",
            "   macro avg       0.77      0.77      0.77       405\n",
            "weighted avg       0.78      0.77      0.77       405\n",
            "\n"
          ]
        }
      ]
    },
    {
      "cell_type": "code",
      "metadata": {
        "id": "eTgt_xWEoqFy"
      },
      "source": [
        "#pred = model.predict(X_test)\n",
        "fpr, tpr, thresholds = metrics.roc_curve(y_test,pred)"
      ],
      "execution_count": 88,
      "outputs": []
    },
    {
      "cell_type": "code",
      "metadata": {
        "id": "tXLeI6rg6KYN",
        "colab": {
          "base_uri": "https://localhost:8080/",
          "height": 282
        },
        "outputId": "6b88275f-3138-4808-dc96-e0abb980815e"
      },
      "source": [
        "plt.grid()\n",
        "plt.plot(fpr,tpr)"
      ],
      "execution_count": 89,
      "outputs": [
        {
          "output_type": "execute_result",
          "data": {
            "text/plain": [
              "[<matplotlib.lines.Line2D at 0x7fadee636090>]"
            ]
          },
          "metadata": {},
          "execution_count": 89
        },
        {
          "output_type": "display_data",
          "data": {
            "image/png": "[encoded data removed]",
            "text/plain": [
              "<Figure size 432x288 with 1 Axes>"
            ]
          },
          "metadata": {
            "needs_background": "light"
          }
        }
      ]
    },
    {
      "cell_type": "code",
      "metadata": {
        "id": "0JIaM1haP_k3"
      },
      "source": [
        "#text = \"ตำรวจจับกุมชายผู้ก่อเหตุทำร้าย ชิงทรัพย์ และพยายามทำอนาจาร นศ.หญิงไทยที่สถานีรถไฟใต้ดินนิวยอร์กได้แล้ว พบประวัติโชกโชน เคยถูกจับมาแล้วถึง 44 ครั้งสำนักข่าว เดลี่เมล รายงานว่า นาย เควิน ดักลาส ชาวเขตควีนส์ อายุ 40 ปี ถูกตำรวจนิวยอร์กจับกุมตัวเมื่อวันพฤหัสบดีที่ 10 ก.พ. 2565 ที่ผ่านมา ในฐานะผู้ต้องหาก่อเหตุทำร้ายร่างกายนักศึกษาและนางแบบสาวชาวไทยวัย 23 ปี ระหว่างที่เธอกำลังรอรถไฟใต้ดินในย่านมิดทาวน์ ในวันที่ 22 พ.ย. ปีก่อนภาพจากกล้องวงจรปิดแสดงให้เห็นว่า ในวันเกิดเหตุ นายดักลาสล็อกคอลากนักศึกษาหญิงไทยไปตามทางเดิน ก่อนจะจับเธอลงกับพื้น จากนั้นจึงชกหน้าหลายครั้ง แล้วชิงกระเป๋าเงินและเดินจากไปอย่างรวดเร็วแต่หลังจากเกิดเหตุการณ์นี้ไม่กี่ชั่วโมง นายดักลาสก็บุกเข้าไปในบ้านของหญิงวัย 34 ปีคนหนึ่ง ก่อนจะชกเธอเข้าที่ใบหน้า ทำให้เขาถูกจับกุมและถูกคุมขังนับแต่นั้น กระทั่งตำรวจสืบจนพบว่า เขาเป็นผู้ก่อเหตุทำร้ายนักศึกษาหญิงไทยด้วย จึงดำเนินการจับกุมซ้ำอีกครั้งในวันพฤหัสบดี\"\n",
        "text  = \"บรรณรงค์ พิชญากร กรรมการผู้จัดการอาวุโส กิจการค้าหลักทรัพย์ บริษัทหลักทรัพย์ (บล.) บัวหลวง จำกัด (มหาชน) กล่าวว่า ปัจจุบันเทคโนโลยีได้เข้ามามีบทบาทในไลฟ์สไตล์ผู้คนมากขึ้น โดยเฉพาะช่วงการระบาดของโควิดราว 2 ปีที่ผ่านมา หลายๆ อย่างโดยเฉพาะเทคโนโลยีเร่งตัวเพิ่มขึ้นเพราะโควิด แต่การระบาดของโรคก็ทำให้ผู้คนจำนวนหนึ่งต้องกลายเป็นคนว่างงาน หรือมีผู้คนอีกจำนวนหนึ่งต้องมองหางานที่สอง หรือจ๊อบเสริมเพิ่มขึ้นจากงานเดิมที่ทำอยู่\""
      ],
      "execution_count": 108,
      "outputs": []
    },
    {
      "cell_type": "code",
      "source": [
        "arr2  = pythainlp.word_tokenize(text,engine=\"deepcut\")"
      ],
      "metadata": {
        "id": "cYEJR2V99ab2"
      },
      "execution_count": 109,
      "outputs": []
    },
    {
      "cell_type": "code",
      "source": [
        "arr3  = []\n",
        "for i in  arr2:\n",
        "  name = i\n",
        "  arr = [int(i) for i in name2arr(name).split(\",\")]\n",
        "  arr3.append(arr)\n",
        "dataTest = tf.keras.preprocessing.sequence.pad_sequences(np.array(arr3), maxlen=maxlen, dtype='int32', padding='pre',truncating='pre', value=0.0)\n",
        "result =  model.predict(dataTest) "
      ],
      "metadata": {
        "id": "tUcLDTEg9rPz",
        "outputId": "108a70ea-de6b-4d7b-bc69-e465209e656e",
        "colab": {
          "base_uri": "https://localhost:8080/"
        }
      },
      "execution_count": 110,
      "outputs": [
        {
          "output_type": "stream",
          "name": "stderr",
          "text": [
            "/usr/local/lib/python3.7/dist-packages/ipykernel_launcher.py:6: VisibleDeprecationWarning: Creating an ndarray from ragged nested sequences (which is a list-or-tuple of lists-or-tuples-or ndarrays with different lengths or shapes) is deprecated. If you meant to do this, you must specify 'dtype=object' when creating the ndarray\n",
            "  \n"
          ]
        }
      ]
    },
    {
      "cell_type": "code",
      "source": [
        "for   i in range(len(result)):\n",
        "  if result[i]  >  0.8:\n",
        "    print(result[i],arr2[i])"
      ],
      "metadata": {
        "id": "scNYqnkx-Hwo",
        "outputId": "fa4cf5ee-138c-40d7-a712-9f3f1f3c4382",
        "colab": {
          "base_uri": "https://localhost:8080/"
        }
      },
      "execution_count": 112,
      "outputs": [
        {
          "output_type": "stream",
          "name": "stdout",
          "text": [
            "[0.9153385] บรรณรงค์ พิชญากร\n",
            "[0.90155876] กรรมการ\n",
            "[0.9079007] กิจการ\n",
            "[0.9168997] หลักทรัพย์\n",
            "[0.9241358] บริษัทหลักทรัพย์\n",
            "[0.8039799] บล.) บัวหลวง จำกัด (มหาชน)\n",
            "[0.8353679] ปัจจุบัน\n",
            "[0.90794384] ไลฟ์สไตล์\n"
          ]
        }
      ]
    },
    {
      "cell_type": "code",
      "source": [
        ""
      ],
      "metadata": {
        "id": "5qDR6q1y-irs"
      },
      "execution_count": null,
      "outputs": []
    }
  ]
}