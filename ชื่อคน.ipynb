{
  "nbformat": 4,
  "nbformat_minor": 0,
  "metadata": {
    "colab": {
      "name": "ชื่อคน.ipynb",
      "provenance": [],
      "toc_visible": true,
      "authorship_tag": "ABX9TyNnhFfbCmbdvNKMlFxoKbr1",
      "include_colab_link": true
    },
    "kernelspec": {
      "name": "python3",
      "display_name": "Python 3"
    }
  },
  "cells": [
    {
      "cell_type": "markdown",
      "metadata": {
        "id": "view-in-github",
        "colab_type": "text"
      },
      "source": [
        "<a href=\"https://colab.research.google.com/github/krmonline/PII/blob/main/%E0%B8%8A%E0%B8%B7%E0%B9%88%E0%B8%AD%E0%B8%84%E0%B8%99.ipynb\" target=\"_parent\"><img src=\"https://colab.research.google.com/assets/colab-badge.svg\" alt=\"Open In Colab\"/></a>"
      ]
    },
    {
      "cell_type": "code",
      "metadata": {
        "id": "QzTaorpmCgv4"
      },
      "source": [
        "!pip install pythainlp  > /dev/null"
      ],
      "execution_count": 38,
      "outputs": []
    },
    {
      "cell_type": "code",
      "metadata": {
        "id": "utq0waE4vGG6"
      },
      "source": [
        "from bs4 import BeautifulSoup\n",
        "import requests\n",
        "import pickle\n",
        "import pandas as pd\n",
        "import tensorflow as tf\n",
        "import matplotlib.pyplot as plt\n",
        "import numpy as np"
      ],
      "execution_count": 59,
      "outputs": []
    },
    {
      "cell_type": "code",
      "metadata": {
        "colab": {
          "base_uri": "https://localhost:8080/"
        },
        "id": "kljoFhvW-xTq",
        "outputId": "ee6b628b-935a-4449-8101-11c3e4c83aca"
      },
      "source": [
        "!pip install faker"
      ],
      "execution_count": 7,
      "outputs": [
        {
          "output_type": "stream",
          "text": [
            "Collecting faker\n",
            "\u001b[?25l  Downloading https://files.pythonhosted.org/packages/fa/d4/cb82441718bccaed9e3322c64d39438d40568b7a8ae33458f28a1a8b2155/Faker-6.5.0-py3-none-any.whl (1.1MB)\n",
            "\r\u001b[K     |▎                               | 10kB 15.9MB/s eta 0:00:01\r\u001b[K     |▋                               | 20kB 9.4MB/s eta 0:00:01\r\u001b[K     |▉                               | 30kB 8.2MB/s eta 0:00:01\r\u001b[K     |█▏                              | 40kB 7.2MB/s eta 0:00:01\r\u001b[K     |█▌                              | 51kB 3.8MB/s eta 0:00:01\r\u001b[K     |█▊                              | 61kB 4.4MB/s eta 0:00:01\r\u001b[K     |██                              | 71kB 4.6MB/s eta 0:00:01\r\u001b[K     |██▍                             | 81kB 4.9MB/s eta 0:00:01\r\u001b[K     |██▋                             | 92kB 5.2MB/s eta 0:00:01\r\u001b[K     |███                             | 102kB 5.2MB/s eta 0:00:01\r\u001b[K     |███▏                            | 112kB 5.2MB/s eta 0:00:01\r\u001b[K     |███▌                            | 122kB 5.2MB/s eta 0:00:01\r\u001b[K     |███▉                            | 133kB 5.2MB/s eta 0:00:01\r\u001b[K     |████                            | 143kB 5.2MB/s eta 0:00:01\r\u001b[K     |████▍                           | 153kB 5.2MB/s eta 0:00:01\r\u001b[K     |████▊                           | 163kB 5.2MB/s eta 0:00:01\r\u001b[K     |█████                           | 174kB 5.2MB/s eta 0:00:01\r\u001b[K     |█████▎                          | 184kB 5.2MB/s eta 0:00:01\r\u001b[K     |█████▌                          | 194kB 5.2MB/s eta 0:00:01\r\u001b[K     |█████▉                          | 204kB 5.2MB/s eta 0:00:01\r\u001b[K     |██████▏                         | 215kB 5.2MB/s eta 0:00:01\r\u001b[K     |██████▍                         | 225kB 5.2MB/s eta 0:00:01\r\u001b[K     |██████▊                         | 235kB 5.2MB/s eta 0:00:01\r\u001b[K     |███████                         | 245kB 5.2MB/s eta 0:00:01\r\u001b[K     |███████▎                        | 256kB 5.2MB/s eta 0:00:01\r\u001b[K     |███████▋                        | 266kB 5.2MB/s eta 0:00:01\r\u001b[K     |███████▉                        | 276kB 5.2MB/s eta 0:00:01\r\u001b[K     |████████▏                       | 286kB 5.2MB/s eta 0:00:01\r\u001b[K     |████████▌                       | 296kB 5.2MB/s eta 0:00:01\r\u001b[K     |████████▊                       | 307kB 5.2MB/s eta 0:00:01\r\u001b[K     |█████████                       | 317kB 5.2MB/s eta 0:00:01\r\u001b[K     |█████████▍                      | 327kB 5.2MB/s eta 0:00:01\r\u001b[K     |█████████▋                      | 337kB 5.2MB/s eta 0:00:01\r\u001b[K     |██████████                      | 348kB 5.2MB/s eta 0:00:01\r\u001b[K     |██████████▎                     | 358kB 5.2MB/s eta 0:00:01\r\u001b[K     |██████████▌                     | 368kB 5.2MB/s eta 0:00:01\r\u001b[K     |██████████▉                     | 378kB 5.2MB/s eta 0:00:01\r\u001b[K     |███████████                     | 389kB 5.2MB/s eta 0:00:01\r\u001b[K     |███████████▍                    | 399kB 5.2MB/s eta 0:00:01\r\u001b[K     |███████████▊                    | 409kB 5.2MB/s eta 0:00:01\r\u001b[K     |████████████                    | 419kB 5.2MB/s eta 0:00:01\r\u001b[K     |████████████▎                   | 430kB 5.2MB/s eta 0:00:01\r\u001b[K     |████████████▋                   | 440kB 5.2MB/s eta 0:00:01\r\u001b[K     |████████████▉                   | 450kB 5.2MB/s eta 0:00:01\r\u001b[K     |█████████████▏                  | 460kB 5.2MB/s eta 0:00:01\r\u001b[K     |█████████████▍                  | 471kB 5.2MB/s eta 0:00:01\r\u001b[K     |█████████████▊                  | 481kB 5.2MB/s eta 0:00:01\r\u001b[K     |██████████████                  | 491kB 5.2MB/s eta 0:00:01\r\u001b[K     |██████████████▎                 | 501kB 5.2MB/s eta 0:00:01\r\u001b[K     |██████████████▋                 | 512kB 5.2MB/s eta 0:00:01\r\u001b[K     |███████████████                 | 522kB 5.2MB/s eta 0:00:01\r\u001b[K     |███████████████▏                | 532kB 5.2MB/s eta 0:00:01\r\u001b[K     |███████████████▌                | 542kB 5.2MB/s eta 0:00:01\r\u001b[K     |███████████████▊                | 552kB 5.2MB/s eta 0:00:01\r\u001b[K     |████████████████                | 563kB 5.2MB/s eta 0:00:01\r\u001b[K     |████████████████▍               | 573kB 5.2MB/s eta 0:00:01\r\u001b[K     |████████████████▋               | 583kB 5.2MB/s eta 0:00:01\r\u001b[K     |█████████████████               | 593kB 5.2MB/s eta 0:00:01\r\u001b[K     |█████████████████▎              | 604kB 5.2MB/s eta 0:00:01\r\u001b[K     |█████████████████▌              | 614kB 5.2MB/s eta 0:00:01\r\u001b[K     |█████████████████▉              | 624kB 5.2MB/s eta 0:00:01\r\u001b[K     |██████████████████▏             | 634kB 5.2MB/s eta 0:00:01\r\u001b[K     |██████████████████▍             | 645kB 5.2MB/s eta 0:00:01\r\u001b[K     |██████████████████▊             | 655kB 5.2MB/s eta 0:00:01\r\u001b[K     |███████████████████             | 665kB 5.2MB/s eta 0:00:01\r\u001b[K     |███████████████████▎            | 675kB 5.2MB/s eta 0:00:01\r\u001b[K     |███████████████████▋            | 686kB 5.2MB/s eta 0:00:01\r\u001b[K     |███████████████████▉            | 696kB 5.2MB/s eta 0:00:01\r\u001b[K     |████████████████████▏           | 706kB 5.2MB/s eta 0:00:01\r\u001b[K     |████████████████████▌           | 716kB 5.2MB/s eta 0:00:01\r\u001b[K     |████████████████████▊           | 727kB 5.2MB/s eta 0:00:01\r\u001b[K     |█████████████████████           | 737kB 5.2MB/s eta 0:00:01\r\u001b[K     |█████████████████████▎          | 747kB 5.2MB/s eta 0:00:01\r\u001b[K     |█████████████████████▋          | 757kB 5.2MB/s eta 0:00:01\r\u001b[K     |██████████████████████          | 768kB 5.2MB/s eta 0:00:01\r\u001b[K     |██████████████████████▏         | 778kB 5.2MB/s eta 0:00:01\r\u001b[K     |██████████████████████▌         | 788kB 5.2MB/s eta 0:00:01\r\u001b[K     |██████████████████████▉         | 798kB 5.2MB/s eta 0:00:01\r\u001b[K     |███████████████████████         | 808kB 5.2MB/s eta 0:00:01\r\u001b[K     |███████████████████████▍        | 819kB 5.2MB/s eta 0:00:01\r\u001b[K     |███████████████████████▋        | 829kB 5.2MB/s eta 0:00:01\r\u001b[K     |████████████████████████        | 839kB 5.2MB/s eta 0:00:01\r\u001b[K     |████████████████████████▎       | 849kB 5.2MB/s eta 0:00:01\r\u001b[K     |████████████████████████▌       | 860kB 5.2MB/s eta 0:00:01\r\u001b[K     |████████████████████████▉       | 870kB 5.2MB/s eta 0:00:01\r\u001b[K     |█████████████████████████▏      | 880kB 5.2MB/s eta 0:00:01\r\u001b[K     |█████████████████████████▍      | 890kB 5.2MB/s eta 0:00:01\r\u001b[K     |█████████████████████████▊      | 901kB 5.2MB/s eta 0:00:01\r\u001b[K     |██████████████████████████      | 911kB 5.2MB/s eta 0:00:01\r\u001b[K     |██████████████████████████▎     | 921kB 5.2MB/s eta 0:00:01\r\u001b[K     |██████████████████████████▋     | 931kB 5.2MB/s eta 0:00:01\r\u001b[K     |██████████████████████████▉     | 942kB 5.2MB/s eta 0:00:01\r\u001b[K     |███████████████████████████▏    | 952kB 5.2MB/s eta 0:00:01\r\u001b[K     |███████████████████████████▌    | 962kB 5.2MB/s eta 0:00:01\r\u001b[K     |███████████████████████████▊    | 972kB 5.2MB/s eta 0:00:01\r\u001b[K     |████████████████████████████    | 983kB 5.2MB/s eta 0:00:01\r\u001b[K     |████████████████████████████▍   | 993kB 5.2MB/s eta 0:00:01\r\u001b[K     |████████████████████████████▋   | 1.0MB 5.2MB/s eta 0:00:01\r\u001b[K     |█████████████████████████████   | 1.0MB 5.2MB/s eta 0:00:01\r\u001b[K     |█████████████████████████████▏  | 1.0MB 5.2MB/s eta 0:00:01\r\u001b[K     |█████████████████████████████▌  | 1.0MB 5.2MB/s eta 0:00:01\r\u001b[K     |█████████████████████████████▉  | 1.0MB 5.2MB/s eta 0:00:01\r\u001b[K     |██████████████████████████████  | 1.1MB 5.2MB/s eta 0:00:01\r\u001b[K     |██████████████████████████████▍ | 1.1MB 5.2MB/s eta 0:00:01\r\u001b[K     |██████████████████████████████▊ | 1.1MB 5.2MB/s eta 0:00:01\r\u001b[K     |███████████████████████████████ | 1.1MB 5.2MB/s eta 0:00:01\r\u001b[K     |███████████████████████████████▎| 1.1MB 5.2MB/s eta 0:00:01\r\u001b[K     |███████████████████████████████▌| 1.1MB 5.2MB/s eta 0:00:01\r\u001b[K     |███████████████████████████████▉| 1.1MB 5.2MB/s eta 0:00:01\r\u001b[K     |████████████████████████████████| 1.1MB 5.2MB/s \n",
            "\u001b[?25hRequirement already satisfied: python-dateutil>=2.4 in /usr/local/lib/python3.7/dist-packages (from faker) (2.8.1)\n",
            "Requirement already satisfied: text-unidecode==1.3 in /usr/local/lib/python3.7/dist-packages (from faker) (1.3)\n",
            "Requirement already satisfied: six>=1.5 in /usr/local/lib/python3.7/dist-packages (from python-dateutil>=2.4->faker) (1.15.0)\n",
            "Installing collected packages: faker\n",
            "Successfully installed faker-6.5.0\n"
          ],
          "name": "stdout"
        }
      ]
    },
    {
      "cell_type": "markdown",
      "metadata": {
        "id": "uvdxb5ZI5Ukh"
      },
      "source": [
        "ทำการแปลง Character เป็น Array ต้นฉบับมาจากอาจารย์เอกพล\n",
        "https://github.com/ekapolc/nlp_course/blob/master/HW1/Word_Tokenizer_Lab.ipynb\n",
        "\n",
        "และ มีการจัดการกับ Out Of Vocab โดยที่คำที่เราไม่รู้จักให้ไปลงที่  \"\\ufeff\"\n",
        "\n"
      ]
    },
    {
      "cell_type": "code",
      "metadata": {
        "id": "rXZkHj6VwFnG"
      },
      "source": [
        "CHARS = [\n",
        "  '\\n', ' ', '!', '\"', '#', '$', '%', '&', \"'\", '(', ')', '*', '+',\n",
        "  ',', '-', '.', '/', '0', '1', '2', '3', '4', '5', '6', '7', '8',\n",
        "  '9', ':', ';', '<', '=', '>', '?', '@', 'A', 'B', 'C', 'D', 'E',\n",
        "  'F', 'G', 'H', 'I', 'J', 'K', 'L', 'M', 'N', 'O', 'P', 'Q', 'R',\n",
        "  'S', 'T', 'U', 'V', 'W', 'X', 'Y', 'Z', '[', '\\\\', ']', '^', '_',\n",
        "  'a', 'b', 'c', 'd', 'e', 'f', 'g', 'h', 'i', 'j', 'k', 'l', 'm',\n",
        "  'n', 'o', 'other', 'p', 'q', 'r', 's', 't', 'u', 'v', 'w', 'x', 'y',\n",
        "  'z', '}', '~', 'ก', 'ข', 'ฃ', 'ค', 'ฅ', 'ฆ', 'ง', 'จ', 'ฉ', 'ช',\n",
        "  'ซ', 'ฌ', 'ญ', 'ฎ', 'ฏ', 'ฐ', 'ฑ', 'ฒ', 'ณ', 'ด', 'ต', 'ถ', 'ท',\n",
        "  'ธ', 'น', 'บ', 'ป', 'ผ', 'ฝ', 'พ', 'ฟ', 'ภ', 'ม', 'ย', 'ร', 'ฤ',\n",
        "  'ล', 'ว', 'ศ', 'ษ', 'ส', 'ห', 'ฬ', 'อ', 'ฮ', 'ฯ', 'ะ', 'ั', 'า',\n",
        "  'ำ', 'ิ', 'ี', 'ึ', 'ื', 'ุ', 'ู', 'ฺ', 'เ', 'แ', 'โ', 'ใ', 'ไ',\n",
        "  'ๅ', 'ๆ', '็', '่', '้', '๊', '๋', '์', 'ํ', '๐', '๑', '๒', '๓',\n",
        "  '๔', '๕', '๖', '๗', '๘', '๙', '‘', '’', '\\ufeff'\n",
        "]\n",
        "CHARS_MAP = {v: k for k, v in enumerate(CHARS)}\n",
        "\n",
        "def name2arr(x):\n",
        "  result = \"\"\n",
        "  for i in x:\n",
        "    if i not in CHARS_MAP:\n",
        "      i = '\\ufeff' #OutOfVocab\n",
        "    if result == \"\":\n",
        "      result = str(CHARS_MAP[i])\n",
        "    else:\n",
        "      result = result + \",\" + str(CHARS_MAP[i])\n",
        "  return result"
      ],
      "execution_count": 40,
      "outputs": []
    },
    {
      "cell_type": "markdown",
      "metadata": {
        "id": "u6gGukVsCrA-"
      },
      "source": [
        "ทำการเตรียมชื่อ"
      ]
    },
    {
      "cell_type": "code",
      "metadata": {
        "id": "us1rmx2TyCwY"
      },
      "source": [
        "df_name1 = pd.read_csv('https://raw.githubusercontent.com/krmonline/PII/main/name.csv')\n",
        "df_name2 = pd.read_csv('https://raw.githubusercontent.com/krmonline/PII/main/mock_name_address.csv')"
      ],
      "execution_count": 41,
      "outputs": []
    },
    {
      "cell_type": "code",
      "metadata": {
        "id": "EWHdfY9HFEGN"
      },
      "source": [
        "df_name2['name'] = df_name2.FName.apply(lambda x: x.split(\" \")[0])"
      ],
      "execution_count": 48,
      "outputs": []
    },
    {
      "cell_type": "code",
      "metadata": {
        "id": "cZBKtq-zLcC9"
      },
      "source": [
        "arr_name1 = df_name1.name.values\n",
        "#arr_userdefined = np.array(['สมหมาย','สมชาย','สมเกียรติ','ประเทือง']) #เพิ่มชื่อด้วยตังเองเมื่อเห็นว่าชื่อไม่เคยเทรนมาก่อน\n",
        "#arr_name1 = np.concatenate([arr_name1,arr_userdefined])"
      ],
      "execution_count": 122,
      "outputs": []
    },
    {
      "cell_type": "code",
      "metadata": {
        "id": "z8c0dsWlBBAD"
      },
      "source": [
        "arr_name = np.concatenate([df_name1.name.values,df_name2.name.values])\n",
        "arr_name = pd.DataFrame(arr_name,columns=['name']).name.unique()\n",
        "df_name = pd.DataFrame(arr_name,columns=['name'])"
      ],
      "execution_count": 123,
      "outputs": []
    },
    {
      "cell_type": "code",
      "metadata": {
        "colab": {
          "base_uri": "https://localhost:8080/",
          "height": 80
        },
        "id": "LKq673EvBUbN",
        "outputId": "0d250cdb-d732-45b2-eeb9-f46ef2588fca"
      },
      "source": [
        "df_name[df_name.name == 'สมเกียรติ'] #check ว่าชื่ออยู่ใน data  frame  หรือเปล่า"
      ],
      "execution_count": 126,
      "outputs": [
        {
          "output_type": "execute_result",
          "data": {
            "text/html": [
              "<div>\n",
              "<style scoped>\n",
              "    .dataframe tbody tr th:only-of-type {\n",
              "        vertical-align: middle;\n",
              "    }\n",
              "\n",
              "    .dataframe tbody tr th {\n",
              "        vertical-align: top;\n",
              "    }\n",
              "\n",
              "    .dataframe thead th {\n",
              "        text-align: right;\n",
              "    }\n",
              "</style>\n",
              "<table border=\"1\" class=\"dataframe\">\n",
              "  <thead>\n",
              "    <tr style=\"text-align: right;\">\n",
              "      <th></th>\n",
              "      <th>name</th>\n",
              "    </tr>\n",
              "  </thead>\n",
              "  <tbody>\n",
              "    <tr>\n",
              "      <th>562</th>\n",
              "      <td>สมเกียรติ</td>\n",
              "    </tr>\n",
              "  </tbody>\n",
              "</table>\n",
              "</div>"
            ],
            "text/plain": [
              "          name\n",
              "562  สมเกียรติ"
            ]
          },
          "metadata": {
            "tags": []
          },
          "execution_count": 126
        }
      ]
    },
    {
      "cell_type": "markdown",
      "metadata": {
        "id": "4oMvZcuW6NF8"
      },
      "source": [
        "แปลงชื่อมาเป็น Array และกำหนด Label ให้เป็น 1\n",
        "โดย 1 = เป็นชื่อคน และ 0 = ไม่ใช่ชื่อคน\n",
        "เราจะได้ Array ซึ่งเป็นค่า key ของแต่ละ Character"
      ]
    },
    {
      "cell_type": "code",
      "metadata": {
        "id": "7ZvwCOO85NHO",
        "colab": {
          "base_uri": "https://localhost:8080/",
          "height": 419
        },
        "outputId": "f98c9f12-e546-4e1c-b13d-397fe393811c"
      },
      "source": [
        "df_name[\"arr_num\"] = df_name.name.apply(name2arr)\n",
        "df_name['label'] = 1\n",
        "df_name"
      ],
      "execution_count": 127,
      "outputs": [
        {
          "output_type": "execute_result",
          "data": {
            "text/html": [
              "<div>\n",
              "<style scoped>\n",
              "    .dataframe tbody tr th:only-of-type {\n",
              "        vertical-align: middle;\n",
              "    }\n",
              "\n",
              "    .dataframe tbody tr th {\n",
              "        vertical-align: top;\n",
              "    }\n",
              "\n",
              "    .dataframe thead th {\n",
              "        text-align: right;\n",
              "    }\n",
              "</style>\n",
              "<table border=\"1\" class=\"dataframe\">\n",
              "  <thead>\n",
              "    <tr style=\"text-align: right;\">\n",
              "      <th></th>\n",
              "      <th>name</th>\n",
              "      <th>arr_num</th>\n",
              "      <th>label</th>\n",
              "    </tr>\n",
              "  </thead>\n",
              "  <tbody>\n",
              "    <tr>\n",
              "      <th>0</th>\n",
              "      <td>กมลภู</td>\n",
              "      <td>94,126,130,125,149</td>\n",
              "      <td>1</td>\n",
              "    </tr>\n",
              "    <tr>\n",
              "      <th>1</th>\n",
              "      <td>กรกวรรษ</td>\n",
              "      <td>94,128,94,131,128,128,133</td>\n",
              "      <td>1</td>\n",
              "    </tr>\n",
              "    <tr>\n",
              "      <th>2</th>\n",
              "      <td>กรณ์</td>\n",
              "      <td>94,128,112,163</td>\n",
              "      <td>1</td>\n",
              "    </tr>\n",
              "    <tr>\n",
              "      <th>3</th>\n",
              "      <td>กฤศ</td>\n",
              "      <td>94,129,132</td>\n",
              "      <td>1</td>\n",
              "    </tr>\n",
              "    <tr>\n",
              "      <th>4</th>\n",
              "      <td>กฤษิกร</td>\n",
              "      <td>94,129,133,144,94,128</td>\n",
              "      <td>1</td>\n",
              "    </tr>\n",
              "    <tr>\n",
              "      <th>...</th>\n",
              "      <td>...</td>\n",
              "      <td>...</td>\n",
              "      <td>...</td>\n",
              "    </tr>\n",
              "    <tr>\n",
              "      <th>1005</th>\n",
              "      <td>จักรีรัตน์</td>\n",
              "      <td>101,141,94,128,145,128,141,114,118,163</td>\n",
              "      <td>1</td>\n",
              "    </tr>\n",
              "    <tr>\n",
              "      <th>1006</th>\n",
              "      <td>นารดา</td>\n",
              "      <td>118,142,128,113,142</td>\n",
              "      <td>1</td>\n",
              "    </tr>\n",
              "    <tr>\n",
              "      <th>1007</th>\n",
              "      <td>อาแอเสาะ</td>\n",
              "      <td>137,142,152,137,151,134,142,140</td>\n",
              "      <td>1</td>\n",
              "    </tr>\n",
              "    <tr>\n",
              "      <th>1008</th>\n",
              "      <td>คมกฤชญ์</td>\n",
              "      <td>97,126,94,129,103,106,163</td>\n",
              "      <td>1</td>\n",
              "    </tr>\n",
              "    <tr>\n",
              "      <th>1009</th>\n",
              "      <td>พงษ์นเรศ</td>\n",
              "      <td>123,100,133,163,118,151,128,132</td>\n",
              "      <td>1</td>\n",
              "    </tr>\n",
              "  </tbody>\n",
              "</table>\n",
              "<p>1010 rows × 3 columns</p>\n",
              "</div>"
            ],
            "text/plain": [
              "            name                                 arr_num  label\n",
              "0          กมลภู                      94,126,130,125,149      1\n",
              "1        กรกวรรษ               94,128,94,131,128,128,133      1\n",
              "2           กรณ์                          94,128,112,163      1\n",
              "3            กฤศ                              94,129,132      1\n",
              "4         กฤษิกร                   94,129,133,144,94,128      1\n",
              "...          ...                                     ...    ...\n",
              "1005  จักรีรัตน์  101,141,94,128,145,128,141,114,118,163      1\n",
              "1006       นารดา                     118,142,128,113,142      1\n",
              "1007    อาแอเสาะ         137,142,152,137,151,134,142,140      1\n",
              "1008     คมกฤชญ์               97,126,94,129,103,106,163      1\n",
              "1009    พงษ์นเรศ         123,100,133,163,118,151,128,132      1\n",
              "\n",
              "[1010 rows x 3 columns]"
            ]
          },
          "metadata": {
            "tags": []
          },
          "execution_count": 127
        }
      ]
    },
    {
      "cell_type": "code",
      "metadata": {
        "id": "1SBJDQgF7iL5"
      },
      "source": [
        "#df_name.to_csv(\"./name.csv\",index=False)"
      ],
      "execution_count": 128,
      "outputs": []
    },
    {
      "cell_type": "markdown",
      "metadata": {
        "id": "gbUEdmWrCyOc"
      },
      "source": [
        "#เตรียมชื่อนามทั่วไป"
      ]
    },
    {
      "cell_type": "code",
      "metadata": {
        "id": "GC0KtChQC4e7"
      },
      "source": [
        "import pythainlp.word_vector\n",
        "import random"
      ],
      "execution_count": 129,
      "outputs": []
    },
    {
      "cell_type": "markdown",
      "metadata": {
        "id": "aVQ3HMnY7ojo"
      },
      "source": [
        "สุ่มคำจาก word_vector มาจำนวนเท่าๆกับชื่อคนเพื่อเป็น DataSet ของคำที่ไม่่ใช่ชื่อคน"
      ]
    },
    {
      "cell_type": "code",
      "metadata": {
        "colab": {
          "base_uri": "https://localhost:8080/"
        },
        "id": "RA5ZsUVWC96p",
        "outputId": "9d8bf320-cf79-4a7d-8310-8fba2094154b"
      },
      "source": [
        "model = pythainlp.word_vector.get_model()\n",
        "arr_tmp = []\n",
        "for i  in range(len(df_name)):\n",
        "  nameID = random.randint(0,2000)\n",
        "  name = model.index2word[nameID]\n",
        "  arr_tmp.append(name)\n",
        "print(\"Random general word =\",len(arr_tmp))\n",
        "df2 = pd.DataFrame(arr_tmp,columns=['name'])\n",
        "df2[\"arr_num\"] = df2.name.apply(name2arr) #Check OOV ใน function แล้ว\n",
        "df2['label'] = 0"
      ],
      "execution_count": 130,
      "outputs": [
        {
          "output_type": "stream",
          "text": [
            "Random general word = 1010\n"
          ],
          "name": "stdout"
        }
      ]
    },
    {
      "cell_type": "markdown",
      "metadata": {
        "id": "jt27RKkZFzGn"
      },
      "source": [
        "#Merge Data"
      ]
    },
    {
      "cell_type": "code",
      "metadata": {
        "colab": {
          "base_uri": "https://localhost:8080/",
          "height": 204
        },
        "id": "0ZBRBinEESaM",
        "outputId": "9ab9e716-1fba-421a-bcf8-f88299e37ac3"
      },
      "source": [
        "df = pd.concat([df_name,df2])\n",
        "df.head()"
      ],
      "execution_count": 131,
      "outputs": [
        {
          "output_type": "execute_result",
          "data": {
            "text/html": [
              "<div>\n",
              "<style scoped>\n",
              "    .dataframe tbody tr th:only-of-type {\n",
              "        vertical-align: middle;\n",
              "    }\n",
              "\n",
              "    .dataframe tbody tr th {\n",
              "        vertical-align: top;\n",
              "    }\n",
              "\n",
              "    .dataframe thead th {\n",
              "        text-align: right;\n",
              "    }\n",
              "</style>\n",
              "<table border=\"1\" class=\"dataframe\">\n",
              "  <thead>\n",
              "    <tr style=\"text-align: right;\">\n",
              "      <th></th>\n",
              "      <th>name</th>\n",
              "      <th>arr_num</th>\n",
              "      <th>label</th>\n",
              "    </tr>\n",
              "  </thead>\n",
              "  <tbody>\n",
              "    <tr>\n",
              "      <th>0</th>\n",
              "      <td>กมลภู</td>\n",
              "      <td>94,126,130,125,149</td>\n",
              "      <td>1</td>\n",
              "    </tr>\n",
              "    <tr>\n",
              "      <th>1</th>\n",
              "      <td>กรกวรรษ</td>\n",
              "      <td>94,128,94,131,128,128,133</td>\n",
              "      <td>1</td>\n",
              "    </tr>\n",
              "    <tr>\n",
              "      <th>2</th>\n",
              "      <td>กรณ์</td>\n",
              "      <td>94,128,112,163</td>\n",
              "      <td>1</td>\n",
              "    </tr>\n",
              "    <tr>\n",
              "      <th>3</th>\n",
              "      <td>กฤศ</td>\n",
              "      <td>94,129,132</td>\n",
              "      <td>1</td>\n",
              "    </tr>\n",
              "    <tr>\n",
              "      <th>4</th>\n",
              "      <td>กฤษิกร</td>\n",
              "      <td>94,129,133,144,94,128</td>\n",
              "      <td>1</td>\n",
              "    </tr>\n",
              "  </tbody>\n",
              "</table>\n",
              "</div>"
            ],
            "text/plain": [
              "      name                    arr_num  label\n",
              "0    กมลภู         94,126,130,125,149      1\n",
              "1  กรกวรรษ  94,128,94,131,128,128,133      1\n",
              "2     กรณ์             94,128,112,163      1\n",
              "3      กฤศ                 94,129,132      1\n",
              "4   กฤษิกร      94,129,133,144,94,128      1"
            ]
          },
          "metadata": {
            "tags": []
          },
          "execution_count": 131
        }
      ]
    },
    {
      "cell_type": "markdown",
      "metadata": {
        "id": "EBICc_Dv77gh"
      },
      "source": [
        "หาค่าจำนวน  Character สูงสุดที่เป็นไปได้และเพิ่มไปอีก 1.5 เท่า\n",
        "เป็นข้อจำกัดของ LSTM ที่ต้องกำหนดค่าสูงสุดของตัวอักษรในที่นี้คือ maxlen"
      ]
    },
    {
      "cell_type": "code",
      "metadata": {
        "colab": {
          "base_uri": "https://localhost:8080/"
        },
        "id": "9uCkmpzcGZlJ",
        "outputId": "9a97bd3a-deac-498f-edd6-ad3e8c449275"
      },
      "source": [
        "arr_numID = []\n",
        "maxlen = 0\n",
        "n = 0\n",
        "for i in df.arr_num:\n",
        "  n = n+1\n",
        "  #print(n,i)\n",
        "  arr_tmp = [int(iInt) for iInt in i.split(',')]\n",
        "  #print(arr_tmp)\n",
        "  arr_numID.append(arr_tmp)\n",
        "  #print(i.split(','))\n",
        "  lentmp = len(arr_numID[-1])\n",
        "  if maxlen < lentmp:\n",
        "    maxlen = lentmp\n",
        "maxlen = int(maxlen*1.5)\n",
        "print(maxlen)\n",
        "#ได้ maxlen"
      ],
      "execution_count": 132,
      "outputs": [
        {
          "output_type": "stream",
          "text": [
            "30\n"
          ],
          "name": "stdout"
        }
      ]
    },
    {
      "cell_type": "code",
      "metadata": {
        "id": "nqzpeX8Hd2Q7"
      },
      "source": [
        "#arr_numID[:5],df.label.values[:5]"
      ],
      "execution_count": 133,
      "outputs": []
    },
    {
      "cell_type": "markdown",
      "metadata": {
        "id": "i5hW5Vl0ITmJ"
      },
      "source": [
        "#แบ่ง Train Test"
      ]
    },
    {
      "cell_type": "code",
      "metadata": {
        "id": "oHNF5-hJIIzv"
      },
      "source": [
        "from sklearn.model_selection import train_test_split"
      ],
      "execution_count": 134,
      "outputs": []
    },
    {
      "cell_type": "markdown",
      "metadata": {
        "id": "MaJKrF1b8aP2"
      },
      "source": [
        "ทำ padding ให้กับคำโดยเติม 0 ไปข้างหน้าให้เต็ม เช่น [0,0,0,192,191,176,123]"
      ]
    },
    {
      "cell_type": "code",
      "metadata": {
        "id": "KazfcxbpA4yc"
      },
      "source": [
        "X = tf.keras.preprocessing.sequence.pad_sequences(\n",
        "    arr_numID, maxlen=maxlen, dtype='int32', padding='pre',\n",
        "    truncating='pre', value=0.0\n",
        ")\n",
        "y = df.label.values"
      ],
      "execution_count": 135,
      "outputs": []
    },
    {
      "cell_type": "markdown",
      "metadata": {
        "id": "reI2VYHA8pzS"
      },
      "source": [
        "แบ่ง Dataset  ออกมา 3 ส่วน ประกอบด้วย Train Set,Test Set,Validation Set"
      ]
    },
    {
      "cell_type": "code",
      "metadata": {
        "colab": {
          "base_uri": "https://localhost:8080/"
        },
        "id": "I2H0tcaGIci_",
        "outputId": "2d2fb360-05d7-4e9b-9750-0511e746a73e"
      },
      "source": [
        "X_trainTMP, X_test, y_trainTMP, y_test = train_test_split(X, y, test_size=0.2)\n",
        "X_train, X_valid, y_train, y_valid = train_test_split(X_trainTMP, y_trainTMP, test_size=0.3, random_state=42)\n",
        "X_train.shape,y_train.shape,X_valid.shape,y_valid.shape,X_test.shape,y_test.shape,"
      ],
      "execution_count": 137,
      "outputs": [
        {
          "output_type": "execute_result",
          "data": {
            "text/plain": [
              "((1131, 30), (1131,), (485, 30), (485,), (404, 30), (404,))"
            ]
          },
          "metadata": {
            "tags": []
          },
          "execution_count": 137
        }
      ]
    },
    {
      "cell_type": "markdown",
      "metadata": {
        "id": "Q5Skksl480Hr"
      },
      "source": [
        "#Train ด้วย LSTM"
      ]
    },
    {
      "cell_type": "code",
      "metadata": {
        "colab": {
          "base_uri": "https://localhost:8080/"
        },
        "id": "PMnRhbPp-AhO",
        "outputId": "605d7a40-4311-4e35-ba59-612693490e09"
      },
      "source": [
        "vocab_size = len(CHARS)\n",
        "print(vocab_size)\n",
        "del(model)\n",
        "model = tf.keras.Sequential([\n",
        "    tf.keras.layers.Embedding(vocab_size, 1, input_length=maxlen),\n",
        "    tf.keras.layers.LSTM(1,return_sequences=False),\n",
        "    tf.keras.layers.Dense(1, activation='sigmoid')\n",
        "])\n",
        "model.compile(loss=tf.keras.losses.binary_crossentropy,optimizer='adam',metrics=['accuracy'])\n",
        "model.summary()\n",
        "loss = []\n",
        "val_loss = []\n",
        "acc = []\n",
        "val_acc = []"
      ],
      "execution_count": 138,
      "outputs": [
        {
          "output_type": "stream",
          "text": [
            "178\n",
            "Model: \"sequential_1\"\n",
            "_________________________________________________________________\n",
            "Layer (type)                 Output Shape              Param #   \n",
            "=================================================================\n",
            "embedding_1 (Embedding)      (None, 30, 1)             178       \n",
            "_________________________________________________________________\n",
            "lstm_1 (LSTM)                (None, 1)                 12        \n",
            "_________________________________________________________________\n",
            "dense_1 (Dense)              (None, 1)                 2         \n",
            "=================================================================\n",
            "Total params: 192\n",
            "Trainable params: 192\n",
            "Non-trainable params: 0\n",
            "_________________________________________________________________\n"
          ],
          "name": "stdout"
        }
      ]
    },
    {
      "cell_type": "code",
      "metadata": {
        "colab": {
          "base_uri": "https://localhost:8080/"
        },
        "id": "pSpoRc2YB9ow",
        "outputId": "cd18d38d-b3f2-4c3f-ad8c-7c681fb2d2ff"
      },
      "source": [
        "%%time\n",
        "history_tmp = model.fit(X_train,y_train,epochs=100,validation_data=(X_valid,y_valid),verbose=1)"
      ],
      "execution_count": 142,
      "outputs": [
        {
          "output_type": "stream",
          "text": [
            "Epoch 1/100\n",
            "36/36 [==============================] - 1s 16ms/step - loss: 0.3419 - accuracy: 0.8753 - val_loss: 0.4000 - val_accuracy: 0.8474\n",
            "Epoch 2/100\n",
            "36/36 [==============================] - 1s 14ms/step - loss: 0.3412 - accuracy: 0.8798 - val_loss: 0.4002 - val_accuracy: 0.8495\n",
            "Epoch 3/100\n",
            "36/36 [==============================] - 1s 15ms/step - loss: 0.3429 - accuracy: 0.8789 - val_loss: 0.3997 - val_accuracy: 0.8433\n",
            "Epoch 4/100\n",
            "36/36 [==============================] - 1s 14ms/step - loss: 0.3413 - accuracy: 0.8789 - val_loss: 0.3995 - val_accuracy: 0.8495\n",
            "Epoch 5/100\n",
            "36/36 [==============================] - 0s 14ms/step - loss: 0.3414 - accuracy: 0.8789 - val_loss: 0.3996 - val_accuracy: 0.8474\n",
            "Epoch 6/100\n",
            "36/36 [==============================] - 1s 15ms/step - loss: 0.3407 - accuracy: 0.8798 - val_loss: 0.3998 - val_accuracy: 0.8433\n",
            "Epoch 7/100\n",
            "36/36 [==============================] - 0s 14ms/step - loss: 0.3405 - accuracy: 0.8798 - val_loss: 0.3999 - val_accuracy: 0.8412\n",
            "Epoch 8/100\n",
            "36/36 [==============================] - 1s 14ms/step - loss: 0.3404 - accuracy: 0.8780 - val_loss: 0.3997 - val_accuracy: 0.8433\n",
            "Epoch 9/100\n",
            "36/36 [==============================] - 0s 14ms/step - loss: 0.3398 - accuracy: 0.8798 - val_loss: 0.4001 - val_accuracy: 0.8474\n",
            "Epoch 10/100\n",
            "36/36 [==============================] - 0s 14ms/step - loss: 0.3399 - accuracy: 0.8789 - val_loss: 0.3998 - val_accuracy: 0.8454\n",
            "Epoch 11/100\n",
            "36/36 [==============================] - 0s 14ms/step - loss: 0.3402 - accuracy: 0.8771 - val_loss: 0.4000 - val_accuracy: 0.8454\n",
            "Epoch 12/100\n",
            "36/36 [==============================] - 1s 15ms/step - loss: 0.3395 - accuracy: 0.8789 - val_loss: 0.3999 - val_accuracy: 0.8474\n",
            "Epoch 13/100\n",
            "36/36 [==============================] - 1s 14ms/step - loss: 0.3392 - accuracy: 0.8824 - val_loss: 0.4003 - val_accuracy: 0.8433\n",
            "Epoch 14/100\n",
            "36/36 [==============================] - 1s 14ms/step - loss: 0.3395 - accuracy: 0.8762 - val_loss: 0.4002 - val_accuracy: 0.8433\n",
            "Epoch 15/100\n",
            "36/36 [==============================] - 1s 14ms/step - loss: 0.3397 - accuracy: 0.8789 - val_loss: 0.4007 - val_accuracy: 0.8474\n",
            "Epoch 16/100\n",
            "36/36 [==============================] - 1s 14ms/step - loss: 0.3407 - accuracy: 0.8762 - val_loss: 0.4009 - val_accuracy: 0.8392\n",
            "Epoch 17/100\n",
            "36/36 [==============================] - 1s 14ms/step - loss: 0.3392 - accuracy: 0.8798 - val_loss: 0.4003 - val_accuracy: 0.8433\n",
            "Epoch 18/100\n",
            "36/36 [==============================] - 1s 14ms/step - loss: 0.3387 - accuracy: 0.8815 - val_loss: 0.4002 - val_accuracy: 0.8412\n",
            "Epoch 19/100\n",
            "36/36 [==============================] - 1s 14ms/step - loss: 0.3386 - accuracy: 0.8798 - val_loss: 0.4001 - val_accuracy: 0.8412\n",
            "Epoch 20/100\n",
            "36/36 [==============================] - 0s 14ms/step - loss: 0.3384 - accuracy: 0.8789 - val_loss: 0.4001 - val_accuracy: 0.8412\n",
            "Epoch 21/100\n",
            "36/36 [==============================] - 0s 14ms/step - loss: 0.3382 - accuracy: 0.8798 - val_loss: 0.4002 - val_accuracy: 0.8495\n",
            "Epoch 22/100\n",
            "36/36 [==============================] - 0s 14ms/step - loss: 0.3379 - accuracy: 0.8806 - val_loss: 0.4004 - val_accuracy: 0.8474\n",
            "Epoch 23/100\n",
            "36/36 [==============================] - 0s 14ms/step - loss: 0.3385 - accuracy: 0.8780 - val_loss: 0.4002 - val_accuracy: 0.8454\n",
            "Epoch 24/100\n",
            "36/36 [==============================] - 1s 14ms/step - loss: 0.3375 - accuracy: 0.8815 - val_loss: 0.4005 - val_accuracy: 0.8515\n",
            "Epoch 25/100\n",
            "36/36 [==============================] - 0s 14ms/step - loss: 0.3376 - accuracy: 0.8824 - val_loss: 0.4002 - val_accuracy: 0.8454\n",
            "Epoch 26/100\n",
            "36/36 [==============================] - 1s 15ms/step - loss: 0.3381 - accuracy: 0.8806 - val_loss: 0.4006 - val_accuracy: 0.8392\n",
            "Epoch 27/100\n",
            "36/36 [==============================] - 1s 14ms/step - loss: 0.3372 - accuracy: 0.8780 - val_loss: 0.4009 - val_accuracy: 0.8515\n",
            "Epoch 28/100\n",
            "36/36 [==============================] - 1s 14ms/step - loss: 0.3379 - accuracy: 0.8780 - val_loss: 0.4006 - val_accuracy: 0.8433\n",
            "Epoch 29/100\n",
            "36/36 [==============================] - 1s 15ms/step - loss: 0.3369 - accuracy: 0.8806 - val_loss: 0.4006 - val_accuracy: 0.8454\n",
            "Epoch 30/100\n",
            "36/36 [==============================] - 1s 15ms/step - loss: 0.3368 - accuracy: 0.8806 - val_loss: 0.4010 - val_accuracy: 0.8495\n",
            "Epoch 31/100\n",
            "36/36 [==============================] - 1s 14ms/step - loss: 0.3374 - accuracy: 0.8771 - val_loss: 0.4014 - val_accuracy: 0.8495\n",
            "Epoch 32/100\n",
            "36/36 [==============================] - 1s 14ms/step - loss: 0.3374 - accuracy: 0.8798 - val_loss: 0.4011 - val_accuracy: 0.8412\n",
            "Epoch 33/100\n",
            "36/36 [==============================] - 1s 14ms/step - loss: 0.3368 - accuracy: 0.8815 - val_loss: 0.4012 - val_accuracy: 0.8433\n",
            "Epoch 34/100\n",
            "36/36 [==============================] - 1s 15ms/step - loss: 0.3368 - accuracy: 0.8806 - val_loss: 0.4015 - val_accuracy: 0.8474\n",
            "Epoch 35/100\n",
            "36/36 [==============================] - 1s 15ms/step - loss: 0.3370 - accuracy: 0.8789 - val_loss: 0.4014 - val_accuracy: 0.8433\n",
            "Epoch 36/100\n",
            "36/36 [==============================] - 1s 15ms/step - loss: 0.3366 - accuracy: 0.8780 - val_loss: 0.4011 - val_accuracy: 0.8454\n",
            "Epoch 37/100\n",
            "36/36 [==============================] - 1s 14ms/step - loss: 0.3372 - accuracy: 0.8780 - val_loss: 0.4013 - val_accuracy: 0.8474\n",
            "Epoch 38/100\n",
            "36/36 [==============================] - 1s 15ms/step - loss: 0.3376 - accuracy: 0.8798 - val_loss: 0.4014 - val_accuracy: 0.8433\n",
            "Epoch 39/100\n",
            "36/36 [==============================] - 1s 14ms/step - loss: 0.3364 - accuracy: 0.8798 - val_loss: 0.4013 - val_accuracy: 0.8474\n",
            "Epoch 40/100\n",
            "36/36 [==============================] - 1s 15ms/step - loss: 0.3367 - accuracy: 0.8798 - val_loss: 0.4015 - val_accuracy: 0.8454\n",
            "Epoch 41/100\n",
            "36/36 [==============================] - 1s 15ms/step - loss: 0.3368 - accuracy: 0.8771 - val_loss: 0.4013 - val_accuracy: 0.8392\n",
            "Epoch 42/100\n",
            "36/36 [==============================] - 1s 15ms/step - loss: 0.3372 - accuracy: 0.8815 - val_loss: 0.4012 - val_accuracy: 0.8412\n",
            "Epoch 43/100\n",
            "36/36 [==============================] - 1s 15ms/step - loss: 0.3365 - accuracy: 0.8806 - val_loss: 0.4017 - val_accuracy: 0.8454\n",
            "Epoch 44/100\n",
            "36/36 [==============================] - 1s 14ms/step - loss: 0.3360 - accuracy: 0.8798 - val_loss: 0.4016 - val_accuracy: 0.8474\n",
            "Epoch 45/100\n",
            "36/36 [==============================] - 1s 15ms/step - loss: 0.3358 - accuracy: 0.8798 - val_loss: 0.4013 - val_accuracy: 0.8474\n",
            "Epoch 46/100\n",
            "36/36 [==============================] - 1s 14ms/step - loss: 0.3361 - accuracy: 0.8780 - val_loss: 0.4013 - val_accuracy: 0.8454\n",
            "Epoch 47/100\n",
            "36/36 [==============================] - 1s 15ms/step - loss: 0.3356 - accuracy: 0.8798 - val_loss: 0.4015 - val_accuracy: 0.8454\n",
            "Epoch 48/100\n",
            "36/36 [==============================] - 1s 14ms/step - loss: 0.3357 - accuracy: 0.8780 - val_loss: 0.4017 - val_accuracy: 0.8454\n",
            "Epoch 49/100\n",
            "36/36 [==============================] - 1s 14ms/step - loss: 0.3359 - accuracy: 0.8806 - val_loss: 0.4013 - val_accuracy: 0.8454\n",
            "Epoch 50/100\n",
            "36/36 [==============================] - 1s 14ms/step - loss: 0.3358 - accuracy: 0.8789 - val_loss: 0.4017 - val_accuracy: 0.8433\n",
            "Epoch 51/100\n",
            "36/36 [==============================] - 1s 15ms/step - loss: 0.3369 - accuracy: 0.8789 - val_loss: 0.4021 - val_accuracy: 0.8454\n",
            "Epoch 52/100\n",
            "36/36 [==============================] - 1s 14ms/step - loss: 0.3353 - accuracy: 0.8806 - val_loss: 0.4016 - val_accuracy: 0.8433\n",
            "Epoch 53/100\n",
            "36/36 [==============================] - 1s 14ms/step - loss: 0.3354 - accuracy: 0.8798 - val_loss: 0.4016 - val_accuracy: 0.8433\n",
            "Epoch 54/100\n",
            "36/36 [==============================] - 1s 15ms/step - loss: 0.3354 - accuracy: 0.8824 - val_loss: 0.4018 - val_accuracy: 0.8454\n",
            "Epoch 55/100\n",
            "36/36 [==============================] - 1s 14ms/step - loss: 0.3349 - accuracy: 0.8798 - val_loss: 0.4013 - val_accuracy: 0.8433\n",
            "Epoch 56/100\n",
            "36/36 [==============================] - 1s 14ms/step - loss: 0.3352 - accuracy: 0.8771 - val_loss: 0.4015 - val_accuracy: 0.8454\n",
            "Epoch 57/100\n",
            "36/36 [==============================] - 1s 15ms/step - loss: 0.3352 - accuracy: 0.8815 - val_loss: 0.4014 - val_accuracy: 0.8433\n",
            "Epoch 58/100\n",
            "36/36 [==============================] - 1s 14ms/step - loss: 0.3352 - accuracy: 0.8798 - val_loss: 0.4011 - val_accuracy: 0.8454\n",
            "Epoch 59/100\n",
            "36/36 [==============================] - 1s 14ms/step - loss: 0.3352 - accuracy: 0.8798 - val_loss: 0.4012 - val_accuracy: 0.8474\n",
            "Epoch 60/100\n",
            "36/36 [==============================] - 1s 14ms/step - loss: 0.3349 - accuracy: 0.8806 - val_loss: 0.4010 - val_accuracy: 0.8474\n",
            "Epoch 61/100\n",
            "36/36 [==============================] - 1s 15ms/step - loss: 0.3347 - accuracy: 0.8806 - val_loss: 0.4013 - val_accuracy: 0.8433\n",
            "Epoch 62/100\n",
            "36/36 [==============================] - 1s 14ms/step - loss: 0.3346 - accuracy: 0.8798 - val_loss: 0.4017 - val_accuracy: 0.8412\n",
            "Epoch 63/100\n",
            "36/36 [==============================] - 1s 14ms/step - loss: 0.3348 - accuracy: 0.8824 - val_loss: 0.4014 - val_accuracy: 0.8433\n",
            "Epoch 64/100\n",
            "36/36 [==============================] - 0s 14ms/step - loss: 0.3349 - accuracy: 0.8806 - val_loss: 0.4017 - val_accuracy: 0.8433\n",
            "Epoch 65/100\n",
            "36/36 [==============================] - 1s 14ms/step - loss: 0.3346 - accuracy: 0.8806 - val_loss: 0.4015 - val_accuracy: 0.8412\n",
            "Epoch 66/100\n",
            "36/36 [==============================] - 1s 15ms/step - loss: 0.3344 - accuracy: 0.8806 - val_loss: 0.4019 - val_accuracy: 0.8392\n",
            "Epoch 67/100\n",
            "36/36 [==============================] - 1s 15ms/step - loss: 0.3341 - accuracy: 0.8798 - val_loss: 0.4022 - val_accuracy: 0.8392\n",
            "Epoch 68/100\n",
            "36/36 [==============================] - 1s 15ms/step - loss: 0.3348 - accuracy: 0.8815 - val_loss: 0.4021 - val_accuracy: 0.8392\n",
            "Epoch 69/100\n",
            "36/36 [==============================] - 1s 14ms/step - loss: 0.3346 - accuracy: 0.8798 - val_loss: 0.4016 - val_accuracy: 0.8392\n",
            "Epoch 70/100\n",
            "36/36 [==============================] - 1s 14ms/step - loss: 0.3349 - accuracy: 0.8798 - val_loss: 0.4017 - val_accuracy: 0.8392\n",
            "Epoch 71/100\n",
            "36/36 [==============================] - 1s 15ms/step - loss: 0.3342 - accuracy: 0.8789 - val_loss: 0.4015 - val_accuracy: 0.8412\n",
            "Epoch 72/100\n",
            "36/36 [==============================] - 1s 15ms/step - loss: 0.3340 - accuracy: 0.8789 - val_loss: 0.4016 - val_accuracy: 0.8392\n",
            "Epoch 73/100\n",
            "36/36 [==============================] - 1s 14ms/step - loss: 0.3341 - accuracy: 0.8806 - val_loss: 0.4014 - val_accuracy: 0.8433\n",
            "Epoch 74/100\n",
            "36/36 [==============================] - 1s 14ms/step - loss: 0.3354 - accuracy: 0.8780 - val_loss: 0.4016 - val_accuracy: 0.8433\n",
            "Epoch 75/100\n",
            "36/36 [==============================] - 1s 14ms/step - loss: 0.3354 - accuracy: 0.8806 - val_loss: 0.4016 - val_accuracy: 0.8392\n",
            "Epoch 76/100\n",
            "36/36 [==============================] - 1s 15ms/step - loss: 0.3342 - accuracy: 0.8789 - val_loss: 0.4013 - val_accuracy: 0.8433\n",
            "Epoch 77/100\n",
            "36/36 [==============================] - 1s 15ms/step - loss: 0.3337 - accuracy: 0.8815 - val_loss: 0.4017 - val_accuracy: 0.8392\n",
            "Epoch 78/100\n",
            "36/36 [==============================] - 1s 15ms/step - loss: 0.3342 - accuracy: 0.8780 - val_loss: 0.4013 - val_accuracy: 0.8412\n",
            "Epoch 79/100\n",
            "36/36 [==============================] - 1s 14ms/step - loss: 0.3341 - accuracy: 0.8815 - val_loss: 0.4015 - val_accuracy: 0.8412\n",
            "Epoch 80/100\n",
            "36/36 [==============================] - 1s 15ms/step - loss: 0.3342 - accuracy: 0.8798 - val_loss: 0.4014 - val_accuracy: 0.8412\n",
            "Epoch 81/100\n",
            "36/36 [==============================] - 1s 14ms/step - loss: 0.3337 - accuracy: 0.8833 - val_loss: 0.4020 - val_accuracy: 0.8412\n",
            "Epoch 82/100\n",
            "36/36 [==============================] - 1s 15ms/step - loss: 0.3339 - accuracy: 0.8789 - val_loss: 0.4021 - val_accuracy: 0.8392\n",
            "Epoch 83/100\n",
            "36/36 [==============================] - 1s 15ms/step - loss: 0.3341 - accuracy: 0.8780 - val_loss: 0.4015 - val_accuracy: 0.8412\n",
            "Epoch 84/100\n",
            "36/36 [==============================] - 1s 14ms/step - loss: 0.3337 - accuracy: 0.8806 - val_loss: 0.4018 - val_accuracy: 0.8371\n",
            "Epoch 85/100\n",
            "36/36 [==============================] - 1s 15ms/step - loss: 0.3338 - accuracy: 0.8780 - val_loss: 0.4017 - val_accuracy: 0.8392\n",
            "Epoch 86/100\n",
            "36/36 [==============================] - 1s 14ms/step - loss: 0.3335 - accuracy: 0.8789 - val_loss: 0.4014 - val_accuracy: 0.8412\n",
            "Epoch 87/100\n",
            "36/36 [==============================] - 1s 14ms/step - loss: 0.3336 - accuracy: 0.8798 - val_loss: 0.4018 - val_accuracy: 0.8371\n",
            "Epoch 88/100\n",
            "36/36 [==============================] - 1s 14ms/step - loss: 0.3334 - accuracy: 0.8789 - val_loss: 0.4018 - val_accuracy: 0.8412\n",
            "Epoch 89/100\n",
            "36/36 [==============================] - 1s 14ms/step - loss: 0.3334 - accuracy: 0.8824 - val_loss: 0.4019 - val_accuracy: 0.8371\n",
            "Epoch 90/100\n",
            "36/36 [==============================] - 1s 15ms/step - loss: 0.3331 - accuracy: 0.8789 - val_loss: 0.4023 - val_accuracy: 0.8392\n",
            "Epoch 91/100\n",
            "36/36 [==============================] - 1s 15ms/step - loss: 0.3335 - accuracy: 0.8798 - val_loss: 0.4015 - val_accuracy: 0.8433\n",
            "Epoch 92/100\n",
            "36/36 [==============================] - 1s 14ms/step - loss: 0.3336 - accuracy: 0.8824 - val_loss: 0.4019 - val_accuracy: 0.8392\n",
            "Epoch 93/100\n",
            "36/36 [==============================] - 1s 15ms/step - loss: 0.3337 - accuracy: 0.8780 - val_loss: 0.4023 - val_accuracy: 0.8392\n",
            "Epoch 94/100\n",
            "36/36 [==============================] - 1s 15ms/step - loss: 0.3334 - accuracy: 0.8815 - val_loss: 0.4018 - val_accuracy: 0.8371\n",
            "Epoch 95/100\n",
            "36/36 [==============================] - 1s 15ms/step - loss: 0.3343 - accuracy: 0.8824 - val_loss: 0.4020 - val_accuracy: 0.8392\n",
            "Epoch 96/100\n",
            "36/36 [==============================] - 1s 14ms/step - loss: 0.3343 - accuracy: 0.8806 - val_loss: 0.4022 - val_accuracy: 0.8412\n",
            "Epoch 97/100\n",
            "36/36 [==============================] - 1s 15ms/step - loss: 0.3332 - accuracy: 0.8824 - val_loss: 0.4018 - val_accuracy: 0.8392\n",
            "Epoch 98/100\n",
            "36/36 [==============================] - 1s 14ms/step - loss: 0.3333 - accuracy: 0.8798 - val_loss: 0.4019 - val_accuracy: 0.8392\n",
            "Epoch 99/100\n",
            "36/36 [==============================] - 1s 15ms/step - loss: 0.3334 - accuracy: 0.8806 - val_loss: 0.4023 - val_accuracy: 0.8412\n",
            "Epoch 100/100\n",
            "36/36 [==============================] - 1s 14ms/step - loss: 0.3333 - accuracy: 0.8780 - val_loss: 0.4020 - val_accuracy: 0.8392\n",
            "CPU times: user 1min 7s, sys: 4.49 s, total: 1min 12s\n",
            "Wall time: 52.1 s\n"
          ],
          "name": "stdout"
        }
      ]
    },
    {
      "cell_type": "code",
      "metadata": {
        "id": "dGhsLGhtJz_7"
      },
      "source": [
        "loss.extend(history_tmp.history['loss'])\n",
        "val_loss.extend(history_tmp.history['val_loss'])\n",
        "acc.extend(history_tmp.history['accuracy'])\n",
        "val_acc.extend(history_tmp.history['val_accuracy'])"
      ],
      "execution_count": 143,
      "outputs": []
    },
    {
      "cell_type": "code",
      "metadata": {
        "colab": {
          "base_uri": "https://localhost:8080/",
          "height": 530
        },
        "id": "HHo8OSbwe4b8",
        "outputId": "74f9a1e5-c4bb-4504-ef62-9b376855df4d"
      },
      "source": [
        "plt.plot(loss)\n",
        "plt.plot(val_loss)\n",
        "plt.show()\n",
        "plt.plot(acc)\n",
        "plt.plot(val_acc)"
      ],
      "execution_count": 144,
      "outputs": [
        {
          "output_type": "display_data",
          "data": {
            "image/png": "[encoded data removed]",
            "text/plain": [
              "<Figure size 432x288 with 1 Axes>"
            ]
          },
          "metadata": {
            "tags": [],
            "needs_background": "light"
          }
        },
        {
          "output_type": "execute_result",
          "data": {
            "text/plain": [
              "[<matplotlib.lines.Line2D at 0x7f11b6832a10>]"
            ]
          },
          "metadata": {
            "tags": []
          },
          "execution_count": 144
        },
        {
          "output_type": "display_data",
          "data": {
            "image/png": "[encoded data removed]",
            "text/plain": [
              "<Figure size 432x288 with 1 Axes>"
            ]
          },
          "metadata": {
            "tags": [],
            "needs_background": "light"
          }
        }
      ]
    },
    {
      "cell_type": "markdown",
      "metadata": {
        "id": "o7lvH8TN8968"
      },
      "source": [
        "ทดสอบ โดยหาชื่อมาลอง Predict ดู"
      ]
    },
    {
      "cell_type": "code",
      "metadata": {
        "colab": {
          "base_uri": "https://localhost:8080/"
        },
        "id": "kRUikxcdkviM",
        "outputId": "84189552-edb4-4b0b-b1e3-b41c500ef88f"
      },
      "source": [
        "import  numpy as np\n",
        "name = \"รักษา\"\n",
        "arr = [int(i) for i in name2arr(name).split(\",\")]\n",
        "dataTest = tf.keras.preprocessing.sequence.pad_sequences(np.array([arr]), maxlen=maxlen, dtype='int32', padding='pre',truncating='pre', value=0.0)\n",
        "model.predict(dataTest)"
      ],
      "execution_count": 156,
      "outputs": [
        {
          "output_type": "execute_result",
          "data": {
            "text/plain": [
              "array([[0.84173465]], dtype=float32)"
            ]
          },
          "metadata": {
            "tags": []
          },
          "execution_count": 156
        }
      ]
    },
    {
      "cell_type": "markdown",
      "metadata": {
        "id": "yzTjTUbR9Ykc"
      },
      "source": [
        "#Evaluation"
      ]
    },
    {
      "cell_type": "code",
      "metadata": {
        "id": "Iu3cCO2foOAs"
      },
      "source": [
        "from sklearn import metrics"
      ],
      "execution_count": 157,
      "outputs": []
    },
    {
      "cell_type": "code",
      "metadata": {
        "colab": {
          "base_uri": "https://localhost:8080/"
        },
        "id": "EB4aL2OAkQeR",
        "outputId": "a1ba8e54-c901-4650-fd02-040f39946c47"
      },
      "source": [
        "pred = model.predict_classes(X_test)"
      ],
      "execution_count": 158,
      "outputs": [
        {
          "output_type": "stream",
          "text": [
            "/usr/local/lib/python3.7/dist-packages/tensorflow/python/keras/engine/sequential.py:450: UserWarning: `model.predict_classes()` is deprecated and will be removed after 2021-01-01. Please use instead:* `np.argmax(model.predict(x), axis=-1)`,   if your model does multi-class classification   (e.g. if it uses a `softmax` last-layer activation).* `(model.predict(x) > 0.5).astype(\"int32\")`,   if your model does binary classification   (e.g. if it uses a `sigmoid` last-layer activation).\n",
            "  warnings.warn('`model.predict_classes()` is deprecated and '\n"
          ],
          "name": "stderr"
        }
      ]
    },
    {
      "cell_type": "code",
      "metadata": {
        "colab": {
          "base_uri": "https://localhost:8080/"
        },
        "id": "0WHblRE0oi1T",
        "outputId": "fb2d90fc-a18d-4f4a-820a-46d63413c9c8"
      },
      "source": [
        "print(metrics.classification_report(y_test,pred))"
      ],
      "execution_count": 159,
      "outputs": [
        {
          "output_type": "stream",
          "text": [
            "              precision    recall  f1-score   support\n",
            "\n",
            "           0       0.90      0.74      0.81       226\n",
            "           1       0.73      0.89      0.81       178\n",
            "\n",
            "    accuracy                           0.81       404\n",
            "   macro avg       0.82      0.82      0.81       404\n",
            "weighted avg       0.83      0.81      0.81       404\n",
            "\n"
          ],
          "name": "stdout"
        }
      ]
    },
    {
      "cell_type": "code",
      "metadata": {
        "id": "eTgt_xWEoqFy"
      },
      "source": [
        "pred = model.predict(X_test)\n",
        "fpr, tpr, thresholds = metrics.roc_curve(y_test,pred)"
      ],
      "execution_count": 160,
      "outputs": []
    },
    {
      "cell_type": "code",
      "metadata": {
        "id": "tXLeI6rg6KYN",
        "colab": {
          "base_uri": "https://localhost:8080/",
          "height": 282
        },
        "outputId": "8e0ae3d8-894a-4049-c3dd-b2306a378fb7"
      },
      "source": [
        "plt.grid()\n",
        "plt.plot(fpr,tpr)"
      ],
      "execution_count": 161,
      "outputs": [
        {
          "output_type": "execute_result",
          "data": {
            "text/plain": [
              "[<matplotlib.lines.Line2D at 0x7f11b6590150>]"
            ]
          },
          "metadata": {
            "tags": []
          },
          "execution_count": 161
        },
        {
          "output_type": "display_data",
          "data": {
            "image/png": "[encoded data removed]",
            "text/plain": [
              "<Figure size 432x288 with 1 Axes>"
            ]
          },
          "metadata": {
            "tags": [],
            "needs_background": "light"
          }
        }
      ]
    },
    {
      "cell_type": "code",
      "metadata": {
        "id": "0JIaM1haP_k3"
      },
      "source": [
        ""
      ],
      "execution_count": null,
      "outputs": []
    }
  ]
}